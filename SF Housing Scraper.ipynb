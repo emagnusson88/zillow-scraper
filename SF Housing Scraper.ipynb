{
 "cells": [
  {
   "cell_type": "markdown",
   "metadata": {},
   "source": [
    "# Extract & analyze San Francisco housing data\n",
    "- using: Zillow via Beautiful Soup & Selenium\n",
    "    - ex) Reddit uses Beautifu Soup to (try to) pull a representative image from posted links\n",
    "- extracting: Address, Neighborhood, Price, Zestimate, Facts and Features, Posting Traffic, Posting Interest, and Posting Age\n",
    "- purpose: capture listing data for analysis\n",
    "- sources:\n",
    "    - got started with: https://medium.com/@ben.sturm/scraping-house-listing-data-using-selenium-and-beautiful-soup-1cbb94ba9492"
   ]
  },
  {
   "cell_type": "markdown",
   "metadata": {},
   "source": [
    "#### imports"
   ]
  },
  {
   "cell_type": "code",
   "execution_count": 48,
   "metadata": {},
   "outputs": [],
   "source": [
    "import os\n",
    "from bs4 import BeautifulSoup\n",
    "from selenium import webdriver\n",
    "from selenium.webdriver.common.keys import Keys\n",
    "from selenium.webdriver.common.by import By\n",
    "import time\n",
    "import sys\n",
    "import numpy as np\n",
    "import pandas as pd\n",
    "import regex as re\n",
    "import selenium\n",
    "from selenium.webdriver.common.by import By\n",
    "from selenium.webdriver.support.ui import WebDriverWait\n",
    "from selenium.webdriver.support import expected_conditions as EC\n",
    "from selenium.common.exceptions import TimeoutException\n",
    "from selenium.common.exceptions import NoSuchElementException"
   ]
  },
  {
   "cell_type": "markdown",
   "metadata": {},
   "source": [
    "#### function to alter Chrome window dimensions"
   ]
  },
  {
   "cell_type": "code",
   "execution_count": 99,
   "metadata": {},
   "outputs": [],
   "source": [
    "def set_viewport_size(driver, width, height):\n",
    "    window_size = driver.execute_script(\"\"\"\n",
    "        return [window.outerWidth - window.innerWidth + arguments[0],\n",
    "          window.outerHeight - window.innerHeight + arguments[1]];\n",
    "        \"\"\", width, height)\n",
    "    driver.set_window_size(*window_size)"
   ]
  },
  {
   "cell_type": "markdown",
   "metadata": {},
   "source": [
    "#### set up chromedriver"
   ]
  },
  {
   "cell_type": "code",
   "execution_count": 100,
   "metadata": {},
   "outputs": [
    {
     "name": "stdout",
     "output_type": "stream",
     "text": [
      "--user-agent=\"Mozilla/5.0 (X11; CrOS i686 3912.101.0) AppleWebKit/537.36 (KHTML, like Gecko) Chrome/27.0.1453.116 Safari/537.36\"\n"
     ]
    },
    {
     "name": "stderr",
     "output_type": "stream",
     "text": [
      "C:\\Users\\emag3\\Anaconda3\\lib\\site-packages\\ipykernel_launcher.py:12: DeprecationWarning: use options instead of chrome_options\n",
      "  if sys.path[0] == '':\n"
     ]
    }
   ],
   "source": [
    "from fake_useragent import UserAgent\n",
    "\n",
    "ua = UserAgent()\n",
    "useragent = ua.random\n",
    "options = webdriver.ChromeOptions()\n",
    "print('--user-agent=\"'+str(useragent)+'\"')\n",
    "\n",
    "options.add_argument(f'user-agent={useragent}') #Path to random chrome profile\n",
    "chrome_path = \"c:\\\\bin\\\\chromedriver\" # path to the chromedriver executable\n",
    "driver = webdriver.Chrome(executable_path=chrome_path, chrome_options=options)\n",
    "driver.wait=WebDriverWait(driver, 10)\n",
    "\n",
    "set_viewport_size(driver, 800, 600) # set the viewport size to 800 x 600"
   ]
  },
  {
   "cell_type": "markdown",
   "metadata": {},
   "source": [
    "#### recaptcha handling"
   ]
  },
  {
   "cell_type": "code",
   "execution_count": 144,
   "metadata": {},
   "outputs": [],
   "source": [
    "def _is_element_displayed(driver, elem_text, elem_type):\n",
    "    if elem_type == \"class\":\n",
    "        try:\n",
    "            out = driver.find_element_by_class_name(elem_text).is_displayed()\n",
    "        except (NoSuchElementException, TimeoutException):\n",
    "            out = False\n",
    "    elif elem_type == \"css\":\n",
    "        try:\n",
    "            out = driver.find_element_by_css_selector(elem_text).is_displayed()\n",
    "        except (NoSuchElementException, TimeoutException):\n",
    "            out = False\n",
    "    else:\n",
    "        raise ValueError(\"arg 'elem_type' must be either 'class' or 'css'\")\n",
    "    return(out)\n",
    "\n",
    "\n",
    "# If captcha page is displayed, this function will run indefinitely until the \n",
    "# captcha page is no longer displayed (checks for it every 30 seconds).\n",
    "# Purpose of the function is to \"pause\" execution of the scraper until the \n",
    "# user has manually completed the captcha requirements.\n",
    "def _pause_for_captcha(driver):\n",
    "    while True:\n",
    "        time.sleep(30)\n",
    "        if not _is_element_displayed(driver, \"captcha-container\", \"class\"):\n",
    "            break\n",
    "\n",
    "            \n",
    "def check_for_captcha(driver):\n",
    "    if _is_element_displayed(driver, \"captcha-container\", \"class\"):\n",
    "        print(\"\\nCAPTCHA!\\n\"\\\n",
    "              \"Manually complete the captcha requirements.\\n\"\\\n",
    "              \"Once that's done, if the program was in the middle of scraping \"\\\n",
    "              \"(and is still running), it should resume scraping after ~30 seconds.\")\n",
    "        _pause_for_captcha(driver)\n",
    "\n",
    "\n",
    "def navigate_to_website(driver, site):\n",
    "    driver.get(site)\n",
    "    # Check to make sure a captcha page is not displayed.\n",
    "    check_for_captcha(driver)"
   ]
  },
  {
   "cell_type": "markdown",
   "metadata": {},
   "source": [
    "#### checking python path"
   ]
  },
  {
   "cell_type": "code",
   "execution_count": 101,
   "metadata": {},
   "outputs": [
    {
     "data": {
      "text/plain": [
       "'C:\\\\Users\\\\emag3\\\\Anaconda3\\\\python.exe'"
      ]
     },
     "execution_count": 101,
     "metadata": {},
     "output_type": "execute_result"
    }
   ],
   "source": [
    "sys.executable"
   ]
  },
  {
   "cell_type": "markdown",
   "metadata": {},
   "source": [
    "#### open Chrome window with unfiltered SF Zillow link"
   ]
  },
  {
   "cell_type": "code",
   "execution_count": 102,
   "metadata": {},
   "outputs": [],
   "source": [
    "zillow_sf_url = \"https://www.zillow.com/homes/San-Francisco-CA_rb/\"\n",
    "driver.get(zillow_sf_url)"
   ]
  },
  {
   "cell_type": "markdown",
   "metadata": {},
   "source": [
    "#### test: extracting links for each listing"
   ]
  },
  {
   "cell_type": "code",
   "execution_count": null,
   "metadata": {},
   "outputs": [],
   "source": [
    "soup = BeautifulSoup(driver.page_source, 'html.parser')\n",
    "listings = soup.find_all(\"a\", class_=\"list-card-link\")\n",
    "listings[:5]"
   ]
  },
  {
   "cell_type": "markdown",
   "metadata": {},
   "source": [
    "#### test: extracting the link to navigate to the next page of listings"
   ]
  },
  {
   "cell_type": "code",
   "execution_count": null,
   "metadata": {},
   "outputs": [],
   "source": [
    "next_button = soup.find_all(\"li\", class_=\"zsg-pagination-next\")\n",
    "\n",
    "print('https://www.zillow.com'+next_button[0].find('a').get('href',''))\n",
    " \n",
    "print(a.find('a').get('href','') for a in next_button)"
   ]
  },
  {
   "cell_type": "markdown",
   "metadata": {},
   "source": [
    "#### function returning every listing link (up to 20 pages worth)"
   ]
  },
  {
   "cell_type": "code",
   "execution_count": 55,
   "metadata": {},
   "outputs": [],
   "source": [
    "def get_house_links(url, driver, pages=20):\n",
    "    house_links=[]\n",
    "    driver.get(url)\n",
    "    for i in range(pages):\n",
    "        soup = BeautifulSoup(driver.page_source, 'html.parser')\n",
    "        listings = soup.find_all(\"a\", class_=\"list-card-link\")\n",
    "        # interested in the href attribute b/c it contains the actual clickable link\n",
    "        page_data = [row['href'] for row in listings]\n",
    "        house_links.append(page_data)\n",
    "        time.sleep(2)\n",
    "        next_button = soup.find_all(\"li\", class_=\"zsg-pagination-next\")\n",
    "        time.sleep(2)\n",
    "        if next_button[0].find('a') is not None:\n",
    "            next_button_link = 'https://www.zillow.com'+next_button[0].find('a').get('href','')\n",
    "        else:\n",
    "            break\n",
    "\n",
    "        if i<19:\n",
    "            driver.get(next_button_link)\n",
    "    \n",
    "    return house_links"
   ]
  },
  {
   "cell_type": "markdown",
   "metadata": {},
   "source": [
    "#### test: get_house_links"
   ]
  },
  {
   "cell_type": "code",
   "execution_count": 59,
   "metadata": {},
   "outputs": [],
   "source": [
    "zillow_sf_url = \"https://www.zillow.com/homes/San-Francisco-CA_rb/\"\n",
    "links = get_house_links(zillow_sf_url, driver)"
   ]
  },
  {
   "cell_type": "markdown",
   "metadata": {},
   "source": [
    "#### capture every other URL from links in order to avoid duplicates"
   ]
  },
  {
   "cell_type": "code",
   "execution_count": 97,
   "metadata": {
    "collapsed": true,
    "jupyter": {
     "outputs_hidden": true
    }
   },
   "outputs": [
    {
     "name": "stdout",
     "output_type": "stream",
     "text": [
      "['https://www.zillow.com/homedetails/1538-Visitacion-Ave-San-Francisco-CA-94134/15174451_zpid/', 'https://www.zillow.com/community/mira/2082609849_zpid/', 'https://www.zillow.com/community/san-francisco-shipyard-palisades/2083269123_zpid/', 'https://www.zillow.com/community/mira/2082609853_zpid/', 'https://www.zillow.com/homedetails/49-53-Guerrero-St-San-Francisco-CA-94103/2084992008_zpid/', 'https://www.zillow.com/community/san-francisco-shipyard-landing/2082903489_zpid/', 'https://www.zillow.com/community/san-francisco-shipyard-landing/2083281869_zpid/', 'https://www.zillow.com/homedetails/83-Mcallister-St-APT-204-San-Francisco-CA-94102/89240044_zpid/', 'https://www.zillow.com/community/mira/2082609854_zpid/', 'https://www.zillow.com/community/one-mission-bay/2084054918_zpid/', 'https://www.zillow.com/homedetails/355-1st-St-S-505-Aka-355-01st-St-San-Francisco-CA-94105/2081645302_zpid/', 'https://www.zillow.com/homedetails/201-Harrison-St-APT-823-San-Francisco-CA-94105/15148349_zpid/', 'https://www.zillow.com/homedetails/2028-14th-Ave-San-Francisco-CA-94116/15115447_zpid/', 'https://www.zillow.com/community/san-francisco-shipyard-monarch/2083886468_zpid/', 'https://www.zillow.com/community/lumina/2086110487_zpid/', 'https://www.zillow.com/community/mira/2082474858_zpid/', 'https://www.zillow.com/community/san-francisco-shipyard-monarch/2089880719_zpid/', 'https://www.zillow.com/community/one-mission-bay/2084054919_zpid/', 'https://www.zillow.com/community/mira/2082077617_zpid/', 'https://www.zillow.com/community/lumina/2086110486_zpid/', 'https://www.zillow.com/community/san-francisco-shipyard-landing/2083281871_zpid/', 'https://www.zillow.com/community/mira/2082609850_zpid/', 'https://www.zillow.com/community/181-fremont/2093048630_zpid/', 'https://www.zillow.com/community/one-mission-bay/2084054921_zpid/', 'https://www.zillow.com/community/181-fremont/2093048632_zpid/', 'https://www.zillow.com/community/mira/2082609852_zpid/', 'https://www.zillow.com/community/one-mission-bay/2084054922_zpid/', 'https://www.zillow.com/homedetails/403-Main-St-APT-605N-San-Francisco-CA-94105/15148622_zpid/', 'https://www.zillow.com/homedetails/1631-Quintara-St-San-Francisco-CA-94116/15117823_zpid/', 'https://www.zillow.com/community/mira/2082609848_zpid/', 'https://www.zillow.com/community/san-francisco-shipyard-monarch/2086796159_zpid/', 'https://www.zillow.com/community/san-francisco-shipyard-landing/2083281868_zpid/', 'https://www.zillow.com/community/san-francisco-shipyard-monarch/2086796161_zpid/', 'https://www.zillow.com/homedetails/1070-Green-St-APT-801-San-Francisco-CA-94133/15066019_zpid/', 'https://www.zillow.com/homedetails/950-Tennessee-St-101-San-Francisco-CA-94107/2081694854_zpid/', 'https://www.zillow.com/homedetails/950-Tennessee-St-122-San-Francisco-CA-94107/2081694902_zpid/', 'https://www.zillow.com/homedetails/110-Channel-St-UNIT-324-San-Francisco-CA-94158/249665066_zpid/', 'https://www.zillow.com/homedetails/950-Tennessee-St-114-San-Francisco-CA-94107/2081695017_zpid/', 'https://www.zillow.com/homedetails/950-Tennessee-St-208-San-Francisco-CA-94107/2081695197_zpid/', 'https://www.zillow.com/homedetails/950-Tennessee-St-109-San-Francisco-CA-94107/2081695488_zpid/', 'https://www.zillow.com/homedetails/47-Bowman-Ct-San-Francisco-CA-94124/15153491_zpid/', 'https://www.zillow.com/homedetails/429-Douglass-St-San-Francisco-CA-94114/15130344_zpid/', 'https://www.zillow.com/homedetails/46-Chicago-Way-San-Francisco-CA-94112/15177508_zpid/', 'https://www.zillow.com/homedetails/2083-45th-Ave-San-Francisco-CA-94116/15116561_zpid/', 'https://www.zillow.com/homedetails/651-19th-Ave-San-Francisco-CA-94121/15097834_zpid/', 'https://www.zillow.com/homedetails/521-Point-Lobos-Ave-San-Francisco-CA-94121/15092848_zpid/', 'https://www.zillow.com/homedetails/994-Junipero-Serra-Blvd-San-Francisco-CA-94132/15197175_zpid/', 'https://www.zillow.com/homedetails/647-34th-Ave-San-Francisco-CA-94121/15095865_zpid/', 'https://www.zillow.com/homedetails/323-29th-St-C101-San-Francisco-CA-94131/53153667_zpid/', 'https://www.zillow.com/homedetails/1110-Green-St-San-Francisco-CA-94109/15066047_zpid/', 'https://www.zillow.com/homedetails/220-Lombard-St-APT-219-San-Francisco-CA-94111/15064057_zpid/', 'https://www.zillow.com/homedetails/3466-Jackson-St-San-Francisco-CA-94118/15080985_zpid/', 'https://www.zillow.com/homedetails/2028-14th-Ave-San-Francisco-CA-94116/15115447_zpid/', 'https://www.zillow.com/homedetails/131-Wilmot-St-San-Francisco-CA-94115/15075291_zpid/', 'https://www.zillow.com/homedetails/501-43rd-Ave-APT-4-San-Francisco-CA-94121/15093163_zpid/', 'https://www.zillow.com/homedetails/1298-Treat-Ave-San-Francisco-CA-94110/2108857638_zpid/', 'https://www.zillow.com/homedetails/574-Natoma-St-APT-402-San-Francisco-CA-94103/119684755_zpid/', 'https://www.zillow.com/homedetails/2820-Scott-St-San-Francisco-CA-94123/2143821426_zpid/', 'https://www.zillow.com/homedetails/1502-Noe-St-San-Francisco-CA-94131/15182903_zpid/', 'https://www.zillow.com/homedetails/70-Rockaway-Ave-San-Francisco-CA-94127/15133734_zpid/', 'https://www.zillow.com/homedetails/3316-3320-Scott-St-San-Francisco-CA-94123/2085020527_zpid/', 'https://www.zillow.com/homedetails/2695-23rd-Ave-San-Francisco-CA-94116/15125244_zpid/', 'https://www.zillow.com/homedetails/226-Roosevelt-Way-226-San-Francisco-CA-94114/2083363212_zpid/', 'https://www.zillow.com/homedetails/301-Crescent-Ct-APT-3414-San-Francisco-CA-94134/79847572_zpid/', 'https://www.zillow.com/homedetails/684-Clarendon-Ave-San-Francisco-CA-94131/15130120_zpid/', 'https://www.zillow.com/homedetails/252-Collingwood-St-San-Francisco-CA-94114/15129351_zpid/', 'https://www.zillow.com/homedetails/2075-Quesada-Ave-San-Francisco-CA-94124/15156804_zpid/', 'https://www.zillow.com/homedetails/3-Clarendon-Ave-San-Francisco-CA-94114/15129696_zpid/', 'https://www.zillow.com/homedetails/1345-16th-Ave-APT-3-San-Francisco-CA-94122/2104088326_zpid/', 'https://www.zillow.com/homedetails/152-Elsie-St-San-Francisco-CA-94110/125243762_zpid/', 'https://www.zillow.com/homedetails/388-Faxon-Ave-8-San-Francisco-CA-94112/15189345_zpid/', 'https://www.zillow.com/homedetails/882-25th-Ave-San-Francisco-CA-94121/15099504_zpid/', 'https://www.zillow.com/homedetails/601-Van-Ness-Ave-APT-205-San-Francisco-CA-94102/15077729_zpid/', 'https://www.zillow.com/homedetails/1631-Quintara-St-San-Francisco-CA-94116/15117823_zpid/', 'https://www.zillow.com/homedetails/1250-Jones-St-UNIT-1901-San-Francisco-CA-94109/15067921_zpid/', 'https://www.zillow.com/homedetails/1328-York-St-San-Francisco-CA-94110/15152614_zpid/', 'https://www.zillow.com/homedetails/4763-19th-St-San-Francisco-CA-94114/15129763_zpid/', 'https://www.zillow.com/homedetails/343-345-Russia-Ave-San-Francisco-CA-94112/241587296_zpid/', 'https://www.zillow.com/homedetails/474-Frederick-St-San-Francisco-CA-94117/2082938023_zpid/', 'https://www.zillow.com/homedetails/95-Ora-Way-UNIT-F211-San-Francisco-CA-94131/2082949351_zpid/', 'https://www.zillow.com/homedetails/955-Union-St-San-Francisco-CA-94133/2087374096_zpid/', 'https://www.zillow.com/community/lumina/2086110486_zpid/', 'https://www.zillow.com/homedetails/260-King-St-UNIT-717-San-Francisco-CA-94107/69819628_zpid/', 'https://www.zillow.com/homedetails/403-Main-St-APT-605N-San-Francisco-CA-94105/15148622_zpid/', 'https://www.zillow.com/homedetails/280-Funston-Ave-San-Francisco-CA-94118/69819960_zpid/', 'https://www.zillow.com/homedetails/1122-Page-St-APT-4-San-Francisco-CA-94117/2127546190_zpid/', 'https://www.zillow.com/homedetails/615-Missouri-St-San-Francisco-CA-94107/15150813_zpid/', 'https://www.zillow.com/homedetails/2386-Union-St-San-Francisco-CA-94123/15071814_zpid/', 'https://www.zillow.com/homedetails/901-Bay-Shore-Blvd-APT-208-San-Francisco-CA-94124/80738875_zpid/', 'https://www.zillow.com/homedetails/1863-19th-Ave-San-Francisco-CA-94122/64971493_zpid/', 'https://www.zillow.com/homedetails/765-Market-St-APT-34A-San-Francisco-CA-94103/63194815_zpid/', 'https://www.zillow.com/homedetails/1283-Portola-Dr-San-Francisco-CA-94127/89237679_zpid/', 'https://www.zillow.com/homedetails/2936-24th-Ave-San-Francisco-CA-94132/15196443_zpid/', 'https://www.zillow.com/homedetails/2000-Washington-St-5-San-Francisco-CA-94109/80738035_zpid/', 'https://www.zillow.com/homedetails/15-19-Landers-St-19-San-Francisco-CA-94114/2081754095_zpid/', 'https://www.zillow.com/homedetails/2863-Green-St-San-Francisco-CA-94123/15080757_zpid/', 'https://www.zillow.com/homedetails/344-Holladay-Ave-San-Francisco-CA-94110/15160882_zpid/', 'https://www.zillow.com/homedetails/1000-N-Point-St-APT-203-San-Francisco-CA-94109/80731741_zpid/', 'https://www.zillow.com/homedetails/2006-24th-Ave-San-Francisco-CA-94116/15115929_zpid/', 'https://www.zillow.com/homedetails/1323-1325-35th-Ave-San-Francisco-CA-94122/2088842454_zpid/', 'https://www.zillow.com/homedetails/140-Clarendon-Ave-San-Francisco-CA-94114/15129075_zpid/', 'https://www.zillow.com/homedetails/9-Ora-Way-San-Francisco-CA-94131/15199754_zpid/', 'https://www.zillow.com/homedetails/2691-Alemany-Blvd-San-Francisco-CA-94112/15192740_zpid/', 'https://www.zillow.com/homedetails/1151-Sutter-St-102-San-Francisco-CA-94109/2138358025_zpid/', 'https://www.zillow.com/homedetails/354-356-6th-Ave-San-Francisco-CA-94118/2082537485_zpid/', 'https://www.zillow.com/homedetails/1667-Silver-Ave-San-Francisco-CA-94124/2128171278_zpid/', 'https://www.zillow.com/homedetails/2973-Jackson-St-San-Francisco-CA-94115/2082806743_zpid/', 'https://www.zillow.com/homedetails/2826-21st-St-San-Francisco-CA-94110/2081867788_zpid/', 'https://www.zillow.com/homedetails/183-Sage-St-Daly-City-CA-94014/2081874440_zpid/', 'https://www.zillow.com/homedetails/950-Duncan-St-APT-201E-San-Francisco-CA-94131/15199089_zpid/', 'https://www.zillow.com/homedetails/403-Main-St-APT-712-San-Francisco-CA-94105/15148649_zpid/', 'https://www.zillow.com/homedetails/631-Ofarrell-St-APT-1116-San-Francisco-CA-94109/15069516_zpid/', 'https://www.zillow.com/homedetails/212-Putnam-St-San-Francisco-CA-94110/15163982_zpid/', 'https://www.zillow.com/homedetails/123-Bernard-St-San-Francisco-CA-94109/15066996_zpid/', 'https://www.zillow.com/homedetails/950-Tennessee-St-122-San-Francisco-CA-94107/2081694902_zpid/', 'https://www.zillow.com/homedetails/201-Sansome-St-UNIT-404-San-Francisco-CA-94104/79843297_zpid/', 'https://www.zillow.com/homedetails/461-32nd-Ave-San-Francisco-CA-94121/2082302355_zpid/', 'https://www.zillow.com/homedetails/594-598-Moscow-St-San-Francisco-CA-94112/2081709680_zpid/', 'https://www.zillow.com/homedetails/201-Harrison-St-APT-324-San-Francisco-CA-94105/15148208_zpid/', 'https://www.zillow.com/homedetails/1216-47th-Ave-1-San-Francisco-CA-94122/2083865683_zpid/', 'https://www.zillow.com/homedetails/83-Mcallister-St-APT-203-San-Francisco-CA-94102/89237488_zpid/', 'https://www.zillow.com/homedetails/123-9th-Ave-San-Francisco-CA-94118/2091063229_zpid/', 'https://www.zillow.com/homedetails/1216-Newhall-St-San-Francisco-CA-94124/15156068_zpid/', 'https://www.zillow.com/homedetails/16-Knott-Ct-San-Francisco-CA-94112/15179756_zpid/', 'https://www.zillow.com/homedetails/41-Cuvier-St-San-Francisco-CA-94112/2082017065_zpid/', 'https://www.zillow.com/homedetails/210-Laidley-St-San-Francisco-CA-94131/15184125_zpid/', 'https://www.zillow.com/homedetails/1314-Larkin-St-San-Francisco-CA-94109/2082636935_zpid/', 'https://www.zillow.com/homedetails/630-Natoma-St-3-San-Francisco-CA-94103/2083295034_zpid/', 'https://www.zillow.com/homedetails/1840-Washington-St-APT-702-San-Francisco-CA-94109/117673807_zpid/', 'https://www.zillow.com/homedetails/631-Ofarrell-St-APT-507-San-Francisco-CA-94109/15069431_zpid/', 'https://www.zillow.com/homedetails/731-Noe-St-San-Francisco-CA-94114/15145363_zpid/', 'https://www.zillow.com/homedetails/322-6th-St-APT-2-San-Francisco-CA-94103/80740813_zpid/', 'https://www.zillow.com/homedetails/901-Bay-Shore-Blvd-APT-206-San-Francisco-CA-94124/80732953_zpid/', 'https://www.zillow.com/homedetails/2100-Pacific-Ave-San-Francisco-CA-94115/2133554343_zpid/', 'https://www.zillow.com/homedetails/1070-Green-St-APT-801-San-Francisco-CA-94133/15066019_zpid/', 'https://www.zillow.com/homedetails/950-Tennessee-St-114-San-Francisco-CA-94107/2081695017_zpid/', 'https://www.zillow.com/homedetails/1177-California-St-APT-1211-San-Francisco-CA-94108/15068432_zpid/', 'https://www.zillow.com/community/mira/2082609854_zpid/', 'https://www.zillow.com/homedetails/340-Brentwood-Ave-San-Francisco-CA-94127/15137316_zpid/', 'https://www.zillow.com/homedetails/3846-25th-St-San-Francisco-CA-94114/15180828_zpid/', 'https://www.zillow.com/homedetails/2500-Steiner-St-UNIT-3-San-Francisco-CA-94115/80744568_zpid/', 'https://www.zillow.com/homedetails/2437-2441-Post-St-San-Francisco-CA-94115/2081758796_zpid/', 'https://www.zillow.com/homedetails/1269-Lombard-St-San-Francisco-CA-94109/2081765741_zpid/', 'https://www.zillow.com/homedetails/643-40th-Ave-San-Francisco-CA-94121/15096117_zpid/', 'https://www.zillow.com/homedetails/438-29th-St-San-Francisco-CA-94131/15183205_zpid/', 'https://www.zillow.com/homedetails/234-Campbell-Ave-San-Francisco-CA-94134/15173269_zpid/', 'https://www.zillow.com/homedetails/425-1st-St-UNIT-1902-San-Francisco-CA-94105/82786094_zpid/', 'https://www.zillow.com/homedetails/483-485-Oak-St-Aka-483-Oak-St-San-Francisco-CA-94102/2082519038_zpid/', 'https://www.zillow.com/homedetails/481-Clementina-St-APT-E-San-Francisco-CA-94103/2088659233_zpid/', 'https://www.zillow.com/community/san-francisco-shipyard-landing/2082903489_zpid/', 'https://www.zillow.com/homedetails/3129-Mission-St-APT-3-San-Francisco-CA-94110/64971740_zpid/', 'https://www.zillow.com/homedetails/668-672a-Waller-St-672-San-Francisco-CA-94117/2081730673_zpid/', 'https://www.zillow.com/homedetails/827-N-Point-St-1-San-Francisco-CA-94109/123598351_zpid/', 'https://www.zillow.com/homedetails/2208-Mission-St-UNIT-404-San-Francisco-CA-94110/96043108_zpid/', 'https://www.zillow.com/homedetails/2047-15th-St-San-Francisco-CA-94114/2081847619_zpid/', 'https://www.zillow.com/homedetails/212-Summit-Way-San-Francisco-CA-94132/184818400_zpid/', 'https://www.zillow.com/homedetails/86-Webster-St-San-Francisco-CA-94117/15079408_zpid/', 'https://www.zillow.com/homedetails/601-Van-Ness-Ave-APT-812-San-Francisco-CA-94102/15077817_zpid/', 'https://www.zillow.com/homedetails/259-Wilson-St-San-Francisco-CA-94112/15196115_zpid/', 'https://www.zillow.com/homedetails/29A-Parker-Ave-San-Francisco-CA-94118/2082807736_zpid/', 'https://www.zillow.com/homedetails/653-Dolores-St-San-Francisco-CA-94110/241586282_zpid/', 'https://www.zillow.com/homedetails/1350-California-St-APT-206-San-Francisco-CA-94109/15068272_zpid/', 'https://www.zillow.com/homedetails/401-Harrison-St-APT-11G-San-Francisco-CA-94105/249698376_zpid/', 'https://www.zillow.com/homedetails/34-Portola-Dr-San-Francisco-CA-94131/15132184_zpid/', 'https://www.zillow.com/community/mira/2082609853_zpid/', 'https://www.zillow.com/homedetails/202-Union-St-San-Francisco-CA-94133/184663673_zpid/', 'https://www.zillow.com/homedetails/32-Collins-St-101-San-Francisco-CA-94118/15083007_zpid/', 'https://www.zillow.com/homedetails/869-Vermont-St-San-Francisco-CA-94107/15150333_zpid/', 'https://www.zillow.com/homedetails/371-Moscow-St-San-Francisco-CA-94112/15169858_zpid/', 'https://www.zillow.com/homedetails/1925-Gough-St-71-San-Francisco-CA-94109/80747820_zpid/', 'https://www.zillow.com/homedetails/1-Stanyan-St-41-San-Francisco-CA-94118/2087818629_zpid/', 'https://www.zillow.com/homedetails/101-Lombard-St-APT-28-San-Francisco-CA-94111/15064891_zpid/', 'https://www.zillow.com/homedetails/1001-California-St-TH1-San-Francisco-CA-94108/2104757989_zpid/', 'https://www.zillow.com/homedetails/1697-23rd-Ave-San-Francisco-CA-94122/2082176721_zpid/', 'https://www.zillow.com/homedetails/26-Bernice-St-San-Francisco-CA-94103/89237275_zpid/', 'https://www.zillow.com/homedetails/140-142-9th-Ave-San-Francisco-CA-94118/2081768662_zpid/', 'https://www.zillow.com/homedetails/831-833-Filbert-St-San-Francisco-CA-94133/2082011137_zpid/', 'https://www.zillow.com/homedetails/1-Putnam-St-San-Francisco-CA-94110/15162979_zpid/', 'https://www.zillow.com/homedetails/38-Bryant-St-APT-401-San-Francisco-CA-94105/15148422_zpid/', 'https://www.zillow.com/homedetails/763-University-St-San-Francisco-CA-94134/15172095_zpid/', 'https://www.zillow.com/homedetails/1303-Alabama-St-San-Francisco-CA-94110/2094454878_zpid/', 'https://www.zillow.com/homedetails/201-Harrison-St-APT-823-San-Francisco-CA-94105/15148349_zpid/', 'https://www.zillow.com/homedetails/470-Clementina-St-UNIT-304-San-Francisco-CA-94103/64971560_zpid/', 'https://www.zillow.com/homedetails/355-Bryant-St-UNIT-402-San-Francisco-CA-94107/80750074_zpid/', 'https://www.zillow.com/homedetails/47-Clarendon-Ave-San-Francisco-CA-94114/95270632_zpid/', 'https://www.zillow.com/homedetails/1080-Sutter-St-San-Francisco-CA-94109/2082212858_zpid/', 'https://www.zillow.com/homedetails/72-74-Park-St-San-Francisco-CA-94110/2081836246_zpid/', 'https://www.zillow.com/homedetails/1160-Mission-St-UNIT-2014-San-Francisco-CA-94103/83153473_zpid/', 'https://www.zillow.com/homedetails/1645-Pacific-Ave-APT-4D-San-Francisco-CA-94109/123598788_zpid/', 'https://www.zillow.com/homedetails/49-53-Guerrero-St-San-Francisco-CA-94103/2084992008_zpid/', 'https://www.zillow.com/homedetails/2509-2511-Irving-St-San-Francisco-CA-94122/241584317_zpid/', 'https://www.zillow.com/homedetails/795-8th-Ave-APT-201-San-Francisco-CA-94118/15098832_zpid/', 'https://www.zillow.com/homedetails/3590-20th-St-APT-505-San-Francisco-CA-94110/2096898161_zpid/', 'https://www.zillow.com/homedetails/2799-Sacramento-St-San-Francisco-CA-94115/241583443_zpid/', 'https://www.zillow.com/homedetails/277-Sadowa-St-San-Francisco-CA-94112/15195409_zpid/', 'https://www.zillow.com/homedetails/1650-32nd-Ave-San-Francisco-CA-94122/15108900_zpid/', 'https://www.zillow.com/homedetails/908-Broadway-San-Francisco-CA-94133/249697913_zpid/', 'https://www.zillow.com/homedetails/4201-Ocean-Ave-San-Francisco-CA-94132/15197864_zpid/', 'https://www.zillow.com/homedetails/1559-Sacramento-St-San-Francisco-CA-94109/15068310_zpid/', 'https://www.zillow.com/homedetails/175-Bluxome-St-UNIT-104-San-Francisco-CA-94107/80746750_zpid/', 'https://www.zillow.com/homedetails/2457-Lombard-St-San-Francisco-CA-94123/2118409550_zpid/', 'https://www.zillow.com/homedetails/2106-Jackson-St-APT-3-San-Francisco-CA-94115/15073481_zpid/', 'https://www.zillow.com/community/mira/2082474858_zpid/', 'https://www.zillow.com/homedetails/1050-N-Point-St-APT-1201-San-Francisco-CA-94109/63196518_zpid/', 'https://www.zillow.com/homedetails/325-China-Basin-St-UNIT-416-San-Francisco-CA-94158/89237467_zpid/', 'https://www.zillow.com/homedetails/124-Teddy-Ave-San-Francisco-CA-94134/2087511523_zpid/', 'https://www.zillow.com/homedetails/1182-1182A-Palou-Ave-San-Francisco-CA-94124/15153607_zpid/', 'https://www.zillow.com/homedetails/3284-Jackson-St-San-Francisco-CA-94118/15081052_zpid/', 'https://www.zillow.com/homedetails/182-Dublin-St-San-Francisco-CA-94112/15171481_zpid/', 'https://www.zillow.com/homedetails/218-Union-St-APT-5-San-Francisco-CA-94133/2083858347_zpid/', 'https://www.zillow.com/homedetails/644-646-25th-Ave-San-Francisco-CA-94121/2087042220_zpid/', 'https://www.zillow.com/homedetails/1149-Esmeralda-Ave-San-Francisco-CA-94110/125164255_zpid/', 'https://www.zillow.com/homedetails/515-517-23rd-Ave-San-Francisco-CA-94121/2082094795_zpid/', 'https://www.zillow.com/homedetails/1101-Pacific-Ave-APT-203-San-Francisco-CA-94133/2081760209_zpid/', 'https://www.zillow.com/homedetails/280-Spear-St-3Q-San-Francisco-CA-94105/2082754621_zpid/', 'https://www.zillow.com/homedetails/2112-Hyde-St-APT-2-San-Francisco-CA-94109/69818861_zpid/', 'https://www.zillow.com/homedetails/1876-Green-St-San-Francisco-CA-94123/2082767444_zpid/', 'https://www.zillow.com/homedetails/1075-Market-St-UNIT-208-San-Francisco-CA-94103/303806974_zpid/', 'https://www.zillow.com/homedetails/42-States-St-San-Francisco-CA-94114/59700322_zpid/', 'https://www.zillow.com/homedetails/70-Heather-Ave-70-San-Francisco-CA-94118/2082737314_zpid/', 'https://www.zillow.com/homedetails/1812-Pacific-Ave-San-Francisco-CA-94109/96051046_zpid/', 'https://www.zillow.com/community/181-fremont/2093048630_zpid/', 'https://www.zillow.com/homedetails/747-Natoma-St-APT-104-San-Francisco-CA-94103/2082768380_zpid/', 'https://www.zillow.com/homedetails/1771-Washington-St-2-San-Francisco-CA-94109/184678162_zpid/', 'https://www.zillow.com/homedetails/1688-Pine-St-E402-San-Francisco-CA-94109/241585739_zpid/', 'https://www.zillow.com/homedetails/2115-2119-Hyde-St-San-Francisco-CA-94109/2098312677_zpid/', 'https://www.zillow.com/community/mira/2082609850_zpid/', 'https://www.zillow.com/homedetails/690-Market-St-UNIT-2401-San-Francisco-CA-94104/89239465_zpid/', 'https://www.zillow.com/community/san-francisco-shipyard-palisades/2083269123_zpid/', 'https://www.zillow.com/homedetails/3723-3725-Cesar-Chavez-San-Francisco-CA-94110/2082770872_zpid/', 'https://www.zillow.com/homedetails/690-Market-St-UNIT-1701-San-Francisco-CA-94104/89239848_zpid/', 'https://www.zillow.com/homedetails/280-Spear-St-2M-San-Francisco-CA-94105/2082511131_zpid/', 'https://www.zillow.com/homedetails/355-1st-St-S-505-Aka-355-01st-St-San-Francisco-CA-94105/2081645302_zpid/', 'https://www.zillow.com/homedetails/588-Minna-St-203-San-Francisco-CA-94103/2082166352_zpid/', 'https://www.zillow.com/homedetails/1749-1753-Pine-St-San-Francisco-CA-94109/2082620326_zpid/', 'https://www.zillow.com/homedetails/1688-Pine-St-UNIT-E708-San-Francisco-CA-94109/241585783_zpid/', 'https://www.zillow.com/homedetails/3332-3336-Taraval-St-San-Francisco-CA-94116/241584464_zpid/', 'https://www.zillow.com/homedetails/815-Meade-Ave-San-Francisco-CA-94124/53153629_zpid/', 'https://www.zillow.com/homedetails/1608-1612-Dolores-St-San-Francisco-CA-94110/2082572948_zpid/', 'https://www.zillow.com/homedetails/1200-California-St-UNIT-5A-San-Francisco-CA-94109/80731021_zpid/', 'https://www.zillow.com/homedetails/1731-Powell-St-302-San-Francisco-CA-94133/2087137686_zpid/', 'https://www.zillow.com/homedetails/1277-Guerrero-St-San-Francisco-CA-94110/2102122835_zpid/', 'https://www.zillow.com/homedetails/3358-22nd-St-San-Francisco-CA-94110/2082007584_zpid/', 'https://www.zillow.com/homedetails/1736-Fell-St-San-Francisco-CA-94117/2091168962_zpid/', 'https://www.zillow.com/homedetails/147-Flood-Ave-San-Francisco-CA-94131/15139849_zpid/', 'https://www.zillow.com/homedetails/2111-Hyde-St-305-San-Francisco-CA-94109/80731099_zpid/', 'https://www.zillow.com/community/mira/2082077617_zpid/', 'https://www.zillow.com/community/lumina/2086110487_zpid/', 'https://www.zillow.com/homedetails/950-Tennessee-St-109-San-Francisco-CA-94107/2081695488_zpid/', 'https://www.zillow.com/homedetails/588-Minna-St-204-San-Francisco-CA-94103/2081826645_zpid/', 'https://www.zillow.com/homedetails/999-Green-St-APT-1104-San-Francisco-CA-94133/15066353_zpid/', 'https://www.zillow.com/homedetails/2828-21st-St-San-Francisco-CA-94110/2083868310_zpid/', 'https://www.zillow.com/homedetails/301-Mission-St-APT-54C-San-Francisco-CA-94105/114317296_zpid/', 'https://www.zillow.com/homedetails/1080-Chestnut-St-APT-5A-San-Francisco-CA-94109/80740622_zpid/', 'https://www.zillow.com/homedetails/280-Spear-St-32E-San-Francisco-CA-94105/2081852721_zpid/', 'https://www.zillow.com/homedetails/466-Vallejo-St-San-Francisco-CA-94133/63152001_zpid/', 'https://www.zillow.com/homedetails/555-Fulton-St-223-San-Francisco-CA-94102/2082300294_zpid/', 'https://www.zillow.com/homedetails/177-Townsend-St-UNIT-426-San-Francisco-CA-94107/82786256_zpid/', 'https://www.zillow.com/homedetails/256-Bemis-St-San-Francisco-CA-94131/184814827_zpid/', 'https://www.zillow.com/homedetails/181-Fremont-St-UNIT-60A-San-Francisco-CA-94105/249665400_zpid/', 'https://www.zillow.com/homedetails/950-Tennessee-St-110-San-Francisco-CA-94107/2082033295_zpid/', 'https://www.zillow.com/homedetails/757-Lombard-St-San-Francisco-CA-94133/241583089_zpid/', 'https://www.zillow.com/homedetails/570-580-Bush-St-San-Francisco-CA-94108/2082107296_zpid/', 'https://www.zillow.com/homedetails/625-Girard-St-San-Francisco-CA-94134/15171855_zpid/', 'https://www.zillow.com/homedetails/1080-Sutter-St-APT-1101-San-Francisco-CA-94109/123597611_zpid/', 'https://www.zillow.com/homedetails/88-King-St-UNIT-411-San-Francisco-CA-94107/54854658_zpid/', 'https://www.zillow.com/homedetails/72-Townsend-St-UNIT-709-San-Francisco-CA-94107/2095998206_zpid/', 'https://www.zillow.com/homedetails/99-Rausch-St-UNIT-214-San-Francisco-CA-94103/2081881976_zpid/', 'https://www.zillow.com/homedetails/555-4th-St-UNIT-538-San-Francisco-CA-94107/79845908_zpid/', 'https://www.zillow.com/homedetails/501-Lisbon-St-San-Francisco-CA-94112/2082176720_zpid/', 'https://www.zillow.com/homedetails/41-43-Cuvier-St-San-Francisco-CA-94112/2086638646_zpid/', 'https://www.zillow.com/homedetails/1667-1669-Silver-Ave-San-Francisco-CA-94124/241587090_zpid/', 'https://www.zillow.com/homedetails/1538-Visitacion-Ave-San-Francisco-CA-94134/15174451_zpid/', 'https://www.zillow.com/homedetails/735-Marina-Blvd-San-Francisco-CA-94123/15079508_zpid/', 'https://www.zillow.com/homedetails/1515-V-San-Francisco-CA-94131/249342955_zpid/', 'https://www.zillow.com/homedetails/4004-4006-3rd-St-San-Francisco-CA-94124/241587050_zpid/', 'https://www.zillow.com/homedetails/56-Moss-St-APT-1-San-Francisco-CA-94103/15147460_zpid/', 'https://www.zillow.com/homedetails/57-Cayuga-Ave-San-Francisco-CA-94112/15186470_zpid/', 'https://www.zillow.com/homedetails/1200-Gough-St-UNIT-12B-San-Francisco-CA-94109/15077051_zpid/', 'https://www.zillow.com/homedetails/531-Orizaba-Ave-San-Francisco-CA-94132/15190413_zpid/', 'https://www.zillow.com/homedetails/201-Harrison-St-APT-215-San-Francisco-CA-94105/15148168_zpid/', 'https://www.zillow.com/homedetails/74-Brady-St-UNIT-2-San-Francisco-CA-94103/80620668_zpid/', 'https://www.zillow.com/homedetails/27-Jennings-Ct-San-Francisco-CA-94124/15155026_zpid/', 'https://www.zillow.com/homedetails/1339-46th-Ave-San-Francisco-CA-94122/15104059_zpid/', 'https://www.zillow.com/homedetails/114-Faith-St-San-Francisco-CA-94110/15160884_zpid/', 'https://www.zillow.com/homedetails/1370-Thomas-Ave-San-Francisco-CA-94124/15154078_zpid/', 'https://www.zillow.com/homedetails/2631-Ulloa-St-San-Francisco-CA-94116/15123546_zpid/', 'https://www.zillow.com/homedetails/99-Blanken-Ave-San-Francisco-CA-94134/249664383_zpid/', 'https://www.zillow.com/homedetails/1450-44th-Ave-San-Francisco-CA-94122/15104383_zpid/', 'https://www.zillow.com/homedetails/2822-Noriega-St-San-Francisco-CA-94122/15110560_zpid/', 'https://www.zillow.com/homedetails/5110-5112-3rd-St-San-Francisco-CA-94124/241587079_zpid/', 'https://www.zillow.com/homedetails/2211-20th-Ave-San-Francisco-CA-94116/15119673_zpid/', 'https://www.zillow.com/homedetails/1754-35th-Ave-San-Francisco-CA-94122/15110621_zpid/', 'https://www.zillow.com/homedetails/1708-Felton-St-San-Francisco-CA-94134/15167560_zpid/', 'https://www.zillow.com/homedetails/7-Nebraska-St-San-Francisco-CA-94110/15162175_zpid/', 'https://www.zillow.com/homedetails/72-Dorland-St-San-Francisco-CA-94110/79845881_zpid/', 'https://www.zillow.com/homedetails/1050-Silliman-St-San-Francisco-CA-94134/79977497_zpid/', 'https://www.zillow.com/homedetails/118-Vienna-St-San-Francisco-CA-94112/15168001_zpid/', 'https://www.zillow.com/homedetails/516-Arch-St-San-Francisco-CA-94132/15189678_zpid/', 'https://www.zillow.com/homedetails/601-Van-Ness-Ave-APT-244-San-Francisco-CA-94102/15077768_zpid/', 'https://www.zillow.com/homedetails/282-Silver-Ave-San-Francisco-CA-94112/15186872_zpid/', 'https://www.zillow.com/homedetails/8-Las-Villas-Ct-San-Francisco-CA-94124/15153436_zpid/', 'https://www.zillow.com/homedetails/1524-Church-St-San-Francisco-CA-94131/15182372_zpid/', 'https://www.zillow.com/homedetails/135-Holladay-Ave-San-Francisco-CA-94110/15159740_zpid/', 'https://www.zillow.com/homedetails/1722-21st-Ave-San-Francisco-CA-94122/15111272_zpid/', 'https://www.zillow.com/homedetails/865-Vermont-St-San-Francisco-CA-94107/15150369_zpid/', 'https://www.zillow.com/homedetails/1000-Crescent-Ave-San-Francisco-CA-94110/15164773_zpid/', 'https://www.zillow.com/homedetails/1630-La-Salle-Ave-San-Francisco-CA-94124/59780017_zpid/', 'https://www.zillow.com/homedetails/2447-19th-Ave-San-Francisco-CA-94116/123597773_zpid/', 'https://www.zillow.com/homedetails/1251-37th-Ave-San-Francisco-CA-94122/15101274_zpid/', 'https://www.zillow.com/homedetails/31-Starview-Way-San-Francisco-CA-94131/15132369_zpid/', 'https://www.zillow.com/homedetails/70-W-View-Ave-San-Francisco-CA-94134/15166492_zpid/', 'https://www.zillow.com/homedetails/2865-Jackson-St-APT-2-San-Francisco-CA-94115/15081278_zpid/', 'https://www.zillow.com/homedetails/2112-Hyde-St-APT-4-San-Francisco-CA-94109/69819868_zpid/', 'https://www.zillow.com/homedetails/56-Moss-St-APT-1-San-Francisco-CA-94103/15147460_zpid/', 'https://www.zillow.com/homedetails/78-San-Leandro-Way-San-Francisco-CA-94127/15137981_zpid/', 'https://www.zillow.com/homedetails/90-Liebig-St-San-Francisco-CA-94112/15195956_zpid/', 'https://www.zillow.com/homedetails/176-Randall-St-San-Francisco-CA-94131/15183781_zpid/', 'https://www.zillow.com/homedetails/356-Hanover-St-San-Francisco-CA-94112/15179547_zpid/', 'https://www.zillow.com/homedetails/4343-3rd-St-APT-304-San-Francisco-CA-94124/80622783_zpid/', 'https://www.zillow.com/homedetails/1450-44th-Ave-San-Francisco-CA-94122/15104383_zpid/', 'https://www.zillow.com/homedetails/4376-17th-St-San-Francisco-CA-94114/15128145_zpid/', 'https://www.zillow.com/homedetails/78-San-Leandro-Way-San-Francisco-CA-94127/15137981_zpid/', 'https://www.zillow.com/homedetails/251-Farallones-St-San-Francisco-CA-94112/15194493_zpid/', 'https://www.zillow.com/homedetails/72-Dorland-St-San-Francisco-CA-94110/79845881_zpid/', 'https://www.zillow.com/homedetails/268-Summit-Way-San-Francisco-CA-94132/184812730_zpid/', 'https://www.zillow.com/homedetails/80-Crescent-Ave-San-Francisco-CA-94110/15164451_zpid/', 'https://www.zillow.com/homedetails/1339-46th-Ave-San-Francisco-CA-94122/15104059_zpid/', 'https://www.zillow.com/homedetails/135-Holladay-Ave-San-Francisco-CA-94110/15159740_zpid/', 'https://www.zillow.com/homedetails/1457-Florida-St-San-Francisco-CA-94110/15152946_zpid/', 'https://www.zillow.com/homedetails/545-Thornton-Ave-San-Francisco-CA-94124/15158691_zpid/', 'https://www.zillow.com/homedetails/4121-19th-Ave-San-Francisco-CA-94132/15195154_zpid/', 'https://www.zillow.com/homedetails/941-Vallejo-St-84-San-Francisco-CA-94133/15066735_zpid/', 'https://www.zillow.com/homedetails/70-W-View-Ave-San-Francisco-CA-94134/15166492_zpid/', 'https://www.zillow.com/homedetails/55-Jules-Ave-San-Francisco-CA-94112/15190472_zpid/', 'https://www.zillow.com/homedetails/282-Silver-Ave-San-Francisco-CA-94112/15186872_zpid/', 'https://www.zillow.com/homedetails/1524-Church-St-San-Francisco-CA-94131/15182372_zpid/', 'https://www.zillow.com/homedetails/639-Grand-View-Ave-San-Francisco-CA-94114/15179942_zpid/', 'https://www.zillow.com/homedetails/128-Elsie-St-San-Francisco-CA-94110/125272141_zpid/', 'https://www.zillow.com/homedetails/227-Sagamore-St-San-Francisco-CA-94112/15195737_zpid/', 'https://www.zillow.com/homedetails/865-Vermont-St-San-Francisco-CA-94107/15150369_zpid/', 'https://www.zillow.com/homedetails/290-Cambridge-St-San-Francisco-CA-94134/15166739_zpid/', 'https://www.zillow.com/homedetails/167-171-Victoria-St-San-Francisco-CA-94132/15195012_zpid/', 'https://www.zillow.com/homedetails/31-Starview-Way-San-Francisco-CA-94131/15132369_zpid/', 'https://www.zillow.com/homedetails/2112-Hyde-St-APT-4-San-Francisco-CA-94109/69819868_zpid/', 'https://www.zillow.com/homedetails/8-Las-Villas-Ct-San-Francisco-CA-94124/15153436_zpid/', 'https://www.zillow.com/homedetails/2822-Noriega-St-San-Francisco-CA-94122/15110560_zpid/', 'https://www.zillow.com/homedetails/356-Hanover-St-San-Francisco-CA-94112/15179547_zpid/', 'https://www.zillow.com/homedetails/2079-Carroll-Ave-San-Francisco-CA-94124/15159301_zpid/', 'https://www.zillow.com/homedetails/1708-Felton-St-San-Francisco-CA-94134/15167560_zpid/', 'https://www.zillow.com/homedetails/5110-5112-3rd-St-San-Francisco-CA-94124/241587079_zpid/', 'https://www.zillow.com/homedetails/1014-1016-Diamond-St-San-Francisco-CA-94114/241587483_zpid/', 'https://www.zillow.com/homedetails/1370-Thomas-Ave-San-Francisco-CA-94124/15154078_zpid/', 'https://www.zillow.com/homedetails/201-Harrison-St-APT-215-San-Francisco-CA-94105/15148168_zpid/', 'https://www.zillow.com/homedetails/27-Jennings-Ct-San-Francisco-CA-94124/15155026_zpid/', 'https://www.zillow.com/homedetails/380-14th-St-APT-506-San-Francisco-CA-94103/115828547_zpid/', 'https://www.zillow.com/homedetails/332-Sawyer-St-San-Francisco-CA-94134/15174490_zpid/', 'https://www.zillow.com/homedetails/74-Brady-St-UNIT-2-San-Francisco-CA-94103/80620668_zpid/', 'https://www.zillow.com/homedetails/33-Benton-Ave-San-Francisco-CA-94112/15164858_zpid/', 'https://www.zillow.com/homedetails/1278-39th-Ave-San-Francisco-CA-94122/15101241_zpid/', 'https://www.zillow.com/homedetails/123-Kirkham-St-San-Francisco-CA-94122/59779572_zpid/', 'https://www.zillow.com/homedetails/312-Avalon-Ave-San-Francisco-CA-94112/15169353_zpid/', 'https://www.zillow.com/homedetails/3034-24th-St-San-Francisco-CA-94110/15146853_zpid/', 'https://www.zillow.com/homedetails/244-Banks-St-San-Francisco-CA-94110/15162227_zpid/', 'https://www.zillow.com/homedetails/6-Burlwood-Dr-San-Francisco-CA-94127/15136408_zpid/', 'https://www.zillow.com/homedetails/1457-Florida-St-San-Francisco-CA-94110/15152946_zpid/', 'https://www.zillow.com/homedetails/55-Jules-Ave-San-Francisco-CA-94112/15190472_zpid/', 'https://www.zillow.com/homedetails/140-Lapham-Way-San-Francisco-CA-94112/15177820_zpid/', 'https://www.zillow.com/homedetails/78-Ina-Ct-San-Francisco-CA-94112/15169052_zpid/', 'https://www.zillow.com/homedetails/63-Farnum-St-San-Francisco-CA-94131/15200321_zpid/', 'https://www.zillow.com/homedetails/4121-19th-Ave-San-Francisco-CA-94132/15195154_zpid/', 'https://www.zillow.com/homedetails/55-Arco-Way-San-Francisco-CA-94112/15140315_zpid/', 'https://www.zillow.com/homedetails/143-Naples-St-San-Francisco-CA-94112/15168032_zpid/', 'https://www.zillow.com/homedetails/268-Summit-Way-San-Francisco-CA-94132/184812730_zpid/', 'https://www.zillow.com/homedetails/239-Farallones-St-San-Francisco-CA-94112/15194499_zpid/', 'https://www.zillow.com/homedetails/295-Farallones-St-San-Francisco-CA-94112/15194485_zpid/', 'https://www.zillow.com/homedetails/4209-Kirkham-St-San-Francisco-CA-94122/15107904_zpid/', 'https://www.zillow.com/homedetails/1027-Portola-Dr-San-Francisco-CA-94127/15135554_zpid/', 'https://www.zillow.com/homedetails/1369-Quesada-Ave-San-Francisco-CA-94124/15153830_zpid/', 'https://www.zillow.com/homedetails/941-Vallejo-St-84-San-Francisco-CA-94133/15066735_zpid/', 'https://www.zillow.com/homedetails/12-Avalon-Ave-APT-4-San-Francisco-CA-94112/121337401_zpid/', 'https://www.zillow.com/homedetails/926-Garfield-St-San-Francisco-CA-94132/15189901_zpid/', 'https://www.zillow.com/homedetails/1632-Florida-St-San-Francisco-CA-94110/15159835_zpid/', 'https://www.zillow.com/homedetails/740-Francisco-St-San-Francisco-CA-94133/15063505_zpid/', 'https://www.zillow.com/homedetails/227-Sagamore-St-San-Francisco-CA-94112/15195737_zpid/', 'https://www.zillow.com/homedetails/235-Ramsell-St-San-Francisco-CA-94132/15193611_zpid/', 'https://www.zillow.com/homedetails/150-Lenox-Way-San-Francisco-CA-94127/15133837_zpid/', 'https://www.zillow.com/homedetails/3750-21st-St-San-Francisco-CA-94114/15145337_zpid/', 'https://www.zillow.com/homedetails/639-Grand-View-Ave-San-Francisco-CA-94114/15179942_zpid/', 'https://www.zillow.com/homedetails/290-Cambridge-St-San-Francisco-CA-94134/15166739_zpid/', 'https://www.zillow.com/homedetails/53-Cielito-Dr-San-Francisco-CA-94134/15175898_zpid/', 'https://www.zillow.com/homedetails/2855-Filbert-St-San-Francisco-CA-94123/15080536_zpid/', 'https://www.zillow.com/homedetails/48-Meda-Ave-San-Francisco-CA-94112/15141347_zpid/', 'https://www.zillow.com/homedetails/601-Alabama-St-UNIT-309-San-Francisco-CA-94110/111711113_zpid/', 'https://www.zillow.com/homedetails/892-894-Guerrero-St-San-Francisco-CA-94110/2082240364_zpid/', 'https://www.zillow.com/homedetails/1433-Bush-St-803-San-Francisco-CA-94109/2082754030_zpid/', 'https://www.zillow.com/homedetails/2973-2975-Jackson-St-San-Francisco-CA-94115/2082588488_zpid/', 'https://www.zillow.com/homedetails/1545-Pine-St-APT-1103-San-Francisco-CA-94109/303807071_zpid/', 'https://www.zillow.com/homedetails/3535-Wawona-St-333-San-Francisco-CA-94116/2081948109_zpid/', 'https://www.zillow.com/homedetails/3953-21st-St-San-Francisco-CA-94114/2083085333_zpid/', 'https://www.zillow.com/homedetails/2230-3rd-St-San-Francisco-CA-94107/2082960900_zpid/', 'https://www.zillow.com/homedetails/1150-Sacramento-St-APT-402-San-Francisco-CA-94108/15067977_zpid/', 'https://www.zillow.com/homedetails/882-884-47th-Ave-San-Francisco-CA-94121/2082735405_zpid/', 'https://www.zillow.com/homedetails/1782-Revere-Ave-San-Francisco-CA-94124/15157119_zpid/', 'https://www.zillow.com/homedetails/729-733-Vallejo-St-San-Francisco-CA-94133/241583185_zpid/', 'https://www.zillow.com/homedetails/40-Acton-St-Daly-City-CA-94014/15462757_zpid/', 'https://www.zillow.com/homedetails/280-Spear-St-9C-San-Francisco-CA-94105/2081853347_zpid/', 'https://www.zillow.com/homedetails/950-Tennessee-St-101-San-Francisco-CA-94107/2081694854_zpid/', 'https://www.zillow.com/homedetails/1838-1820-Alabama-St-San-Francisco-CA-94110/2082711981_zpid/', 'https://www.zillow.com/community/one-mission-bay/2084054921_zpid/', 'https://www.zillow.com/homedetails/403-Main-St-APT-703N-San-Francisco-CA-94105/15148640_zpid/', 'https://www.zillow.com/homedetails/88-King-St-UNIT-115-San-Francisco-CA-94107/54854646_zpid/', 'https://www.zillow.com/homedetails/1545-Pine-St-APT-1204-San-Francisco-CA-94109/303807163_zpid/', 'https://www.zillow.com/homedetails/201-Folsom-St-APT-41A-San-Francisco-CA-94105/2086203722_zpid/', 'https://www.zillow.com/homedetails/94-Bernal-Heights-Blvd-San-Francisco-CA-94110/15161669_zpid/', 'https://www.zillow.com/homedetails/586-Clipper-St-San-Francisco-CA-94114/2082328734_zpid/', 'https://www.zillow.com/community/mira/2082609848_zpid/', 'https://www.zillow.com/homedetails/88-King-St-UNIT-1407-San-Francisco-CA-94107/80750127_zpid/', 'https://www.zillow.com/homedetails/765-Market-St-3B-San-Francisco-CA-94103/63197408_zpid/', 'https://www.zillow.com/homedetails/123-Stillings-Ave-San-Francisco-CA-94131/15137721_zpid/', 'https://www.zillow.com/homedetails/1960-Broadway-5-San-Francisco-CA-94109/80626279_zpid/', 'https://www.zillow.com/homedetails/830-Rhode-Island-St-San-Francisco-CA-94107/15150374_zpid/', 'https://www.zillow.com/homedetails/1748-1752-Fell-St-San-Francisco-CA-94117/2082000073_zpid/', 'https://www.zillow.com/homedetails/555-Fulton-St-317-San-Francisco-CA-94102/2085362973_zpid/', 'https://www.zillow.com/homedetails/684-48th-Ave-San-Francisco-CA-94121/2109408836_zpid/', 'https://www.zillow.com/homedetails/2606-2610-Folsom-St-San-Francisco-CA-94110/2082395308_zpid/', 'https://www.zillow.com/homedetails/337-Webster-St-San-Francisco-CA-94117/2108755769_zpid/', 'https://www.zillow.com/homedetails/1524-Haight-St-1528-San-Francisco-CA-94117/2084135071_zpid/', 'https://www.zillow.com/homedetails/1257-1261-Lombard-St-San-Francisco-CA-94109/2088845185_zpid/', 'https://www.zillow.com/homedetails/370-Dolores-St-San-Francisco-CA-94110/111933632_zpid/', 'https://www.zillow.com/community/mira/2082609849_zpid/', 'https://www.zillow.com/homedetails/950-Tennessee-St-208-San-Francisco-CA-94107/2081695197_zpid/', 'https://www.zillow.com/homedetails/99-Rausch-St-UNIT-522-San-Francisco-CA-94103/2082068740_zpid/', 'https://www.zillow.com/homedetails/6423-6425-California-St-San-Francisco-CA-94121/2082773447_zpid/', 'https://www.zillow.com/homedetails/4124-Judah-St-San-Francisco-CA-94122/2082105291_zpid/', 'https://www.zillow.com/homedetails/522-526-Lake-St-San-Francisco-CA-94118/2082176718_zpid/', 'https://www.zillow.com/homedetails/3979-3981-24th-St-San-Francisco-CA-94114/2087850523_zpid/', 'https://www.zillow.com/homedetails/338-Main-St-UNIT-35E-San-Francisco-CA-94105/2081750697_zpid/', 'https://www.zillow.com/homedetails/830-Olmstead-St-San-Francisco-CA-94134/15172047_zpid/', 'https://www.zillow.com/homedetails/245-Scott-St-San-Francisco-CA-94117/2086879073_zpid/', 'https://www.zillow.com/homedetails/555-Fulton-St-313-San-Francisco-CA-94102/2082300144_zpid/', 'https://www.zillow.com/community/san-francisco-shipyard-monarch/2086796161_zpid/', 'https://www.zillow.com/homedetails/166-Brewster-St-San-Francisco-CA-94110/125161991_zpid/', 'https://www.zillow.com/homedetails/1927-1929-Taraval-St-San-Francisco-CA-94116/2083084186_zpid/', 'https://www.zillow.com/homedetails/88-Townsend-St-APT-414-San-Francisco-CA-94107/80754197_zpid/', 'https://www.zillow.com/homedetails/1000-3rd-St-UNIT-514-San-Francisco-CA-94158/249665431_zpid/', 'https://www.zillow.com/homedetails/1333-Jones-St-UNIT-1202-San-Francisco-CA-94109/63196235_zpid/', 'https://www.zillow.com/homedetails/10-Innes-Ct-303-San-Francisco-CA-94124/2085155315_zpid/', 'https://www.zillow.com/homedetails/201-Folsom-St-APT-39B-San-Francisco-CA-94105/303806107_zpid/', 'https://www.zillow.com/homedetails/3535-Wawona-St-218-San-Francisco-CA-94116/2082773200_zpid/', 'https://www.zillow.com/homedetails/1177-California-St-APT-724-San-Francisco-CA-94108/15068523_zpid/', 'https://www.zillow.com/homedetails/786-17th-Ave-San-Francisco-CA-94121/2082197926_zpid/', 'https://www.zillow.com/homedetails/943-Lombard-St-San-Francisco-CA-94133/51082386_zpid/', 'https://www.zillow.com/community/san-francisco-shipyard-landing/2083281868_zpid/', 'https://www.zillow.com/homedetails/706-Mission-St-15B-San-Francisco-CA-94103/2082670494_zpid/', 'https://www.zillow.com/community/one-mission-bay/2084054922_zpid/', 'https://www.zillow.com/homedetails/614-616-Natoma-St-San-Francisco-CA-94103/2085002641_zpid/', 'https://www.zillow.com/homedetails/5323-Mission-St-San-Francisco-CA-94112/2083679025_zpid/', 'https://www.zillow.com/homedetails/401-Harrison-St-APT-28E-San-Francisco-CA-94105/249698421_zpid/', 'https://www.zillow.com/homedetails/2-Mint-Plz-SUITE-602-San-Francisco-CA-94103/80738474_zpid/', 'https://www.zillow.com/homedetails/750-2nd-St-APT-302-San-Francisco-CA-94107/122245531_zpid/', 'https://www.zillow.com/homedetails/106-112-Noe-St-San-Francisco-CA-94114/2081993090_zpid/', 'https://www.zillow.com/homedetails/2350-Market-St-San-Francisco-CA-94114/2086082967_zpid/', 'https://www.zillow.com/homedetails/940-Jackson-St-San-Francisco-CA-94133/2108770641_zpid/', 'https://www.zillow.com/homedetails/1080-Chestnut-St-APT-11D-San-Francisco-CA-94109/80745287_zpid/', 'https://www.zillow.com/homedetails/2446-27th-Ave-San-Francisco-CA-94116/15122418_zpid/', 'https://www.zillow.com/homedetails/1325-California-St-LOT-1327-San-Francisco-CA-94109/2082048678_zpid/', 'https://www.zillow.com/homedetails/301-Mission-St-APT-24D-San-Francisco-CA-94105/111710979_zpid/', 'https://www.zillow.com/community/mira/2082609852_zpid/', 'https://www.zillow.com/homedetails/300-304-Taraval-St-San-Francisco-CA-94116/2082240380_zpid/', 'https://www.zillow.com/homedetails/400-Beale-St-APT-2004-San-Francisco-CA-94105/80732201_zpid/', 'https://www.zillow.com/homedetails/165-Beaver-St-San-Francisco-CA-94114/2082262012_zpid/', 'https://www.zillow.com/homedetails/21-Stillman-St-APT-3-San-Francisco-CA-94107/80732345_zpid/', 'https://www.zillow.com/homedetails/201-Folsom-St-41B-San-Francisco-CA-94105/2082837920_zpid/', 'https://www.zillow.com/homedetails/555-Fulton-St-334-San-Francisco-CA-94102/2091552235_zpid/', 'https://www.zillow.com/homedetails/936-Esmeralda-Ave-San-Francisco-CA-94110/15160736_zpid/', 'https://www.zillow.com/homedetails/846-850-Capp-St-San-Francisco-CA-94110/2082718524_zpid/', 'https://www.zillow.com/homedetails/2020-Webster-St-San-Francisco-CA-94115/2082636934_zpid/', 'https://www.zillow.com/homedetails/721-725-Randolph-St-San-Francisco-CA-94132/2093033234_zpid/', 'https://www.zillow.com/homedetails/1200-California-St-UNIT-5D-San-Francisco-CA-94109/80739210_zpid/', 'https://www.zillow.com/homedetails/2301-Webster-St-San-Francisco-CA-94115/2092594990_zpid/', 'https://www.zillow.com/homedetails/1000-3rd-St-UNIT-1307-San-Francisco-CA-94158/2084054924_zpid/', 'https://www.zillow.com/homedetails/280-Spear-St-2H-San-Francisco-CA-94105/2082511090_zpid/', 'https://www.zillow.com/homedetails/5850-5852-Mission-St-San-Francisco-CA-94112/2084454199_zpid/', 'https://www.zillow.com/homedetails/110-Channel-St-UNIT-324-San-Francisco-CA-94158/249665066_zpid/', 'https://www.zillow.com/homedetails/1910-California-St-San-Francisco-CA-94109/2083164959_zpid/', 'https://www.zillow.com/homedetails/260-King-St-UNIT-1603-San-Francisco-CA-94107/69819699_zpid/', 'https://www.zillow.com/homedetails/333-Bush-St-APT-4206-San-Francisco-CA-94104/15069262_zpid/', 'https://www.zillow.com/community/san-francisco-shipyard-monarch/2086796159_zpid/', 'https://www.zillow.com/homedetails/757-Natoma-St-San-Francisco-CA-94103/2109172775_zpid/', 'https://www.zillow.com/homedetails/101-Lombard-St-APT-503W-San-Francisco-CA-94111/15064954_zpid/', 'https://www.zillow.com/homedetails/1000-3rd-St-UNIT-1202-San-Francisco-CA-94158/249664611_zpid/', 'https://www.zillow.com/homedetails/239-Brannan-St-UNIT-12G-San-Francisco-CA-94107/58627013_zpid/', 'https://www.zillow.com/homedetails/488-Folsom-St-3402-San-Francisco-CA-94105/2082805939_zpid/', 'https://www.zillow.com/community/181-fremont/2093048631_zpid/', 'https://www.zillow.com/homedetails/1177-California-St-APT-1514-San-Francisco-CA-94108/15068402_zpid/', 'https://www.zillow.com/homedetails/3076-26th-St-San-Francisco-CA-94110/2082544123_zpid/', 'https://www.zillow.com/homedetails/765-Market-St-APT-22C-San-Francisco-CA-94103/63197280_zpid/', 'https://www.zillow.com/homedetails/258-Cumberland-St-San-Francisco-CA-94114/15145049_zpid/', 'https://www.zillow.com/homedetails/338-Spear-St-UNIT-31D-San-Francisco-CA-94105/89239223_zpid/', 'https://www.zillow.com/homedetails/260-King-St-UNIT-461-San-Francisco-CA-94107/69819726_zpid/', 'https://www.zillow.com/homedetails/1080-Chestnut-St-APT-11B-San-Francisco-CA-94109/80744103_zpid/', 'https://www.zillow.com/homedetails/219-Brannan-St-UNIT-8H-San-Francisco-CA-94107/52273854_zpid/', 'https://www.zillow.com/homedetails/4652-Geary-Blvd-San-Francisco-CA-94118/241584002_zpid/', 'https://www.zillow.com/homedetails/1215-Broadway-LOT-1217-San-Francisco-CA-94109/2082052083_zpid/', 'https://www.zillow.com/community/mira/2082077616_zpid/', 'https://www.zillow.com/homedetails/68-70-San-Jose-Ave-San-Francisco-CA-94110/2082667400_zpid/', 'https://www.zillow.com/homedetails/555-Fulton-St-335-San-Francisco-CA-94102/2083399017_zpid/', 'https://www.zillow.com/community/one-mission-bay/2084054920_zpid/', 'https://www.zillow.com/homedetails/181-Fremont-St-69-B-San-Francisco-CA-94105/249664750_zpid/', 'https://www.zillow.com/homedetails/420-Mission-Bay-Blvd-N-UNIT-701-San-Francisco-CA-94158/115828659_zpid/', 'https://www.zillow.com/homedetails/765-Market-St-31CD-San-Francisco-CA-94103/63197350_zpid/', 'https://www.zillow.com/homedetails/1000-3rd-St-1307-San-Francisco-CA-94158/249665448_zpid/', 'https://www.zillow.com/homedetails/1731-Powell-St-305-San-Francisco-CA-94133/2086425573_zpid/', 'https://www.zillow.com/homedetails/1000-3rd-St-UNIT-1302-San-Francisco-CA-94158/249665135_zpid/', 'https://www.zillow.com/homedetails/188-Minna-St-APT-38B-San-Francisco-CA-94105/69819213_zpid/', 'https://www.zillow.com/homedetails/1000-3rd-St-1305-San-Francisco-CA-94158/249664876_zpid/', 'https://www.zillow.com/homedetails/401-Harrison-St-APT-40D-San-Francisco-CA-94105/249698633_zpid/', 'https://www.zillow.com/homedetails/3417-16th-St-San-Francisco-CA-94114/2082118629_zpid/', 'https://www.zillow.com/homedetails/1215-1217-Broadway-San-Francisco-CA-94109/2082050932_zpid/', 'https://www.zillow.com/homedetails/333-Bush-St-APT-4001-San-Francisco-CA-94104/15069245_zpid/', 'https://www.zillow.com/homedetails/333-Beale-St-C8H-San-Francisco-CA-94105/2087663630_zpid/', 'https://www.zillow.com/community/san-francisco-shipyard-landing/2083281870_zpid/', 'https://www.zillow.com/homedetails/4632-25th-St-San-Francisco-CA-94114/2084506795_zpid/', 'https://www.zillow.com/homedetails/229-Brannan-St-UNIT-7J-San-Francisco-CA-94107/59700544_zpid/', 'https://www.zillow.com/homedetails/301-Mission-St-APT-18E-San-Francisco-CA-94105/111910164_zpid/', 'https://www.zillow.com/homedetails/1251-1255-9th-Ave-San-Francisco-CA-94122/2082716172_zpid/', 'https://www.zillow.com/homedetails/1666-1670-Union-St-San-Francisco-CA-94123/2082512828_zpid/', 'https://www.zillow.com/homedetails/201-Folsom-St-APT-37A-San-Francisco-CA-94105/2084213814_zpid/', 'https://www.zillow.com/homedetails/456-Union-St-San-Francisco-CA-94133/2088845186_zpid/', 'https://www.zillow.com/homedetails/401-Harrison-St-APT-46A-San-Francisco-CA-94105/249698652_zpid/', 'https://www.zillow.com/homedetails/135-Wetmore-St-San-Francisco-CA-94108/15067673_zpid/', 'https://www.zillow.com/homedetails/384-Holladay-Ave-San-Francisco-CA-94110/125163250_zpid/', 'https://www.zillow.com/homedetails/1477-1479-Guerrero-St-San-Francisco-CA-94110/2082159838_zpid/', 'https://www.zillow.com/homedetails/1000-3rd-St-UNIT-912-San-Francisco-CA-94158/249665505_zpid/', 'https://www.zillow.com/homedetails/1731-Powell-St-405-San-Francisco-CA-94133/2085316656_zpid/', 'https://www.zillow.com/homedetails/750-2nd-St-801-San-Francisco-CA-94107/123598029_zpid/', 'https://www.zillow.com/homedetails/401-Harrison-St-APT-39F-San-Francisco-CA-94105/249698628_zpid/', 'https://www.zillow.com/homedetails/134-150-Porter-St-San-Francisco-CA-94110/2082030628_zpid/', 'https://www.zillow.com/homedetails/1-Hawthorne-St-UNIT-14C-San-Francisco-CA-94105/123598733_zpid/', 'https://www.zillow.com/homedetails/1200-California-St-UNIT-16A-San-Francisco-CA-94109/80748350_zpid/', 'https://www.zillow.com/homedetails/1250-Jones-St-UNIT-1102-San-Francisco-CA-94109/15067905_zpid/', 'https://www.zillow.com/homedetails/455-457-Ellis-Street-San-Francisco-CA-94102/2086820620_zpid/', 'https://www.zillow.com/homedetails/738-Long-Bridge-St-12XX-San-Francisco-CA-94158/2097026451_zpid/', 'https://www.zillow.com/homedetails/1731-Powell-St-204-San-Francisco-CA-94133/2086425768_zpid/', 'https://www.zillow.com/homedetails/88-King-St-UNIT-1104-San-Francisco-CA-94107/80745107_zpid/', 'https://www.zillow.com/homedetails/15-States-St-17-San-Francisco-CA-94114/2087877354_zpid/', 'https://www.zillow.com/homedetails/280-Spear-St-4J-San-Francisco-CA-94105/2082619162_zpid/', 'https://www.zillow.com/homedetails/338-Main-St-UNIT-16A-San-Francisco-CA-94105/2081944901_zpid/', 'https://www.zillow.com/homedetails/5617-Geary-Blvd-San-Francisco-CA-94121/2083195595_zpid/', 'https://www.zillow.com/homedetails/280-Spear-St-7B-San-Francisco-CA-94105/2082754309_zpid/', 'https://www.zillow.com/homedetails/2-Fallon-Pl-APT-15-San-Francisco-CA-94133/2120176903_zpid/', 'https://www.zillow.com/community/san-francisco-shipyard-landing/2083281869_zpid/', 'https://www.zillow.com/community/san-francisco-shipyard-monarch/2084426974_zpid/', 'https://www.zillow.com/homedetails/401-Harrison-St-APT-20E-San-Francisco-CA-94105/249698516_zpid/', 'https://www.zillow.com/homedetails/280-Spear-St-36B-San-Francisco-CA-94105/2082511191_zpid/', 'https://www.zillow.com/homedetails/309-315-Potrero-Ave-San-Francisco-CA-94103/2082831345_zpid/', 'https://www.zillow.com/homedetails/1882-Quesada-Ave-San-Francisco-CA-94124/125116411_zpid/', 'https://www.zillow.com/homedetails/1728-1730-Jones-St-San-Francisco-CA-94109/15066755_zpid/', 'https://www.zillow.com/homedetails/167-Victoria-St-Aka-171-Victoria-St-San-Francisco-CA-94132/2081885923_zpid/', 'https://www.zillow.com/community/san-francisco-shipyard-landing/2083281871_zpid/', 'https://www.zillow.com/community/one-mission-bay/2084054919_zpid/', 'https://www.zillow.com/homedetails/1000-3rd-St-UNIT-303-San-Francisco-CA-94158/249664821_zpid/', 'https://www.zillow.com/homedetails/333-Beale-St-APT-8I-San-Francisco-CA-94105/2082086335_zpid/', 'https://www.zillow.com/homedetails/219-221-7th-St-San-Francisco-CA-94103/2082380644_zpid/', 'https://www.zillow.com/homedetails/587-Burnett-Ave-San-Francisco-CA-94131/2112563694_zpid/', 'https://www.zillow.com/homedetails/338-Main-St-UNIT-35A-San-Francisco-CA-94105/2094767513_zpid/', 'https://www.zillow.com/homedetails/3535-Wawona-St-222-San-Francisco-CA-94116/2082926785_zpid/', 'https://www.zillow.com/homedetails/3535-Wawona-St-236-San-Francisco-CA-94116/2082772772_zpid/', 'https://www.zillow.com/homedetails/51-Innes-Ct-APT-404-San-Francisco-CA-94124/2085462139_zpid/', 'https://www.zillow.com/homedetails/318-Main-St-UNIT-3G-San-Francisco-CA-94105/2087872928_zpid/', 'https://www.zillow.com/community/san-francisco-shipyard-landing/2083281873_zpid/', 'https://www.zillow.com/homedetails/1731-Powell-St-406-San-Francisco-CA-94133/2085880319_zpid/', 'https://www.zillow.com/homedetails/1-Stanyan-St-42-San-Francisco-CA-94118/2082351106_zpid/', 'https://www.zillow.com/homedetails/1215-Broadway-San-Francisco-CA-94109/2082329265_zpid/', 'https://www.zillow.com/homedetails/3801-Mission-St-San-Francisco-CA-94110/2084902530_zpid/', 'https://www.zillow.com/homedetails/706-Mission-St-7B-San-Francisco-CA-94103/2082672956_zpid/', 'https://www.zillow.com/homedetails/201-Folsom-St-6G-San-Francisco-CA-94105/2097771141_zpid/', 'https://www.zillow.com/homedetails/462-Prentiss-St-San-Francisco-CA-94110/125163632_zpid/', 'https://www.zillow.com/community/one-mission-bay/2084054923_zpid/', 'https://www.zillow.com/homedetails/109-Highland-Ave-San-Francisco-CA-94110/2082530120_zpid/', 'https://www.zillow.com/homedetails/280-Spear-St-6J-San-Francisco-CA-94105/2081853598_zpid/', 'https://www.zillow.com/homedetails/579-Burnett-Ave-San-Francisco-CA-94131/2103132972_zpid/', 'https://www.zillow.com/homedetails/1731-Powell-St-205-San-Francisco-CA-94133/303807228_zpid/', 'https://www.zillow.com/homedetails/338-Main-St-UNIT-14C-San-Francisco-CA-94105/2082658137_zpid/', 'https://www.zillow.com/homedetails/706-Mission-St-502-San-Francisco-CA-94103/2082670646_zpid/', 'https://www.zillow.com/homedetails/1000-3rd-St-UNIT-1401-San-Francisco-CA-94158/249665382_zpid/', 'https://www.zillow.com/homedetails/181-Fremont-St-UNIT-63A-San-Francisco-CA-94105/249664766_zpid/', 'https://www.zillow.com/homedetails/1728-1730-Jones-St-San-Francisco-CA-94109/2084098318_zpid/', 'https://www.zillow.com/homedetails/3535-Wawona-St-315-San-Francisco-CA-94116/2081947075_zpid/', 'https://www.zillow.com/community/san-francisco-shipyard-monarch/2086783466_zpid/', 'https://www.zillow.com/homedetails/318-Main-St-UNIT-7F-San-Francisco-CA-94105/2082743165_zpid/', 'https://www.zillow.com/homedetails/5222-5250-3rd-St-San-Francisco-CA-94124/2083413250_zpid/', 'https://www.zillow.com/homedetails/2321-Geneva-Ave-Daly-City-CA-94014/181322411_zpid/', 'https://www.zillow.com/homedetails/765-Market-St-APT-22E-San-Francisco-CA-94103/63197282_zpid/', 'https://www.zillow.com/homedetails/(undisclosed-Address)-San-Francisco-CA-94110/2082568705_zpid/', 'https://www.zillow.com/homedetails/181-Fremont-St-UNIT-61D-San-Francisco-CA-94105/249665497_zpid/', 'https://www.zillow.com/community/one-mission-bay/2084054918_zpid/', 'https://www.zillow.com/homedetails/425-1st-St-UNIT-4906-San-Francisco-CA-94105/89236971_zpid/', 'https://www.zillow.com/homedetails/1000-3rd-St-UNIT-1306-San-Francisco-CA-94158/249665574_zpid/', 'https://www.zillow.com/homedetails/188-Minna-St-APT-29D-San-Francisco-CA-94105/69819173_zpid/', 'https://www.zillow.com/community/san-francisco-shipyard-monarch/2089880719_zpid/', 'https://www.zillow.com/homedetails/1731-Powell-St-401-San-Francisco-CA-94133/2085316657_zpid/', 'https://www.zillow.com/homedetails/181-Fremont-St-UNIT-58C-San-Francisco-CA-94105/249665462_zpid/', 'https://www.zillow.com/homedetails/280-Spear-St-34A-San-Francisco-CA-94105/2081853170_zpid/', 'https://www.zillow.com/homedetails/301-Main-St-UNIT-6C-San-Francisco-CA-94105/89237775_zpid/', 'https://www.zillow.com/homedetails/886-Moultrie-St-San-Francisco-CA-94110/2111661100_zpid/', 'https://www.zillow.com/homedetails/401-Harrison-St-APT-43A-San-Francisco-CA-94105/249698643_zpid/', 'https://www.zillow.com/community/181-fremont/2093048632_zpid/', 'https://www.zillow.com/homedetails/401-Harrison-St-APT-44C-San-Francisco-CA-94105/249698649_zpid/', 'https://www.zillow.com/homedetails/706-Mission-St-15C-San-Francisco-CA-94103/2082673248_zpid/', 'https://www.zillow.com/homedetails/280-Spear-St-14E-San-Francisco-CA-94105/2082618649_zpid/', 'https://www.zillow.com/homedetails/301-Main-St-UNIT-3B-San-Francisco-CA-94105/89240091_zpid/', 'https://www.zillow.com/community/san-francisco-shipyard-monarch/2083886468_zpid/', 'https://www.zillow.com/homedetails/401-Harrison-St-APT-40F-San-Francisco-CA-94105/249698635_zpid/', 'https://www.zillow.com/homedetails/Folsom-St-San-Francisco-CA-94103/2083775314_zpid/', 'https://www.zillow.com/homedetails/522-Lake-St-526-San-Francisco-CA-94118/2082219038_zpid/', 'https://www.zillow.com/homedetails/488-Folsom-St-3906-San-Francisco-CA-94105/2086526325_zpid/', 'https://www.zillow.com/homedetails/280-Spear-St-24C-San-Francisco-CA-94105/2082618890_zpid/', 'https://www.zillow.com/homedetails/488-Folsom-St-4403-San-Francisco-CA-94105/2082805678_zpid/', 'https://www.zillow.com/homedetails/181-Fremont-St-UNIT-63C-San-Francisco-CA-94105/249665341_zpid/', 'https://www.zillow.com/homedetails/401-Harrison-St-APT-22E-San-Francisco-CA-94105/249698527_zpid/', 'https://www.zillow.com/homedetails/401-Harrison-St-APT-43B-San-Francisco-CA-94105/249698644_zpid/', 'https://www.zillow.com/homedetails/401-Harrison-St-APT-27E-San-Francisco-CA-94105/249698556_zpid/', 'https://www.zillow.com/homedetails/901-Bay-Shore-Blvd-APT-405-San-Francisco-CA-94124/80732827_zpid/']\n"
     ]
    }
   ],
   "source": [
    "urls = []\n",
    "for i in links:\n",
    "    for j in i[::2]:\n",
    "        urls.append(j)\n",
    "        \n",
    "print(urls)"
   ]
  },
  {
   "cell_type": "markdown",
   "metadata": {
    "jupyter": {
     "outputs_hidden": true
    }
   },
   "source": [
    "#### save links externally in text file"
   ]
  },
  {
   "cell_type": "code",
   "execution_count": 93,
   "metadata": {
    "collapsed": true,
    "jupyter": {
     "outputs_hidden": true
    }
   },
   "outputs": [
    {
     "name": "stdout",
     "output_type": "stream",
     "text": [
      "['https://www.zillow.com/homedetails/1538-Visitacion-Ave-San-Francisco-CA-94134/15174451_zpid/', 'https://www.zillow.com/community/mira/2082609849_zpid/', 'https://www.zillow.com/community/san-francisco-shipyard-palisades/2083269123_zpid/', 'https://www.zillow.com/community/mira/2082609853_zpid/', 'https://www.zillow.com/homedetails/49-53-Guerrero-St-San-Francisco-CA-94103/2084992008_zpid/', 'https://www.zillow.com/community/san-francisco-shipyard-landing/2082903489_zpid/', 'https://www.zillow.com/community/san-francisco-shipyard-landing/2083281869_zpid/', 'https://www.zillow.com/homedetails/83-Mcallister-St-APT-204-San-Francisco-CA-94102/89240044_zpid/', 'https://www.zillow.com/community/mira/2082609854_zpid/', 'https://www.zillow.com/community/one-mission-bay/2084054918_zpid/', 'https://www.zillow.com/homedetails/355-1st-St-S-505-Aka-355-01st-St-San-Francisco-CA-94105/2081645302_zpid/', 'https://www.zillow.com/homedetails/201-Harrison-St-APT-823-San-Francisco-CA-94105/15148349_zpid/', 'https://www.zillow.com/homedetails/2028-14th-Ave-San-Francisco-CA-94116/15115447_zpid/', 'https://www.zillow.com/community/san-francisco-shipyard-monarch/2083886468_zpid/', 'https://www.zillow.com/community/lumina/2086110487_zpid/', 'https://www.zillow.com/community/mira/2082474858_zpid/', 'https://www.zillow.com/community/san-francisco-shipyard-monarch/2089880719_zpid/', 'https://www.zillow.com/community/one-mission-bay/2084054919_zpid/', 'https://www.zillow.com/community/mira/2082077617_zpid/', 'https://www.zillow.com/community/lumina/2086110486_zpid/', 'https://www.zillow.com/community/san-francisco-shipyard-landing/2083281871_zpid/', 'https://www.zillow.com/community/mira/2082609850_zpid/', 'https://www.zillow.com/community/181-fremont/2093048630_zpid/', 'https://www.zillow.com/community/one-mission-bay/2084054921_zpid/', 'https://www.zillow.com/community/181-fremont/2093048632_zpid/', 'https://www.zillow.com/community/mira/2082609852_zpid/', 'https://www.zillow.com/community/one-mission-bay/2084054922_zpid/', 'https://www.zillow.com/homedetails/403-Main-St-APT-605N-San-Francisco-CA-94105/15148622_zpid/', 'https://www.zillow.com/homedetails/1631-Quintara-St-San-Francisco-CA-94116/15117823_zpid/', 'https://www.zillow.com/community/mira/2082609848_zpid/', 'https://www.zillow.com/community/san-francisco-shipyard-monarch/2086796159_zpid/', 'https://www.zillow.com/community/san-francisco-shipyard-landing/2083281868_zpid/', 'https://www.zillow.com/community/san-francisco-shipyard-monarch/2086796161_zpid/', 'https://www.zillow.com/homedetails/1070-Green-St-APT-801-San-Francisco-CA-94133/15066019_zpid/', 'https://www.zillow.com/homedetails/950-Tennessee-St-101-San-Francisco-CA-94107/2081694854_zpid/', 'https://www.zillow.com/homedetails/950-Tennessee-St-122-San-Francisco-CA-94107/2081694902_zpid/', 'https://www.zillow.com/homedetails/110-Channel-St-UNIT-324-San-Francisco-CA-94158/249665066_zpid/', 'https://www.zillow.com/homedetails/950-Tennessee-St-114-San-Francisco-CA-94107/2081695017_zpid/', 'https://www.zillow.com/homedetails/950-Tennessee-St-208-San-Francisco-CA-94107/2081695197_zpid/', 'https://www.zillow.com/homedetails/950-Tennessee-St-109-San-Francisco-CA-94107/2081695488_zpid/', 'https://www.zillow.com/homedetails/47-Bowman-Ct-San-Francisco-CA-94124/15153491_zpid/', 'https://www.zillow.com/homedetails/429-Douglass-St-San-Francisco-CA-94114/15130344_zpid/', 'https://www.zillow.com/homedetails/46-Chicago-Way-San-Francisco-CA-94112/15177508_zpid/', 'https://www.zillow.com/homedetails/2083-45th-Ave-San-Francisco-CA-94116/15116561_zpid/', 'https://www.zillow.com/homedetails/651-19th-Ave-San-Francisco-CA-94121/15097834_zpid/', 'https://www.zillow.com/homedetails/521-Point-Lobos-Ave-San-Francisco-CA-94121/15092848_zpid/', 'https://www.zillow.com/homedetails/994-Junipero-Serra-Blvd-San-Francisco-CA-94132/15197175_zpid/', 'https://www.zillow.com/homedetails/647-34th-Ave-San-Francisco-CA-94121/15095865_zpid/', 'https://www.zillow.com/homedetails/323-29th-St-C101-San-Francisco-CA-94131/53153667_zpid/', 'https://www.zillow.com/homedetails/1110-Green-St-San-Francisco-CA-94109/15066047_zpid/', 'https://www.zillow.com/homedetails/220-Lombard-St-APT-219-San-Francisco-CA-94111/15064057_zpid/', 'https://www.zillow.com/homedetails/3466-Jackson-St-San-Francisco-CA-94118/15080985_zpid/', 'https://www.zillow.com/homedetails/2028-14th-Ave-San-Francisco-CA-94116/15115447_zpid/', 'https://www.zillow.com/homedetails/131-Wilmot-St-San-Francisco-CA-94115/15075291_zpid/', 'https://www.zillow.com/homedetails/501-43rd-Ave-APT-4-San-Francisco-CA-94121/15093163_zpid/', 'https://www.zillow.com/homedetails/1298-Treat-Ave-San-Francisco-CA-94110/2108857638_zpid/', 'https://www.zillow.com/homedetails/574-Natoma-St-APT-402-San-Francisco-CA-94103/119684755_zpid/', 'https://www.zillow.com/homedetails/2820-Scott-St-San-Francisco-CA-94123/2143821426_zpid/', 'https://www.zillow.com/homedetails/1502-Noe-St-San-Francisco-CA-94131/15182903_zpid/', 'https://www.zillow.com/homedetails/70-Rockaway-Ave-San-Francisco-CA-94127/15133734_zpid/', 'https://www.zillow.com/homedetails/3316-3320-Scott-St-San-Francisco-CA-94123/2085020527_zpid/', 'https://www.zillow.com/homedetails/2695-23rd-Ave-San-Francisco-CA-94116/15125244_zpid/', 'https://www.zillow.com/homedetails/226-Roosevelt-Way-226-San-Francisco-CA-94114/2083363212_zpid/', 'https://www.zillow.com/homedetails/301-Crescent-Ct-APT-3414-San-Francisco-CA-94134/79847572_zpid/', 'https://www.zillow.com/homedetails/684-Clarendon-Ave-San-Francisco-CA-94131/15130120_zpid/', 'https://www.zillow.com/homedetails/252-Collingwood-St-San-Francisco-CA-94114/15129351_zpid/', 'https://www.zillow.com/homedetails/2075-Quesada-Ave-San-Francisco-CA-94124/15156804_zpid/', 'https://www.zillow.com/homedetails/3-Clarendon-Ave-San-Francisco-CA-94114/15129696_zpid/', 'https://www.zillow.com/homedetails/1345-16th-Ave-APT-3-San-Francisco-CA-94122/2104088326_zpid/', 'https://www.zillow.com/homedetails/152-Elsie-St-San-Francisco-CA-94110/125243762_zpid/', 'https://www.zillow.com/homedetails/388-Faxon-Ave-8-San-Francisco-CA-94112/15189345_zpid/', 'https://www.zillow.com/homedetails/882-25th-Ave-San-Francisco-CA-94121/15099504_zpid/', 'https://www.zillow.com/homedetails/601-Van-Ness-Ave-APT-205-San-Francisco-CA-94102/15077729_zpid/', 'https://www.zillow.com/homedetails/1631-Quintara-St-San-Francisco-CA-94116/15117823_zpid/', 'https://www.zillow.com/homedetails/1250-Jones-St-UNIT-1901-San-Francisco-CA-94109/15067921_zpid/', 'https://www.zillow.com/homedetails/1328-York-St-San-Francisco-CA-94110/15152614_zpid/', 'https://www.zillow.com/homedetails/4763-19th-St-San-Francisco-CA-94114/15129763_zpid/', 'https://www.zillow.com/homedetails/343-345-Russia-Ave-San-Francisco-CA-94112/241587296_zpid/', 'https://www.zillow.com/homedetails/474-Frederick-St-San-Francisco-CA-94117/2082938023_zpid/', 'https://www.zillow.com/homedetails/95-Ora-Way-UNIT-F211-San-Francisco-CA-94131/2082949351_zpid/', 'https://www.zillow.com/homedetails/955-Union-St-San-Francisco-CA-94133/2087374096_zpid/', 'https://www.zillow.com/community/lumina/2086110486_zpid/', 'https://www.zillow.com/homedetails/260-King-St-UNIT-717-San-Francisco-CA-94107/69819628_zpid/', 'https://www.zillow.com/homedetails/403-Main-St-APT-605N-San-Francisco-CA-94105/15148622_zpid/', 'https://www.zillow.com/homedetails/280-Funston-Ave-San-Francisco-CA-94118/69819960_zpid/', 'https://www.zillow.com/homedetails/1122-Page-St-APT-4-San-Francisco-CA-94117/2127546190_zpid/', 'https://www.zillow.com/homedetails/615-Missouri-St-San-Francisco-CA-94107/15150813_zpid/', 'https://www.zillow.com/homedetails/2386-Union-St-San-Francisco-CA-94123/15071814_zpid/', 'https://www.zillow.com/homedetails/901-Bay-Shore-Blvd-APT-208-San-Francisco-CA-94124/80738875_zpid/', 'https://www.zillow.com/homedetails/1863-19th-Ave-San-Francisco-CA-94122/64971493_zpid/', 'https://www.zillow.com/homedetails/765-Market-St-APT-34A-San-Francisco-CA-94103/63194815_zpid/', 'https://www.zillow.com/homedetails/1283-Portola-Dr-San-Francisco-CA-94127/89237679_zpid/', 'https://www.zillow.com/homedetails/2936-24th-Ave-San-Francisco-CA-94132/15196443_zpid/', 'https://www.zillow.com/homedetails/2000-Washington-St-5-San-Francisco-CA-94109/80738035_zpid/', 'https://www.zillow.com/homedetails/15-19-Landers-St-19-San-Francisco-CA-94114/2081754095_zpid/', 'https://www.zillow.com/homedetails/2863-Green-St-San-Francisco-CA-94123/15080757_zpid/', 'https://www.zillow.com/homedetails/344-Holladay-Ave-San-Francisco-CA-94110/15160882_zpid/', 'https://www.zillow.com/homedetails/1000-N-Point-St-APT-203-San-Francisco-CA-94109/80731741_zpid/', 'https://www.zillow.com/homedetails/2006-24th-Ave-San-Francisco-CA-94116/15115929_zpid/', 'https://www.zillow.com/homedetails/1323-1325-35th-Ave-San-Francisco-CA-94122/2088842454_zpid/', 'https://www.zillow.com/homedetails/140-Clarendon-Ave-San-Francisco-CA-94114/15129075_zpid/', 'https://www.zillow.com/homedetails/9-Ora-Way-San-Francisco-CA-94131/15199754_zpid/', 'https://www.zillow.com/homedetails/2691-Alemany-Blvd-San-Francisco-CA-94112/15192740_zpid/', 'https://www.zillow.com/homedetails/1151-Sutter-St-102-San-Francisco-CA-94109/2138358025_zpid/', 'https://www.zillow.com/homedetails/354-356-6th-Ave-San-Francisco-CA-94118/2082537485_zpid/', 'https://www.zillow.com/homedetails/1667-Silver-Ave-San-Francisco-CA-94124/2128171278_zpid/', 'https://www.zillow.com/homedetails/2973-Jackson-St-San-Francisco-CA-94115/2082806743_zpid/', 'https://www.zillow.com/homedetails/2826-21st-St-San-Francisco-CA-94110/2081867788_zpid/', 'https://www.zillow.com/homedetails/183-Sage-St-Daly-City-CA-94014/2081874440_zpid/', 'https://www.zillow.com/homedetails/950-Duncan-St-APT-201E-San-Francisco-CA-94131/15199089_zpid/', 'https://www.zillow.com/homedetails/403-Main-St-APT-712-San-Francisco-CA-94105/15148649_zpid/', 'https://www.zillow.com/homedetails/631-Ofarrell-St-APT-1116-San-Francisco-CA-94109/15069516_zpid/', 'https://www.zillow.com/homedetails/212-Putnam-St-San-Francisco-CA-94110/15163982_zpid/', 'https://www.zillow.com/homedetails/123-Bernard-St-San-Francisco-CA-94109/15066996_zpid/', 'https://www.zillow.com/homedetails/950-Tennessee-St-122-San-Francisco-CA-94107/2081694902_zpid/', 'https://www.zillow.com/homedetails/201-Sansome-St-UNIT-404-San-Francisco-CA-94104/79843297_zpid/', 'https://www.zillow.com/homedetails/461-32nd-Ave-San-Francisco-CA-94121/2082302355_zpid/', 'https://www.zillow.com/homedetails/594-598-Moscow-St-San-Francisco-CA-94112/2081709680_zpid/', 'https://www.zillow.com/homedetails/201-Harrison-St-APT-324-San-Francisco-CA-94105/15148208_zpid/', 'https://www.zillow.com/homedetails/1216-47th-Ave-1-San-Francisco-CA-94122/2083865683_zpid/', 'https://www.zillow.com/homedetails/83-Mcallister-St-APT-203-San-Francisco-CA-94102/89237488_zpid/', 'https://www.zillow.com/homedetails/123-9th-Ave-San-Francisco-CA-94118/2091063229_zpid/', 'https://www.zillow.com/homedetails/1216-Newhall-St-San-Francisco-CA-94124/15156068_zpid/', 'https://www.zillow.com/homedetails/16-Knott-Ct-San-Francisco-CA-94112/15179756_zpid/', 'https://www.zillow.com/homedetails/41-Cuvier-St-San-Francisco-CA-94112/2082017065_zpid/', 'https://www.zillow.com/homedetails/210-Laidley-St-San-Francisco-CA-94131/15184125_zpid/', 'https://www.zillow.com/homedetails/1314-Larkin-St-San-Francisco-CA-94109/2082636935_zpid/', 'https://www.zillow.com/homedetails/630-Natoma-St-3-San-Francisco-CA-94103/2083295034_zpid/', 'https://www.zillow.com/homedetails/1840-Washington-St-APT-702-San-Francisco-CA-94109/117673807_zpid/', 'https://www.zillow.com/homedetails/631-Ofarrell-St-APT-507-San-Francisco-CA-94109/15069431_zpid/', 'https://www.zillow.com/homedetails/731-Noe-St-San-Francisco-CA-94114/15145363_zpid/', 'https://www.zillow.com/homedetails/322-6th-St-APT-2-San-Francisco-CA-94103/80740813_zpid/', 'https://www.zillow.com/homedetails/901-Bay-Shore-Blvd-APT-206-San-Francisco-CA-94124/80732953_zpid/', 'https://www.zillow.com/homedetails/2100-Pacific-Ave-San-Francisco-CA-94115/2133554343_zpid/', 'https://www.zillow.com/homedetails/1070-Green-St-APT-801-San-Francisco-CA-94133/15066019_zpid/', 'https://www.zillow.com/homedetails/950-Tennessee-St-114-San-Francisco-CA-94107/2081695017_zpid/', 'https://www.zillow.com/homedetails/1177-California-St-APT-1211-San-Francisco-CA-94108/15068432_zpid/', 'https://www.zillow.com/community/mira/2082609854_zpid/', 'https://www.zillow.com/homedetails/340-Brentwood-Ave-San-Francisco-CA-94127/15137316_zpid/', 'https://www.zillow.com/homedetails/3846-25th-St-San-Francisco-CA-94114/15180828_zpid/', 'https://www.zillow.com/homedetails/2500-Steiner-St-UNIT-3-San-Francisco-CA-94115/80744568_zpid/', 'https://www.zillow.com/homedetails/2437-2441-Post-St-San-Francisco-CA-94115/2081758796_zpid/', 'https://www.zillow.com/homedetails/1269-Lombard-St-San-Francisco-CA-94109/2081765741_zpid/', 'https://www.zillow.com/homedetails/643-40th-Ave-San-Francisco-CA-94121/15096117_zpid/', 'https://www.zillow.com/homedetails/438-29th-St-San-Francisco-CA-94131/15183205_zpid/', 'https://www.zillow.com/homedetails/234-Campbell-Ave-San-Francisco-CA-94134/15173269_zpid/', 'https://www.zillow.com/homedetails/425-1st-St-UNIT-1902-San-Francisco-CA-94105/82786094_zpid/', 'https://www.zillow.com/homedetails/483-485-Oak-St-Aka-483-Oak-St-San-Francisco-CA-94102/2082519038_zpid/', 'https://www.zillow.com/homedetails/481-Clementina-St-APT-E-San-Francisco-CA-94103/2088659233_zpid/', 'https://www.zillow.com/community/san-francisco-shipyard-landing/2082903489_zpid/', 'https://www.zillow.com/homedetails/3129-Mission-St-APT-3-San-Francisco-CA-94110/64971740_zpid/', 'https://www.zillow.com/homedetails/668-672a-Waller-St-672-San-Francisco-CA-94117/2081730673_zpid/', 'https://www.zillow.com/homedetails/827-N-Point-St-1-San-Francisco-CA-94109/123598351_zpid/', 'https://www.zillow.com/homedetails/2208-Mission-St-UNIT-404-San-Francisco-CA-94110/96043108_zpid/', 'https://www.zillow.com/homedetails/2047-15th-St-San-Francisco-CA-94114/2081847619_zpid/', 'https://www.zillow.com/homedetails/212-Summit-Way-San-Francisco-CA-94132/184818400_zpid/', 'https://www.zillow.com/homedetails/86-Webster-St-San-Francisco-CA-94117/15079408_zpid/', 'https://www.zillow.com/homedetails/601-Van-Ness-Ave-APT-812-San-Francisco-CA-94102/15077817_zpid/', 'https://www.zillow.com/homedetails/259-Wilson-St-San-Francisco-CA-94112/15196115_zpid/', 'https://www.zillow.com/homedetails/29A-Parker-Ave-San-Francisco-CA-94118/2082807736_zpid/', 'https://www.zillow.com/homedetails/653-Dolores-St-San-Francisco-CA-94110/241586282_zpid/', 'https://www.zillow.com/homedetails/1350-California-St-APT-206-San-Francisco-CA-94109/15068272_zpid/', 'https://www.zillow.com/homedetails/401-Harrison-St-APT-11G-San-Francisco-CA-94105/249698376_zpid/', 'https://www.zillow.com/homedetails/34-Portola-Dr-San-Francisco-CA-94131/15132184_zpid/', 'https://www.zillow.com/community/mira/2082609853_zpid/', 'https://www.zillow.com/homedetails/202-Union-St-San-Francisco-CA-94133/184663673_zpid/', 'https://www.zillow.com/homedetails/32-Collins-St-101-San-Francisco-CA-94118/15083007_zpid/', 'https://www.zillow.com/homedetails/869-Vermont-St-San-Francisco-CA-94107/15150333_zpid/', 'https://www.zillow.com/homedetails/371-Moscow-St-San-Francisco-CA-94112/15169858_zpid/', 'https://www.zillow.com/homedetails/1925-Gough-St-71-San-Francisco-CA-94109/80747820_zpid/', 'https://www.zillow.com/homedetails/1-Stanyan-St-41-San-Francisco-CA-94118/2087818629_zpid/', 'https://www.zillow.com/homedetails/101-Lombard-St-APT-28-San-Francisco-CA-94111/15064891_zpid/', 'https://www.zillow.com/homedetails/1001-California-St-TH1-San-Francisco-CA-94108/2104757989_zpid/', 'https://www.zillow.com/homedetails/1697-23rd-Ave-San-Francisco-CA-94122/2082176721_zpid/', 'https://www.zillow.com/homedetails/26-Bernice-St-San-Francisco-CA-94103/89237275_zpid/', 'https://www.zillow.com/homedetails/140-142-9th-Ave-San-Francisco-CA-94118/2081768662_zpid/', 'https://www.zillow.com/homedetails/831-833-Filbert-St-San-Francisco-CA-94133/2082011137_zpid/', 'https://www.zillow.com/homedetails/1-Putnam-St-San-Francisco-CA-94110/15162979_zpid/', 'https://www.zillow.com/homedetails/38-Bryant-St-APT-401-San-Francisco-CA-94105/15148422_zpid/', 'https://www.zillow.com/homedetails/763-University-St-San-Francisco-CA-94134/15172095_zpid/', 'https://www.zillow.com/homedetails/1303-Alabama-St-San-Francisco-CA-94110/2094454878_zpid/', 'https://www.zillow.com/homedetails/201-Harrison-St-APT-823-San-Francisco-CA-94105/15148349_zpid/', 'https://www.zillow.com/homedetails/470-Clementina-St-UNIT-304-San-Francisco-CA-94103/64971560_zpid/', 'https://www.zillow.com/homedetails/355-Bryant-St-UNIT-402-San-Francisco-CA-94107/80750074_zpid/', 'https://www.zillow.com/homedetails/47-Clarendon-Ave-San-Francisco-CA-94114/95270632_zpid/', 'https://www.zillow.com/homedetails/1080-Sutter-St-San-Francisco-CA-94109/2082212858_zpid/', 'https://www.zillow.com/homedetails/72-74-Park-St-San-Francisco-CA-94110/2081836246_zpid/', 'https://www.zillow.com/homedetails/1160-Mission-St-UNIT-2014-San-Francisco-CA-94103/83153473_zpid/', 'https://www.zillow.com/homedetails/1645-Pacific-Ave-APT-4D-San-Francisco-CA-94109/123598788_zpid/', 'https://www.zillow.com/homedetails/49-53-Guerrero-St-San-Francisco-CA-94103/2084992008_zpid/', 'https://www.zillow.com/homedetails/2509-2511-Irving-St-San-Francisco-CA-94122/241584317_zpid/', 'https://www.zillow.com/homedetails/795-8th-Ave-APT-201-San-Francisco-CA-94118/15098832_zpid/', 'https://www.zillow.com/homedetails/3590-20th-St-APT-505-San-Francisco-CA-94110/2096898161_zpid/', 'https://www.zillow.com/homedetails/2799-Sacramento-St-San-Francisco-CA-94115/241583443_zpid/', 'https://www.zillow.com/homedetails/277-Sadowa-St-San-Francisco-CA-94112/15195409_zpid/', 'https://www.zillow.com/homedetails/1650-32nd-Ave-San-Francisco-CA-94122/15108900_zpid/', 'https://www.zillow.com/homedetails/908-Broadway-San-Francisco-CA-94133/249697913_zpid/', 'https://www.zillow.com/homedetails/4201-Ocean-Ave-San-Francisco-CA-94132/15197864_zpid/', 'https://www.zillow.com/homedetails/1559-Sacramento-St-San-Francisco-CA-94109/15068310_zpid/', 'https://www.zillow.com/homedetails/175-Bluxome-St-UNIT-104-San-Francisco-CA-94107/80746750_zpid/', 'https://www.zillow.com/homedetails/2457-Lombard-St-San-Francisco-CA-94123/2118409550_zpid/', 'https://www.zillow.com/homedetails/2106-Jackson-St-APT-3-San-Francisco-CA-94115/15073481_zpid/', 'https://www.zillow.com/community/mira/2082474858_zpid/', 'https://www.zillow.com/homedetails/1050-N-Point-St-APT-1201-San-Francisco-CA-94109/63196518_zpid/', 'https://www.zillow.com/homedetails/325-China-Basin-St-UNIT-416-San-Francisco-CA-94158/89237467_zpid/', 'https://www.zillow.com/homedetails/124-Teddy-Ave-San-Francisco-CA-94134/2087511523_zpid/', 'https://www.zillow.com/homedetails/1182-1182A-Palou-Ave-San-Francisco-CA-94124/15153607_zpid/', 'https://www.zillow.com/homedetails/3284-Jackson-St-San-Francisco-CA-94118/15081052_zpid/', 'https://www.zillow.com/homedetails/182-Dublin-St-San-Francisco-CA-94112/15171481_zpid/', 'https://www.zillow.com/homedetails/218-Union-St-APT-5-San-Francisco-CA-94133/2083858347_zpid/', 'https://www.zillow.com/homedetails/644-646-25th-Ave-San-Francisco-CA-94121/2087042220_zpid/', 'https://www.zillow.com/homedetails/1149-Esmeralda-Ave-San-Francisco-CA-94110/125164255_zpid/', 'https://www.zillow.com/homedetails/515-517-23rd-Ave-San-Francisco-CA-94121/2082094795_zpid/', 'https://www.zillow.com/homedetails/1101-Pacific-Ave-APT-203-San-Francisco-CA-94133/2081760209_zpid/', 'https://www.zillow.com/homedetails/280-Spear-St-3Q-San-Francisco-CA-94105/2082754621_zpid/', 'https://www.zillow.com/homedetails/2112-Hyde-St-APT-2-San-Francisco-CA-94109/69818861_zpid/', 'https://www.zillow.com/homedetails/1876-Green-St-San-Francisco-CA-94123/2082767444_zpid/', 'https://www.zillow.com/homedetails/1075-Market-St-UNIT-208-San-Francisco-CA-94103/303806974_zpid/', 'https://www.zillow.com/homedetails/42-States-St-San-Francisco-CA-94114/59700322_zpid/', 'https://www.zillow.com/homedetails/70-Heather-Ave-70-San-Francisco-CA-94118/2082737314_zpid/', 'https://www.zillow.com/homedetails/1812-Pacific-Ave-San-Francisco-CA-94109/96051046_zpid/', 'https://www.zillow.com/community/181-fremont/2093048630_zpid/', 'https://www.zillow.com/homedetails/747-Natoma-St-APT-104-San-Francisco-CA-94103/2082768380_zpid/', 'https://www.zillow.com/homedetails/1771-Washington-St-2-San-Francisco-CA-94109/184678162_zpid/', 'https://www.zillow.com/homedetails/1688-Pine-St-E402-San-Francisco-CA-94109/241585739_zpid/', 'https://www.zillow.com/homedetails/2115-2119-Hyde-St-San-Francisco-CA-94109/2098312677_zpid/', 'https://www.zillow.com/community/mira/2082609850_zpid/', 'https://www.zillow.com/homedetails/690-Market-St-UNIT-2401-San-Francisco-CA-94104/89239465_zpid/', 'https://www.zillow.com/community/san-francisco-shipyard-palisades/2083269123_zpid/', 'https://www.zillow.com/homedetails/3723-3725-Cesar-Chavez-San-Francisco-CA-94110/2082770872_zpid/', 'https://www.zillow.com/homedetails/690-Market-St-UNIT-1701-San-Francisco-CA-94104/89239848_zpid/', 'https://www.zillow.com/homedetails/280-Spear-St-2M-San-Francisco-CA-94105/2082511131_zpid/', 'https://www.zillow.com/homedetails/355-1st-St-S-505-Aka-355-01st-St-San-Francisco-CA-94105/2081645302_zpid/', 'https://www.zillow.com/homedetails/588-Minna-St-203-San-Francisco-CA-94103/2082166352_zpid/', 'https://www.zillow.com/homedetails/1749-1753-Pine-St-San-Francisco-CA-94109/2082620326_zpid/', 'https://www.zillow.com/homedetails/1688-Pine-St-UNIT-E708-San-Francisco-CA-94109/241585783_zpid/', 'https://www.zillow.com/homedetails/3332-3336-Taraval-St-San-Francisco-CA-94116/241584464_zpid/', 'https://www.zillow.com/homedetails/815-Meade-Ave-San-Francisco-CA-94124/53153629_zpid/', 'https://www.zillow.com/homedetails/1608-1612-Dolores-St-San-Francisco-CA-94110/2082572948_zpid/', 'https://www.zillow.com/homedetails/1200-California-St-UNIT-5A-San-Francisco-CA-94109/80731021_zpid/', 'https://www.zillow.com/homedetails/1731-Powell-St-302-San-Francisco-CA-94133/2087137686_zpid/', 'https://www.zillow.com/homedetails/1277-Guerrero-St-San-Francisco-CA-94110/2102122835_zpid/', 'https://www.zillow.com/homedetails/3358-22nd-St-San-Francisco-CA-94110/2082007584_zpid/', 'https://www.zillow.com/homedetails/1736-Fell-St-San-Francisco-CA-94117/2091168962_zpid/', 'https://www.zillow.com/homedetails/147-Flood-Ave-San-Francisco-CA-94131/15139849_zpid/', 'https://www.zillow.com/homedetails/2111-Hyde-St-305-San-Francisco-CA-94109/80731099_zpid/', 'https://www.zillow.com/community/mira/2082077617_zpid/', 'https://www.zillow.com/community/lumina/2086110487_zpid/', 'https://www.zillow.com/homedetails/950-Tennessee-St-109-San-Francisco-CA-94107/2081695488_zpid/', 'https://www.zillow.com/homedetails/588-Minna-St-204-San-Francisco-CA-94103/2081826645_zpid/', 'https://www.zillow.com/homedetails/999-Green-St-APT-1104-San-Francisco-CA-94133/15066353_zpid/', 'https://www.zillow.com/homedetails/2828-21st-St-San-Francisco-CA-94110/2083868310_zpid/', 'https://www.zillow.com/homedetails/301-Mission-St-APT-54C-San-Francisco-CA-94105/114317296_zpid/', 'https://www.zillow.com/homedetails/1080-Chestnut-St-APT-5A-San-Francisco-CA-94109/80740622_zpid/', 'https://www.zillow.com/homedetails/280-Spear-St-32E-San-Francisco-CA-94105/2081852721_zpid/', 'https://www.zillow.com/homedetails/466-Vallejo-St-San-Francisco-CA-94133/63152001_zpid/', 'https://www.zillow.com/homedetails/555-Fulton-St-223-San-Francisco-CA-94102/2082300294_zpid/', 'https://www.zillow.com/homedetails/177-Townsend-St-UNIT-426-San-Francisco-CA-94107/82786256_zpid/', 'https://www.zillow.com/homedetails/256-Bemis-St-San-Francisco-CA-94131/184814827_zpid/', 'https://www.zillow.com/homedetails/181-Fremont-St-UNIT-60A-San-Francisco-CA-94105/249665400_zpid/', 'https://www.zillow.com/homedetails/950-Tennessee-St-110-San-Francisco-CA-94107/2082033295_zpid/', 'https://www.zillow.com/homedetails/757-Lombard-St-San-Francisco-CA-94133/241583089_zpid/', 'https://www.zillow.com/homedetails/570-580-Bush-St-San-Francisco-CA-94108/2082107296_zpid/', 'https://www.zillow.com/homedetails/625-Girard-St-San-Francisco-CA-94134/15171855_zpid/', 'https://www.zillow.com/homedetails/1080-Sutter-St-APT-1101-San-Francisco-CA-94109/123597611_zpid/', 'https://www.zillow.com/homedetails/88-King-St-UNIT-411-San-Francisco-CA-94107/54854658_zpid/', 'https://www.zillow.com/homedetails/72-Townsend-St-UNIT-709-San-Francisco-CA-94107/2095998206_zpid/', 'https://www.zillow.com/homedetails/99-Rausch-St-UNIT-214-San-Francisco-CA-94103/2081881976_zpid/', 'https://www.zillow.com/homedetails/555-4th-St-UNIT-538-San-Francisco-CA-94107/79845908_zpid/', 'https://www.zillow.com/homedetails/501-Lisbon-St-San-Francisco-CA-94112/2082176720_zpid/', 'https://www.zillow.com/homedetails/41-43-Cuvier-St-San-Francisco-CA-94112/2086638646_zpid/', 'https://www.zillow.com/homedetails/1667-1669-Silver-Ave-San-Francisco-CA-94124/241587090_zpid/', 'https://www.zillow.com/homedetails/1538-Visitacion-Ave-San-Francisco-CA-94134/15174451_zpid/', 'https://www.zillow.com/homedetails/735-Marina-Blvd-San-Francisco-CA-94123/15079508_zpid/', 'https://www.zillow.com/homedetails/1515-V-San-Francisco-CA-94131/249342955_zpid/', 'https://www.zillow.com/homedetails/4004-4006-3rd-St-San-Francisco-CA-94124/241587050_zpid/', 'https://www.zillow.com/homedetails/56-Moss-St-APT-1-San-Francisco-CA-94103/15147460_zpid/', 'https://www.zillow.com/homedetails/57-Cayuga-Ave-San-Francisco-CA-94112/15186470_zpid/', 'https://www.zillow.com/homedetails/1200-Gough-St-UNIT-12B-San-Francisco-CA-94109/15077051_zpid/', 'https://www.zillow.com/homedetails/531-Orizaba-Ave-San-Francisco-CA-94132/15190413_zpid/', 'https://www.zillow.com/homedetails/201-Harrison-St-APT-215-San-Francisco-CA-94105/15148168_zpid/', 'https://www.zillow.com/homedetails/74-Brady-St-UNIT-2-San-Francisco-CA-94103/80620668_zpid/', 'https://www.zillow.com/homedetails/27-Jennings-Ct-San-Francisco-CA-94124/15155026_zpid/', 'https://www.zillow.com/homedetails/1339-46th-Ave-San-Francisco-CA-94122/15104059_zpid/', 'https://www.zillow.com/homedetails/114-Faith-St-San-Francisco-CA-94110/15160884_zpid/', 'https://www.zillow.com/homedetails/1370-Thomas-Ave-San-Francisco-CA-94124/15154078_zpid/', 'https://www.zillow.com/homedetails/2631-Ulloa-St-San-Francisco-CA-94116/15123546_zpid/', 'https://www.zillow.com/homedetails/99-Blanken-Ave-San-Francisco-CA-94134/249664383_zpid/', 'https://www.zillow.com/homedetails/1450-44th-Ave-San-Francisco-CA-94122/15104383_zpid/', 'https://www.zillow.com/homedetails/2822-Noriega-St-San-Francisco-CA-94122/15110560_zpid/', 'https://www.zillow.com/homedetails/5110-5112-3rd-St-San-Francisco-CA-94124/241587079_zpid/', 'https://www.zillow.com/homedetails/2211-20th-Ave-San-Francisco-CA-94116/15119673_zpid/', 'https://www.zillow.com/homedetails/1754-35th-Ave-San-Francisco-CA-94122/15110621_zpid/', 'https://www.zillow.com/homedetails/1708-Felton-St-San-Francisco-CA-94134/15167560_zpid/', 'https://www.zillow.com/homedetails/7-Nebraska-St-San-Francisco-CA-94110/15162175_zpid/', 'https://www.zillow.com/homedetails/72-Dorland-St-San-Francisco-CA-94110/79845881_zpid/', 'https://www.zillow.com/homedetails/1050-Silliman-St-San-Francisco-CA-94134/79977497_zpid/', 'https://www.zillow.com/homedetails/118-Vienna-St-San-Francisco-CA-94112/15168001_zpid/', 'https://www.zillow.com/homedetails/516-Arch-St-San-Francisco-CA-94132/15189678_zpid/', 'https://www.zillow.com/homedetails/601-Van-Ness-Ave-APT-244-San-Francisco-CA-94102/15077768_zpid/', 'https://www.zillow.com/homedetails/282-Silver-Ave-San-Francisco-CA-94112/15186872_zpid/', 'https://www.zillow.com/homedetails/8-Las-Villas-Ct-San-Francisco-CA-94124/15153436_zpid/', 'https://www.zillow.com/homedetails/1524-Church-St-San-Francisco-CA-94131/15182372_zpid/', 'https://www.zillow.com/homedetails/135-Holladay-Ave-San-Francisco-CA-94110/15159740_zpid/', 'https://www.zillow.com/homedetails/1722-21st-Ave-San-Francisco-CA-94122/15111272_zpid/', 'https://www.zillow.com/homedetails/865-Vermont-St-San-Francisco-CA-94107/15150369_zpid/', 'https://www.zillow.com/homedetails/1000-Crescent-Ave-San-Francisco-CA-94110/15164773_zpid/', 'https://www.zillow.com/homedetails/1630-La-Salle-Ave-San-Francisco-CA-94124/59780017_zpid/', 'https://www.zillow.com/homedetails/2447-19th-Ave-San-Francisco-CA-94116/123597773_zpid/', 'https://www.zillow.com/homedetails/1251-37th-Ave-San-Francisco-CA-94122/15101274_zpid/', 'https://www.zillow.com/homedetails/31-Starview-Way-San-Francisco-CA-94131/15132369_zpid/', 'https://www.zillow.com/homedetails/70-W-View-Ave-San-Francisco-CA-94134/15166492_zpid/', 'https://www.zillow.com/homedetails/2865-Jackson-St-APT-2-San-Francisco-CA-94115/15081278_zpid/', 'https://www.zillow.com/homedetails/2112-Hyde-St-APT-4-San-Francisco-CA-94109/69819868_zpid/', 'https://www.zillow.com/homedetails/56-Moss-St-APT-1-San-Francisco-CA-94103/15147460_zpid/', 'https://www.zillow.com/homedetails/78-San-Leandro-Way-San-Francisco-CA-94127/15137981_zpid/', 'https://www.zillow.com/homedetails/90-Liebig-St-San-Francisco-CA-94112/15195956_zpid/', 'https://www.zillow.com/homedetails/176-Randall-St-San-Francisco-CA-94131/15183781_zpid/', 'https://www.zillow.com/homedetails/356-Hanover-St-San-Francisco-CA-94112/15179547_zpid/', 'https://www.zillow.com/homedetails/4343-3rd-St-APT-304-San-Francisco-CA-94124/80622783_zpid/', 'https://www.zillow.com/homedetails/1450-44th-Ave-San-Francisco-CA-94122/15104383_zpid/', 'https://www.zillow.com/homedetails/4376-17th-St-San-Francisco-CA-94114/15128145_zpid/', 'https://www.zillow.com/homedetails/78-San-Leandro-Way-San-Francisco-CA-94127/15137981_zpid/', 'https://www.zillow.com/homedetails/251-Farallones-St-San-Francisco-CA-94112/15194493_zpid/', 'https://www.zillow.com/homedetails/72-Dorland-St-San-Francisco-CA-94110/79845881_zpid/', 'https://www.zillow.com/homedetails/268-Summit-Way-San-Francisco-CA-94132/184812730_zpid/', 'https://www.zillow.com/homedetails/80-Crescent-Ave-San-Francisco-CA-94110/15164451_zpid/', 'https://www.zillow.com/homedetails/1339-46th-Ave-San-Francisco-CA-94122/15104059_zpid/', 'https://www.zillow.com/homedetails/135-Holladay-Ave-San-Francisco-CA-94110/15159740_zpid/', 'https://www.zillow.com/homedetails/1457-Florida-St-San-Francisco-CA-94110/15152946_zpid/', 'https://www.zillow.com/homedetails/545-Thornton-Ave-San-Francisco-CA-94124/15158691_zpid/', 'https://www.zillow.com/homedetails/4121-19th-Ave-San-Francisco-CA-94132/15195154_zpid/', 'https://www.zillow.com/homedetails/941-Vallejo-St-84-San-Francisco-CA-94133/15066735_zpid/', 'https://www.zillow.com/homedetails/70-W-View-Ave-San-Francisco-CA-94134/15166492_zpid/', 'https://www.zillow.com/homedetails/55-Jules-Ave-San-Francisco-CA-94112/15190472_zpid/', 'https://www.zillow.com/homedetails/282-Silver-Ave-San-Francisco-CA-94112/15186872_zpid/', 'https://www.zillow.com/homedetails/1524-Church-St-San-Francisco-CA-94131/15182372_zpid/', 'https://www.zillow.com/homedetails/639-Grand-View-Ave-San-Francisco-CA-94114/15179942_zpid/', 'https://www.zillow.com/homedetails/128-Elsie-St-San-Francisco-CA-94110/125272141_zpid/', 'https://www.zillow.com/homedetails/227-Sagamore-St-San-Francisco-CA-94112/15195737_zpid/', 'https://www.zillow.com/homedetails/865-Vermont-St-San-Francisco-CA-94107/15150369_zpid/', 'https://www.zillow.com/homedetails/290-Cambridge-St-San-Francisco-CA-94134/15166739_zpid/', 'https://www.zillow.com/homedetails/167-171-Victoria-St-San-Francisco-CA-94132/15195012_zpid/', 'https://www.zillow.com/homedetails/31-Starview-Way-San-Francisco-CA-94131/15132369_zpid/', 'https://www.zillow.com/homedetails/2112-Hyde-St-APT-4-San-Francisco-CA-94109/69819868_zpid/', 'https://www.zillow.com/homedetails/8-Las-Villas-Ct-San-Francisco-CA-94124/15153436_zpid/', 'https://www.zillow.com/homedetails/2822-Noriega-St-San-Francisco-CA-94122/15110560_zpid/', 'https://www.zillow.com/homedetails/356-Hanover-St-San-Francisco-CA-94112/15179547_zpid/', 'https://www.zillow.com/homedetails/2079-Carroll-Ave-San-Francisco-CA-94124/15159301_zpid/', 'https://www.zillow.com/homedetails/1708-Felton-St-San-Francisco-CA-94134/15167560_zpid/', 'https://www.zillow.com/homedetails/5110-5112-3rd-St-San-Francisco-CA-94124/241587079_zpid/', 'https://www.zillow.com/homedetails/1014-1016-Diamond-St-San-Francisco-CA-94114/241587483_zpid/', 'https://www.zillow.com/homedetails/1370-Thomas-Ave-San-Francisco-CA-94124/15154078_zpid/', 'https://www.zillow.com/homedetails/201-Harrison-St-APT-215-San-Francisco-CA-94105/15148168_zpid/', 'https://www.zillow.com/homedetails/27-Jennings-Ct-San-Francisco-CA-94124/15155026_zpid/', 'https://www.zillow.com/homedetails/380-14th-St-APT-506-San-Francisco-CA-94103/115828547_zpid/', 'https://www.zillow.com/homedetails/332-Sawyer-St-San-Francisco-CA-94134/15174490_zpid/', 'https://www.zillow.com/homedetails/74-Brady-St-UNIT-2-San-Francisco-CA-94103/80620668_zpid/', 'https://www.zillow.com/homedetails/33-Benton-Ave-San-Francisco-CA-94112/15164858_zpid/', 'https://www.zillow.com/homedetails/1278-39th-Ave-San-Francisco-CA-94122/15101241_zpid/', 'https://www.zillow.com/homedetails/123-Kirkham-St-San-Francisco-CA-94122/59779572_zpid/', 'https://www.zillow.com/homedetails/312-Avalon-Ave-San-Francisco-CA-94112/15169353_zpid/', 'https://www.zillow.com/homedetails/3034-24th-St-San-Francisco-CA-94110/15146853_zpid/', 'https://www.zillow.com/homedetails/244-Banks-St-San-Francisco-CA-94110/15162227_zpid/', 'https://www.zillow.com/homedetails/6-Burlwood-Dr-San-Francisco-CA-94127/15136408_zpid/', 'https://www.zillow.com/homedetails/1457-Florida-St-San-Francisco-CA-94110/15152946_zpid/', 'https://www.zillow.com/homedetails/55-Jules-Ave-San-Francisco-CA-94112/15190472_zpid/', 'https://www.zillow.com/homedetails/140-Lapham-Way-San-Francisco-CA-94112/15177820_zpid/', 'https://www.zillow.com/homedetails/78-Ina-Ct-San-Francisco-CA-94112/15169052_zpid/', 'https://www.zillow.com/homedetails/63-Farnum-St-San-Francisco-CA-94131/15200321_zpid/', 'https://www.zillow.com/homedetails/4121-19th-Ave-San-Francisco-CA-94132/15195154_zpid/', 'https://www.zillow.com/homedetails/55-Arco-Way-San-Francisco-CA-94112/15140315_zpid/', 'https://www.zillow.com/homedetails/143-Naples-St-San-Francisco-CA-94112/15168032_zpid/', 'https://www.zillow.com/homedetails/268-Summit-Way-San-Francisco-CA-94132/184812730_zpid/', 'https://www.zillow.com/homedetails/239-Farallones-St-San-Francisco-CA-94112/15194499_zpid/', 'https://www.zillow.com/homedetails/295-Farallones-St-San-Francisco-CA-94112/15194485_zpid/', 'https://www.zillow.com/homedetails/4209-Kirkham-St-San-Francisco-CA-94122/15107904_zpid/', 'https://www.zillow.com/homedetails/1027-Portola-Dr-San-Francisco-CA-94127/15135554_zpid/', 'https://www.zillow.com/homedetails/1369-Quesada-Ave-San-Francisco-CA-94124/15153830_zpid/', 'https://www.zillow.com/homedetails/941-Vallejo-St-84-San-Francisco-CA-94133/15066735_zpid/', 'https://www.zillow.com/homedetails/12-Avalon-Ave-APT-4-San-Francisco-CA-94112/121337401_zpid/', 'https://www.zillow.com/homedetails/926-Garfield-St-San-Francisco-CA-94132/15189901_zpid/', 'https://www.zillow.com/homedetails/1632-Florida-St-San-Francisco-CA-94110/15159835_zpid/', 'https://www.zillow.com/homedetails/740-Francisco-St-San-Francisco-CA-94133/15063505_zpid/', 'https://www.zillow.com/homedetails/227-Sagamore-St-San-Francisco-CA-94112/15195737_zpid/', 'https://www.zillow.com/homedetails/235-Ramsell-St-San-Francisco-CA-94132/15193611_zpid/', 'https://www.zillow.com/homedetails/150-Lenox-Way-San-Francisco-CA-94127/15133837_zpid/', 'https://www.zillow.com/homedetails/3750-21st-St-San-Francisco-CA-94114/15145337_zpid/', 'https://www.zillow.com/homedetails/639-Grand-View-Ave-San-Francisco-CA-94114/15179942_zpid/', 'https://www.zillow.com/homedetails/290-Cambridge-St-San-Francisco-CA-94134/15166739_zpid/', 'https://www.zillow.com/homedetails/53-Cielito-Dr-San-Francisco-CA-94134/15175898_zpid/', 'https://www.zillow.com/homedetails/2855-Filbert-St-San-Francisco-CA-94123/15080536_zpid/', 'https://www.zillow.com/homedetails/48-Meda-Ave-San-Francisco-CA-94112/15141347_zpid/', 'https://www.zillow.com/homedetails/601-Alabama-St-UNIT-309-San-Francisco-CA-94110/111711113_zpid/', 'https://www.zillow.com/homedetails/892-894-Guerrero-St-San-Francisco-CA-94110/2082240364_zpid/', 'https://www.zillow.com/homedetails/1433-Bush-St-803-San-Francisco-CA-94109/2082754030_zpid/', 'https://www.zillow.com/homedetails/2973-2975-Jackson-St-San-Francisco-CA-94115/2082588488_zpid/', 'https://www.zillow.com/homedetails/1545-Pine-St-APT-1103-San-Francisco-CA-94109/303807071_zpid/', 'https://www.zillow.com/homedetails/3535-Wawona-St-333-San-Francisco-CA-94116/2081948109_zpid/', 'https://www.zillow.com/homedetails/3953-21st-St-San-Francisco-CA-94114/2083085333_zpid/', 'https://www.zillow.com/homedetails/2230-3rd-St-San-Francisco-CA-94107/2082960900_zpid/', 'https://www.zillow.com/homedetails/1150-Sacramento-St-APT-402-San-Francisco-CA-94108/15067977_zpid/', 'https://www.zillow.com/homedetails/882-884-47th-Ave-San-Francisco-CA-94121/2082735405_zpid/', 'https://www.zillow.com/homedetails/1782-Revere-Ave-San-Francisco-CA-94124/15157119_zpid/', 'https://www.zillow.com/homedetails/729-733-Vallejo-St-San-Francisco-CA-94133/241583185_zpid/', 'https://www.zillow.com/homedetails/40-Acton-St-Daly-City-CA-94014/15462757_zpid/', 'https://www.zillow.com/homedetails/280-Spear-St-9C-San-Francisco-CA-94105/2081853347_zpid/', 'https://www.zillow.com/homedetails/950-Tennessee-St-101-San-Francisco-CA-94107/2081694854_zpid/', 'https://www.zillow.com/homedetails/1838-1820-Alabama-St-San-Francisco-CA-94110/2082711981_zpid/', 'https://www.zillow.com/community/one-mission-bay/2084054921_zpid/', 'https://www.zillow.com/homedetails/403-Main-St-APT-703N-San-Francisco-CA-94105/15148640_zpid/', 'https://www.zillow.com/homedetails/88-King-St-UNIT-115-San-Francisco-CA-94107/54854646_zpid/', 'https://www.zillow.com/homedetails/1545-Pine-St-APT-1204-San-Francisco-CA-94109/303807163_zpid/', 'https://www.zillow.com/homedetails/201-Folsom-St-APT-41A-San-Francisco-CA-94105/2086203722_zpid/', 'https://www.zillow.com/homedetails/94-Bernal-Heights-Blvd-San-Francisco-CA-94110/15161669_zpid/', 'https://www.zillow.com/homedetails/586-Clipper-St-San-Francisco-CA-94114/2082328734_zpid/', 'https://www.zillow.com/community/mira/2082609848_zpid/', 'https://www.zillow.com/homedetails/88-King-St-UNIT-1407-San-Francisco-CA-94107/80750127_zpid/', 'https://www.zillow.com/homedetails/765-Market-St-3B-San-Francisco-CA-94103/63197408_zpid/', 'https://www.zillow.com/homedetails/123-Stillings-Ave-San-Francisco-CA-94131/15137721_zpid/', 'https://www.zillow.com/homedetails/1960-Broadway-5-San-Francisco-CA-94109/80626279_zpid/', 'https://www.zillow.com/homedetails/830-Rhode-Island-St-San-Francisco-CA-94107/15150374_zpid/', 'https://www.zillow.com/homedetails/1748-1752-Fell-St-San-Francisco-CA-94117/2082000073_zpid/', 'https://www.zillow.com/homedetails/555-Fulton-St-317-San-Francisco-CA-94102/2085362973_zpid/', 'https://www.zillow.com/homedetails/684-48th-Ave-San-Francisco-CA-94121/2109408836_zpid/', 'https://www.zillow.com/homedetails/2606-2610-Folsom-St-San-Francisco-CA-94110/2082395308_zpid/', 'https://www.zillow.com/homedetails/337-Webster-St-San-Francisco-CA-94117/2108755769_zpid/', 'https://www.zillow.com/homedetails/1524-Haight-St-1528-San-Francisco-CA-94117/2084135071_zpid/', 'https://www.zillow.com/homedetails/1257-1261-Lombard-St-San-Francisco-CA-94109/2088845185_zpid/', 'https://www.zillow.com/homedetails/370-Dolores-St-San-Francisco-CA-94110/111933632_zpid/', 'https://www.zillow.com/community/mira/2082609849_zpid/', 'https://www.zillow.com/homedetails/950-Tennessee-St-208-San-Francisco-CA-94107/2081695197_zpid/', 'https://www.zillow.com/homedetails/99-Rausch-St-UNIT-522-San-Francisco-CA-94103/2082068740_zpid/', 'https://www.zillow.com/homedetails/6423-6425-California-St-San-Francisco-CA-94121/2082773447_zpid/', 'https://www.zillow.com/homedetails/4124-Judah-St-San-Francisco-CA-94122/2082105291_zpid/', 'https://www.zillow.com/homedetails/522-526-Lake-St-San-Francisco-CA-94118/2082176718_zpid/', 'https://www.zillow.com/homedetails/3979-3981-24th-St-San-Francisco-CA-94114/2087850523_zpid/', 'https://www.zillow.com/homedetails/338-Main-St-UNIT-35E-San-Francisco-CA-94105/2081750697_zpid/', 'https://www.zillow.com/homedetails/830-Olmstead-St-San-Francisco-CA-94134/15172047_zpid/', 'https://www.zillow.com/homedetails/245-Scott-St-San-Francisco-CA-94117/2086879073_zpid/', 'https://www.zillow.com/homedetails/555-Fulton-St-313-San-Francisco-CA-94102/2082300144_zpid/', 'https://www.zillow.com/community/san-francisco-shipyard-monarch/2086796161_zpid/', 'https://www.zillow.com/homedetails/166-Brewster-St-San-Francisco-CA-94110/125161991_zpid/', 'https://www.zillow.com/homedetails/1927-1929-Taraval-St-San-Francisco-CA-94116/2083084186_zpid/', 'https://www.zillow.com/homedetails/88-Townsend-St-APT-414-San-Francisco-CA-94107/80754197_zpid/', 'https://www.zillow.com/homedetails/1000-3rd-St-UNIT-514-San-Francisco-CA-94158/249665431_zpid/', 'https://www.zillow.com/homedetails/1333-Jones-St-UNIT-1202-San-Francisco-CA-94109/63196235_zpid/', 'https://www.zillow.com/homedetails/10-Innes-Ct-303-San-Francisco-CA-94124/2085155315_zpid/', 'https://www.zillow.com/homedetails/201-Folsom-St-APT-39B-San-Francisco-CA-94105/303806107_zpid/', 'https://www.zillow.com/homedetails/3535-Wawona-St-218-San-Francisco-CA-94116/2082773200_zpid/', 'https://www.zillow.com/homedetails/1177-California-St-APT-724-San-Francisco-CA-94108/15068523_zpid/', 'https://www.zillow.com/homedetails/786-17th-Ave-San-Francisco-CA-94121/2082197926_zpid/', 'https://www.zillow.com/homedetails/943-Lombard-St-San-Francisco-CA-94133/51082386_zpid/', 'https://www.zillow.com/community/san-francisco-shipyard-landing/2083281868_zpid/', 'https://www.zillow.com/homedetails/706-Mission-St-15B-San-Francisco-CA-94103/2082670494_zpid/', 'https://www.zillow.com/community/one-mission-bay/2084054922_zpid/', 'https://www.zillow.com/homedetails/614-616-Natoma-St-San-Francisco-CA-94103/2085002641_zpid/', 'https://www.zillow.com/homedetails/5323-Mission-St-San-Francisco-CA-94112/2083679025_zpid/', 'https://www.zillow.com/homedetails/401-Harrison-St-APT-28E-San-Francisco-CA-94105/249698421_zpid/', 'https://www.zillow.com/homedetails/2-Mint-Plz-SUITE-602-San-Francisco-CA-94103/80738474_zpid/', 'https://www.zillow.com/homedetails/750-2nd-St-APT-302-San-Francisco-CA-94107/122245531_zpid/', 'https://www.zillow.com/homedetails/106-112-Noe-St-San-Francisco-CA-94114/2081993090_zpid/', 'https://www.zillow.com/homedetails/2350-Market-St-San-Francisco-CA-94114/2086082967_zpid/', 'https://www.zillow.com/homedetails/940-Jackson-St-San-Francisco-CA-94133/2108770641_zpid/', 'https://www.zillow.com/homedetails/1080-Chestnut-St-APT-11D-San-Francisco-CA-94109/80745287_zpid/', 'https://www.zillow.com/homedetails/2446-27th-Ave-San-Francisco-CA-94116/15122418_zpid/', 'https://www.zillow.com/homedetails/1325-California-St-LOT-1327-San-Francisco-CA-94109/2082048678_zpid/', 'https://www.zillow.com/homedetails/301-Mission-St-APT-24D-San-Francisco-CA-94105/111710979_zpid/', 'https://www.zillow.com/community/mira/2082609852_zpid/', 'https://www.zillow.com/homedetails/300-304-Taraval-St-San-Francisco-CA-94116/2082240380_zpid/', 'https://www.zillow.com/homedetails/400-Beale-St-APT-2004-San-Francisco-CA-94105/80732201_zpid/', 'https://www.zillow.com/homedetails/165-Beaver-St-San-Francisco-CA-94114/2082262012_zpid/', 'https://www.zillow.com/homedetails/21-Stillman-St-APT-3-San-Francisco-CA-94107/80732345_zpid/', 'https://www.zillow.com/homedetails/201-Folsom-St-41B-San-Francisco-CA-94105/2082837920_zpid/', 'https://www.zillow.com/homedetails/555-Fulton-St-334-San-Francisco-CA-94102/2091552235_zpid/', 'https://www.zillow.com/homedetails/936-Esmeralda-Ave-San-Francisco-CA-94110/15160736_zpid/', 'https://www.zillow.com/homedetails/846-850-Capp-St-San-Francisco-CA-94110/2082718524_zpid/', 'https://www.zillow.com/homedetails/2020-Webster-St-San-Francisco-CA-94115/2082636934_zpid/', 'https://www.zillow.com/homedetails/721-725-Randolph-St-San-Francisco-CA-94132/2093033234_zpid/', 'https://www.zillow.com/homedetails/1200-California-St-UNIT-5D-San-Francisco-CA-94109/80739210_zpid/', 'https://www.zillow.com/homedetails/2301-Webster-St-San-Francisco-CA-94115/2092594990_zpid/', 'https://www.zillow.com/homedetails/1000-3rd-St-UNIT-1307-San-Francisco-CA-94158/2084054924_zpid/', 'https://www.zillow.com/homedetails/280-Spear-St-2H-San-Francisco-CA-94105/2082511090_zpid/', 'https://www.zillow.com/homedetails/5850-5852-Mission-St-San-Francisco-CA-94112/2084454199_zpid/', 'https://www.zillow.com/homedetails/110-Channel-St-UNIT-324-San-Francisco-CA-94158/249665066_zpid/', 'https://www.zillow.com/homedetails/1910-California-St-San-Francisco-CA-94109/2083164959_zpid/', 'https://www.zillow.com/homedetails/260-King-St-UNIT-1603-San-Francisco-CA-94107/69819699_zpid/', 'https://www.zillow.com/homedetails/333-Bush-St-APT-4206-San-Francisco-CA-94104/15069262_zpid/', 'https://www.zillow.com/community/san-francisco-shipyard-monarch/2086796159_zpid/', 'https://www.zillow.com/homedetails/757-Natoma-St-San-Francisco-CA-94103/2109172775_zpid/', 'https://www.zillow.com/homedetails/101-Lombard-St-APT-503W-San-Francisco-CA-94111/15064954_zpid/', 'https://www.zillow.com/homedetails/1000-3rd-St-UNIT-1202-San-Francisco-CA-94158/249664611_zpid/', 'https://www.zillow.com/homedetails/239-Brannan-St-UNIT-12G-San-Francisco-CA-94107/58627013_zpid/', 'https://www.zillow.com/homedetails/488-Folsom-St-3402-San-Francisco-CA-94105/2082805939_zpid/', 'https://www.zillow.com/community/181-fremont/2093048631_zpid/', 'https://www.zillow.com/homedetails/1177-California-St-APT-1514-San-Francisco-CA-94108/15068402_zpid/', 'https://www.zillow.com/homedetails/3076-26th-St-San-Francisco-CA-94110/2082544123_zpid/', 'https://www.zillow.com/homedetails/765-Market-St-APT-22C-San-Francisco-CA-94103/63197280_zpid/', 'https://www.zillow.com/homedetails/258-Cumberland-St-San-Francisco-CA-94114/15145049_zpid/', 'https://www.zillow.com/homedetails/338-Spear-St-UNIT-31D-San-Francisco-CA-94105/89239223_zpid/', 'https://www.zillow.com/homedetails/260-King-St-UNIT-461-San-Francisco-CA-94107/69819726_zpid/', 'https://www.zillow.com/homedetails/1080-Chestnut-St-APT-11B-San-Francisco-CA-94109/80744103_zpid/', 'https://www.zillow.com/homedetails/219-Brannan-St-UNIT-8H-San-Francisco-CA-94107/52273854_zpid/', 'https://www.zillow.com/homedetails/4652-Geary-Blvd-San-Francisco-CA-94118/241584002_zpid/', 'https://www.zillow.com/homedetails/1215-Broadway-LOT-1217-San-Francisco-CA-94109/2082052083_zpid/', 'https://www.zillow.com/community/mira/2082077616_zpid/', 'https://www.zillow.com/homedetails/68-70-San-Jose-Ave-San-Francisco-CA-94110/2082667400_zpid/', 'https://www.zillow.com/homedetails/555-Fulton-St-335-San-Francisco-CA-94102/2083399017_zpid/', 'https://www.zillow.com/community/one-mission-bay/2084054920_zpid/', 'https://www.zillow.com/homedetails/181-Fremont-St-69-B-San-Francisco-CA-94105/249664750_zpid/', 'https://www.zillow.com/homedetails/420-Mission-Bay-Blvd-N-UNIT-701-San-Francisco-CA-94158/115828659_zpid/', 'https://www.zillow.com/homedetails/765-Market-St-31CD-San-Francisco-CA-94103/63197350_zpid/', 'https://www.zillow.com/homedetails/1000-3rd-St-1307-San-Francisco-CA-94158/249665448_zpid/', 'https://www.zillow.com/homedetails/1731-Powell-St-305-San-Francisco-CA-94133/2086425573_zpid/', 'https://www.zillow.com/homedetails/1000-3rd-St-UNIT-1302-San-Francisco-CA-94158/249665135_zpid/', 'https://www.zillow.com/homedetails/188-Minna-St-APT-38B-San-Francisco-CA-94105/69819213_zpid/', 'https://www.zillow.com/homedetails/1000-3rd-St-1305-San-Francisco-CA-94158/249664876_zpid/', 'https://www.zillow.com/homedetails/401-Harrison-St-APT-40D-San-Francisco-CA-94105/249698633_zpid/', 'https://www.zillow.com/homedetails/3417-16th-St-San-Francisco-CA-94114/2082118629_zpid/', 'https://www.zillow.com/homedetails/1215-1217-Broadway-San-Francisco-CA-94109/2082050932_zpid/', 'https://www.zillow.com/homedetails/333-Bush-St-APT-4001-San-Francisco-CA-94104/15069245_zpid/', 'https://www.zillow.com/homedetails/333-Beale-St-C8H-San-Francisco-CA-94105/2087663630_zpid/', 'https://www.zillow.com/community/san-francisco-shipyard-landing/2083281870_zpid/', 'https://www.zillow.com/homedetails/4632-25th-St-San-Francisco-CA-94114/2084506795_zpid/', 'https://www.zillow.com/homedetails/229-Brannan-St-UNIT-7J-San-Francisco-CA-94107/59700544_zpid/', 'https://www.zillow.com/homedetails/301-Mission-St-APT-18E-San-Francisco-CA-94105/111910164_zpid/', 'https://www.zillow.com/homedetails/1251-1255-9th-Ave-San-Francisco-CA-94122/2082716172_zpid/', 'https://www.zillow.com/homedetails/1666-1670-Union-St-San-Francisco-CA-94123/2082512828_zpid/', 'https://www.zillow.com/homedetails/201-Folsom-St-APT-37A-San-Francisco-CA-94105/2084213814_zpid/', 'https://www.zillow.com/homedetails/456-Union-St-San-Francisco-CA-94133/2088845186_zpid/', 'https://www.zillow.com/homedetails/401-Harrison-St-APT-46A-San-Francisco-CA-94105/249698652_zpid/', 'https://www.zillow.com/homedetails/135-Wetmore-St-San-Francisco-CA-94108/15067673_zpid/', 'https://www.zillow.com/homedetails/384-Holladay-Ave-San-Francisco-CA-94110/125163250_zpid/', 'https://www.zillow.com/homedetails/1477-1479-Guerrero-St-San-Francisco-CA-94110/2082159838_zpid/', 'https://www.zillow.com/homedetails/1000-3rd-St-UNIT-912-San-Francisco-CA-94158/249665505_zpid/', 'https://www.zillow.com/homedetails/1731-Powell-St-405-San-Francisco-CA-94133/2085316656_zpid/', 'https://www.zillow.com/homedetails/750-2nd-St-801-San-Francisco-CA-94107/123598029_zpid/', 'https://www.zillow.com/homedetails/401-Harrison-St-APT-39F-San-Francisco-CA-94105/249698628_zpid/', 'https://www.zillow.com/homedetails/134-150-Porter-St-San-Francisco-CA-94110/2082030628_zpid/', 'https://www.zillow.com/homedetails/1-Hawthorne-St-UNIT-14C-San-Francisco-CA-94105/123598733_zpid/', 'https://www.zillow.com/homedetails/1200-California-St-UNIT-16A-San-Francisco-CA-94109/80748350_zpid/', 'https://www.zillow.com/homedetails/1250-Jones-St-UNIT-1102-San-Francisco-CA-94109/15067905_zpid/', 'https://www.zillow.com/homedetails/455-457-Ellis-Street-San-Francisco-CA-94102/2086820620_zpid/', 'https://www.zillow.com/homedetails/738-Long-Bridge-St-12XX-San-Francisco-CA-94158/2097026451_zpid/', 'https://www.zillow.com/homedetails/1731-Powell-St-204-San-Francisco-CA-94133/2086425768_zpid/', 'https://www.zillow.com/homedetails/88-King-St-UNIT-1104-San-Francisco-CA-94107/80745107_zpid/', 'https://www.zillow.com/homedetails/15-States-St-17-San-Francisco-CA-94114/2087877354_zpid/', 'https://www.zillow.com/homedetails/280-Spear-St-4J-San-Francisco-CA-94105/2082619162_zpid/', 'https://www.zillow.com/homedetails/338-Main-St-UNIT-16A-San-Francisco-CA-94105/2081944901_zpid/', 'https://www.zillow.com/homedetails/5617-Geary-Blvd-San-Francisco-CA-94121/2083195595_zpid/', 'https://www.zillow.com/homedetails/280-Spear-St-7B-San-Francisco-CA-94105/2082754309_zpid/', 'https://www.zillow.com/homedetails/2-Fallon-Pl-APT-15-San-Francisco-CA-94133/2120176903_zpid/', 'https://www.zillow.com/community/san-francisco-shipyard-landing/2083281869_zpid/', 'https://www.zillow.com/community/san-francisco-shipyard-monarch/2084426974_zpid/', 'https://www.zillow.com/homedetails/401-Harrison-St-APT-20E-San-Francisco-CA-94105/249698516_zpid/', 'https://www.zillow.com/homedetails/280-Spear-St-36B-San-Francisco-CA-94105/2082511191_zpid/', 'https://www.zillow.com/homedetails/309-315-Potrero-Ave-San-Francisco-CA-94103/2082831345_zpid/', 'https://www.zillow.com/homedetails/1882-Quesada-Ave-San-Francisco-CA-94124/125116411_zpid/', 'https://www.zillow.com/homedetails/1728-1730-Jones-St-San-Francisco-CA-94109/15066755_zpid/', 'https://www.zillow.com/homedetails/167-Victoria-St-Aka-171-Victoria-St-San-Francisco-CA-94132/2081885923_zpid/', 'https://www.zillow.com/community/san-francisco-shipyard-landing/2083281871_zpid/', 'https://www.zillow.com/community/one-mission-bay/2084054919_zpid/', 'https://www.zillow.com/homedetails/1000-3rd-St-UNIT-303-San-Francisco-CA-94158/249664821_zpid/', 'https://www.zillow.com/homedetails/333-Beale-St-APT-8I-San-Francisco-CA-94105/2082086335_zpid/', 'https://www.zillow.com/homedetails/219-221-7th-St-San-Francisco-CA-94103/2082380644_zpid/', 'https://www.zillow.com/homedetails/587-Burnett-Ave-San-Francisco-CA-94131/2112563694_zpid/', 'https://www.zillow.com/homedetails/338-Main-St-UNIT-35A-San-Francisco-CA-94105/2094767513_zpid/', 'https://www.zillow.com/homedetails/3535-Wawona-St-222-San-Francisco-CA-94116/2082926785_zpid/', 'https://www.zillow.com/homedetails/3535-Wawona-St-236-San-Francisco-CA-94116/2082772772_zpid/', 'https://www.zillow.com/homedetails/51-Innes-Ct-APT-404-San-Francisco-CA-94124/2085462139_zpid/', 'https://www.zillow.com/homedetails/318-Main-St-UNIT-3G-San-Francisco-CA-94105/2087872928_zpid/', 'https://www.zillow.com/community/san-francisco-shipyard-landing/2083281873_zpid/', 'https://www.zillow.com/homedetails/1731-Powell-St-406-San-Francisco-CA-94133/2085880319_zpid/', 'https://www.zillow.com/homedetails/1-Stanyan-St-42-San-Francisco-CA-94118/2082351106_zpid/', 'https://www.zillow.com/homedetails/1215-Broadway-San-Francisco-CA-94109/2082329265_zpid/', 'https://www.zillow.com/homedetails/3801-Mission-St-San-Francisco-CA-94110/2084902530_zpid/', 'https://www.zillow.com/homedetails/706-Mission-St-7B-San-Francisco-CA-94103/2082672956_zpid/', 'https://www.zillow.com/homedetails/201-Folsom-St-6G-San-Francisco-CA-94105/2097771141_zpid/', 'https://www.zillow.com/homedetails/462-Prentiss-St-San-Francisco-CA-94110/125163632_zpid/', 'https://www.zillow.com/community/one-mission-bay/2084054923_zpid/', 'https://www.zillow.com/homedetails/109-Highland-Ave-San-Francisco-CA-94110/2082530120_zpid/', 'https://www.zillow.com/homedetails/280-Spear-St-6J-San-Francisco-CA-94105/2081853598_zpid/', 'https://www.zillow.com/homedetails/579-Burnett-Ave-San-Francisco-CA-94131/2103132972_zpid/', 'https://www.zillow.com/homedetails/1731-Powell-St-205-San-Francisco-CA-94133/303807228_zpid/', 'https://www.zillow.com/homedetails/338-Main-St-UNIT-14C-San-Francisco-CA-94105/2082658137_zpid/', 'https://www.zillow.com/homedetails/706-Mission-St-502-San-Francisco-CA-94103/2082670646_zpid/', 'https://www.zillow.com/homedetails/1000-3rd-St-UNIT-1401-San-Francisco-CA-94158/249665382_zpid/', 'https://www.zillow.com/homedetails/181-Fremont-St-UNIT-63A-San-Francisco-CA-94105/249664766_zpid/', 'https://www.zillow.com/homedetails/1728-1730-Jones-St-San-Francisco-CA-94109/2084098318_zpid/', 'https://www.zillow.com/homedetails/3535-Wawona-St-315-San-Francisco-CA-94116/2081947075_zpid/', 'https://www.zillow.com/community/san-francisco-shipyard-monarch/2086783466_zpid/', 'https://www.zillow.com/homedetails/318-Main-St-UNIT-7F-San-Francisco-CA-94105/2082743165_zpid/', 'https://www.zillow.com/homedetails/5222-5250-3rd-St-San-Francisco-CA-94124/2083413250_zpid/', 'https://www.zillow.com/homedetails/2321-Geneva-Ave-Daly-City-CA-94014/181322411_zpid/', 'https://www.zillow.com/homedetails/765-Market-St-APT-22E-San-Francisco-CA-94103/63197282_zpid/', 'https://www.zillow.com/homedetails/(undisclosed-Address)-San-Francisco-CA-94110/2082568705_zpid/', 'https://www.zillow.com/homedetails/181-Fremont-St-UNIT-61D-San-Francisco-CA-94105/249665497_zpid/', 'https://www.zillow.com/community/one-mission-bay/2084054918_zpid/', 'https://www.zillow.com/homedetails/425-1st-St-UNIT-4906-San-Francisco-CA-94105/89236971_zpid/', 'https://www.zillow.com/homedetails/1000-3rd-St-UNIT-1306-San-Francisco-CA-94158/249665574_zpid/', 'https://www.zillow.com/homedetails/188-Minna-St-APT-29D-San-Francisco-CA-94105/69819173_zpid/', 'https://www.zillow.com/community/san-francisco-shipyard-monarch/2089880719_zpid/', 'https://www.zillow.com/homedetails/1731-Powell-St-401-San-Francisco-CA-94133/2085316657_zpid/', 'https://www.zillow.com/homedetails/181-Fremont-St-UNIT-58C-San-Francisco-CA-94105/249665462_zpid/', 'https://www.zillow.com/homedetails/280-Spear-St-34A-San-Francisco-CA-94105/2081853170_zpid/', 'https://www.zillow.com/homedetails/301-Main-St-UNIT-6C-San-Francisco-CA-94105/89237775_zpid/', 'https://www.zillow.com/homedetails/886-Moultrie-St-San-Francisco-CA-94110/2111661100_zpid/', 'https://www.zillow.com/homedetails/401-Harrison-St-APT-43A-San-Francisco-CA-94105/249698643_zpid/', 'https://www.zillow.com/community/181-fremont/2093048632_zpid/', 'https://www.zillow.com/homedetails/401-Harrison-St-APT-44C-San-Francisco-CA-94105/249698649_zpid/', 'https://www.zillow.com/homedetails/706-Mission-St-15C-San-Francisco-CA-94103/2082673248_zpid/', 'https://www.zillow.com/homedetails/280-Spear-St-14E-San-Francisco-CA-94105/2082618649_zpid/', 'https://www.zillow.com/homedetails/301-Main-St-UNIT-3B-San-Francisco-CA-94105/89240091_zpid/', 'https://www.zillow.com/community/san-francisco-shipyard-monarch/2083886468_zpid/', 'https://www.zillow.com/homedetails/401-Harrison-St-APT-40F-San-Francisco-CA-94105/249698635_zpid/', 'https://www.zillow.com/homedetails/Folsom-St-San-Francisco-CA-94103/2083775314_zpid/', 'https://www.zillow.com/homedetails/522-Lake-St-526-San-Francisco-CA-94118/2082219038_zpid/', 'https://www.zillow.com/homedetails/488-Folsom-St-3906-San-Francisco-CA-94105/2086526325_zpid/', 'https://www.zillow.com/homedetails/280-Spear-St-24C-San-Francisco-CA-94105/2082618890_zpid/', 'https://www.zillow.com/homedetails/488-Folsom-St-4403-San-Francisco-CA-94105/2082805678_zpid/', 'https://www.zillow.com/homedetails/181-Fremont-St-UNIT-63C-San-Francisco-CA-94105/249665341_zpid/', 'https://www.zillow.com/homedetails/401-Harrison-St-APT-22E-San-Francisco-CA-94105/249698527_zpid/', 'https://www.zillow.com/homedetails/401-Harrison-St-APT-43B-San-Francisco-CA-94105/249698644_zpid/', 'https://www.zillow.com/homedetails/401-Harrison-St-APT-27E-San-Francisco-CA-94105/249698556_zpid/', 'https://www.zillow.com/homedetails/901-Bay-Shore-Blvd-APT-405-San-Francisco-CA-94124/80732827_zpid/']\n"
     ]
    }
   ],
   "source": [
    "with open('SF Zillow house links.txt','w',encoding='utf-8') as file:\n",
    "    file.write(str(urls))\n",
    "    file.close()"
   ]
  },
  {
   "cell_type": "markdown",
   "metadata": {},
   "source": [
    "#### function returning html (bs4) for a given link"
   ]
  },
  {
   "cell_type": "code",
   "execution_count": 126,
   "metadata": {},
   "outputs": [],
   "source": [
    "def get_html_data(url, driver):\n",
    "    driver.get(url)\n",
    "    time.sleep(np.random.lognormal(0,1))\n",
    "    soup = BeautifulSoup(driver.page_source, 'html.parser')\n",
    "    return soup"
   ]
  },
  {
   "cell_type": "markdown",
   "metadata": {},
   "source": [
    "#### function returning list of BeautifulSoup objects, one per URL"
   ]
  },
  {
   "cell_type": "code",
   "execution_count": 103,
   "metadata": {},
   "outputs": [],
   "source": [
    "def get_soup(links, driver):\n",
    "    all_soup = []\n",
    "    for x in links:\n",
    "        soup = get_html_data(x, driver)\n",
    "        time.sleep(np.random.lognormal(0,1)+3)\n",
    "        all_soup.append(soup)\n",
    "    return all_soup\n",
    "        \n",
    "ult_soup = get_soup(urls, driver)\n",
    "\n",
    "#625 URLs were scraped\n",
    "#indices 0 through 91 are real links, remaining items are recaptcha\n",
    "print(ult_soup[91])"
   ]
  },
  {
   "cell_type": "markdown",
   "metadata": {},
   "source": [
    "#### save BeautifulSoup list externally in text file"
   ]
  },
  {
   "cell_type": "code",
   "execution_count": 28,
   "metadata": {},
   "outputs": [],
   "source": [
    "with open('SF Zillow Soup - test.txt','w',encoding='utf-8') as file:\n",
    "    for url in ult_soup:\n",
    "        file.write(str(url)+\"XXXXX\")\n",
    "    file.close()"
   ]
  },
  {
   "cell_type": "markdown",
   "metadata": {},
   "source": [
    "#### import BeautifulSoup list from text file"
   ]
  },
  {
   "cell_type": "code",
   "execution_count": null,
   "metadata": {},
   "outputs": [],
   "source": [
    "soup_test = []\n",
    "with open(\"SF Zillow Soup - test.txt\",encoding='utf-8') as f:\n",
    "    text_list = list(f.read().split(\"XXXXX\"))\n",
    "    for url in text_list:\n",
    "        s = BeautifulSoup(url, \"html.parser\")\n",
    "        soup_test.append(s)\n",
    "    soup_test = soup_test[:-1]"
   ]
  },
  {
   "cell_type": "markdown",
   "metadata": {},
   "source": [
    "#### functions capturing listing details"
   ]
  },
  {
   "cell_type": "code",
   "execution_count": 67,
   "metadata": {
    "collapsed": true,
    "jupyter": {
     "outputs_hidden": true
    }
   },
   "outputs": [
    {
     "data": {
      "text/plain": [
       "['$1,250,000',\n",
       " '$1,595,000',\n",
       " '$1,195,000',\n",
       " '$2,100,000',\n",
       " '$4,695,000',\n",
       " '$880,000',\n",
       " '$1,255,000',\n",
       " '$575,000',\n",
       " '$950,000',\n",
       " '$3,700,000',\n",
       " None,\n",
       " None,\n",
       " None,\n",
       " '$1,005,000',\n",
       " '$7,375,000',\n",
       " '$4,750,000',\n",
       " '$985,000',\n",
       " '$3,700,000',\n",
       " '$1,100,000',\n",
       " '$11,495,000',\n",
       " '$900,000',\n",
       " '$1,695,000',\n",
       " '$14,000,000',\n",
       " '$2,375,000',\n",
       " '$3,715,000',\n",
       " '$1,930,000',\n",
       " '$1,890,000',\n",
       " '$699,000',\n",
       " '$1,850,000',\n",
       " '$1,105,000',\n",
       " '$1,015,000',\n",
       " '$785,000',\n",
       " '$899,000',\n",
       " '$2,500,000',\n",
       " '$1,121,000',\n",
       " '$1,193,000',\n",
       " '$1,148,000',\n",
       " '$674,000',\n",
       " '$730,000',\n",
       " '$979,000',\n",
       " '$799,000',\n",
       " '$5,495,000',\n",
       " '$1,080,000',\n",
       " '$1,475,000',\n",
       " '$1,495,000',\n",
       " '$1,095,000',\n",
       " '$1,450,000',\n",
       " '$2,188,000',\n",
       " '$541,517',\n",
       " '$11,995,000',\n",
       " '$659,900',\n",
       " '$13,750,000',\n",
       " None,\n",
       " '$1,850,000',\n",
       " '$1,288,000',\n",
       " '$1,249,000',\n",
       " None,\n",
       " '$27,500,000',\n",
       " '$2,071,000',\n",
       " '$1,995,000',\n",
       " '$5,500,000',\n",
       " '$1,650,000',\n",
       " '$1,791,000',\n",
       " '$749,900',\n",
       " '$1,098,000',\n",
       " '$3,500,000',\n",
       " '$900,000',\n",
       " '$4,375,000',\n",
       " '$899,000',\n",
       " '$3,100,000',\n",
       " '$899,888',\n",
       " '$2,100,000',\n",
       " '$859,000',\n",
       " '$1,850,000',\n",
       " '$12,900,000',\n",
       " '$1,399,000',\n",
       " '$1,688,900',\n",
       " '$950,000',\n",
       " '$1,995,000',\n",
       " '$278,304',\n",
       " '$1,690,000',\n",
       " '$11,495,000',\n",
       " '$769,000',\n",
       " '$699,000',\n",
       " '$968,000',\n",
       " '$1,295,000',\n",
       " '$3,395,000',\n",
       " '$1,200,000',\n",
       " '$196,842',\n",
       " '$1,098,000',\n",
       " '$10,900,000',\n",
       " '$2,878,000']"
      ]
     },
     "execution_count": 67,
     "metadata": {},
     "output_type": "execute_result"
    }
   ],
   "source": [
    "def get_price(soup):\n",
    "    prices=[]\n",
    "    for s in soup:\n",
    "        #using \"find\" instead of \"find_all\" to avoid duplicate prices\n",
    "        price = s.find(True, {'class':'ds-value'})\n",
    "        try:\n",
    "            prices.append(''.join(price.text.split()))\n",
    "        except:\n",
    "            prices.append(None)\n",
    "    return prices\n",
    "\n",
    "get_price(soup_test)\n",
    "\n",
    "\n",
    "def get_zestimate(soup):\n",
    "    zestimates=[]\n",
    "    for listing in soup:\n",
    "        ballpark = listing.find(\"div\", {'id':'ds-home-values'})\n",
    "        try:\n",
    "            text = ''.join(ballpark.text.split())\n",
    "            zestimate_start = text.find('$')\n",
    "            zestimate_end = 0\n",
    "            for char in text[zestimate_start:]:\n",
    "                if char.isalpha():\n",
    "                    zestimate_end = text.index(char)\n",
    "                    break\n",
    "            zestimates.append(text[zestimate_start:zestimate_end])\n",
    "        except:\n",
    "            zestimates.append(None)\n",
    "    return zestimates\n",
    "\n",
    "get_zestimate(soup_test)\n",
    "\n",
    "\n",
    "def get_beds(soup):\n",
    "    beds=[]\n",
    "    for listing in soup:\n",
    "        living_info = listing.find_all(True, {'class':'ds-bed-bath-living-area-container'})\n",
    "        try:\n",
    "            bed_bath_sqft = living_info[0].find_all(True, {'class':'ds-bed-bath-living-area'},limit=3)\n",
    "            num_beds = bed_bath_sqft[0].find_all('span', recursive=False)\n",
    "            value = num_beds[0]\n",
    "            num = ''.join(value.text.split())\n",
    "            if ''.join(value.text.split()) == \"--\":\n",
    "                num = None\n",
    "            beds.append(num)\n",
    "        except:\n",
    "            beds.append(None)\n",
    "    return beds\n",
    "\n",
    "get_beds(soup_test)\n",
    "\n",
    "\n",
    "def get_bath(soup):\n",
    "    bath=[]\n",
    "    for listing in soup:\n",
    "        living_info = listing.find_all(True, {'class':'ds-bed-bath-living-area-container'})\n",
    "        try:\n",
    "            bed_bath_sqft = living_info[0].find_all(True, {'class':'ds-bed-bath-living-area'},limit=3)\n",
    "            num_bath = bed_bath_sqft[1].find_all('span', recursive=False)\n",
    "            value = num_bath[0]\n",
    "            num = ''.join(value.text.split())\n",
    "            if ''.join(value.text.split()) == \"--\":\n",
    "                num = None\n",
    "            bath.append(num)\n",
    "        except:\n",
    "            bath.append(None)\n",
    "    return bath\n",
    "\n",
    "get_bath(soup_test)\n",
    "\n",
    "\n",
    "def get_sqft(soup):\n",
    "    sqft=[]\n",
    "    for listing in soup:\n",
    "        living_info = listing.find_all(True, {'class':'ds-bed-bath-living-area-container'})\n",
    "        try:\n",
    "            bed_bath_sqft = living_info[0].find_all(True, {'class':'ds-bed-bath-living-area'},limit=3)\n",
    "            num_sqft = bed_bath_sqft[2].find_all('span', recursive=False)\n",
    "            value = num_sqft[0]\n",
    "            num = ''.join(value.text.split())\n",
    "            if ''.join(value.text.split()) == \"--\":\n",
    "                num = None\n",
    "            sqft.append(num)\n",
    "        except:\n",
    "            sqft.append(None)\n",
    "    return sqft\n",
    "\n",
    "get_sqft(soup_test)\n",
    "\n",
    "\n",
    "def get_neighborhood(soup):\n",
    "    neighborhood=[]\n",
    "    for listing in soup:\n",
    "        info = listing.find_all(\"div\", {'class':'ds-expandable-card-section-default-padding'})\n",
    "        try:\n",
    "            nbhood_soup = info[2].find_all(\"span\", {'class':'Text-sc-1vuq29o-0 iFtQDm'})\n",
    "            possible_neighborhood = ''.join(nbhood_soup[1].text)\n",
    "            if possible_neighborhood == 'San Francisco':\n",
    "                possible_neighborhood = ''.join(nbhood_soup[0].text)\n",
    "            neighborhood.append(possible_neighborhood)\n",
    "        except:\n",
    "            neighborhood.append(None)\n",
    "    return neighborhood\n",
    "\n",
    "get_neighborhood(soup_test)\n",
    "\n",
    "\n",
    "#always in days\n",
    "def get_age_of_listing(soup):\n",
    "    age=[]\n",
    "    for listing in soup:\n",
    "        time_views_saves = listing.find_all(\"ul\", {'class':'ds-overview-stats'})\n",
    "        try:\n",
    "            time_soup = time_views_saves[0].find_all(\"div\", {'class':'ds-overview-stat-value'})\n",
    "            time = ''.join(time_soup[0].text)\n",
    "            time = time.split(' ', 1)[0]\n",
    "            age.append(time)\n",
    "        except:\n",
    "            age.append(None)\n",
    "    return age\n",
    "\n",
    "get_age_of_listing(soup_test)\n",
    "\n",
    "\n",
    "#views in last 30 days\n",
    "def get_views(soup):\n",
    "    views=[]\n",
    "    for listing in soup:\n",
    "        time_views_saves = listing.find_all(\"ul\", {'class':'ds-overview-stats'})\n",
    "        try:\n",
    "            views_soup = time_views_saves[0].find_all(\"div\", {'class':'ds-overview-stat-value'})\n",
    "            view_count = ''.join(views_soup[1].text)\n",
    "            #time = time.split(' ', 1)[0]\n",
    "            views.append(view_count)\n",
    "        except:\n",
    "            views.append(None)\n",
    "    return views\n",
    "\n",
    "get_views(soup_test)\n",
    "\n",
    "\n",
    "#saves in last 30 days\n",
    "def get_saves(soup):\n",
    "    saves=[]\n",
    "    for listing in soup:\n",
    "        time_views_saves = listing.find_all(\"ul\", {'class':'ds-overview-stats'})\n",
    "        try:\n",
    "            saves_soup = time_views_saves[0].find_all(\"div\", {'class':'ds-overview-stat-value'})\n",
    "            save_count = ''.join(saves_soup[2].text)\n",
    "            #time = time.split(' ', 1)[0]\n",
    "            saves.append(save_count)\n",
    "        except:\n",
    "            saves.append(None)\n",
    "    return saves\n",
    "\n",
    "get_saves(soup_test)\n",
    "\n",
    "\n",
    "def get_address(soup):\n",
    "    addresses=[]\n",
    "    for listing in soup:\n",
    "        add = listing.find_all(\"h1\", {'class':'ds-address-container'})\n",
    "        try:\n",
    "            address_html = add[0].find_all(\"span\")\n",
    "            address = ''.join(address_html[0].text)\n",
    "            if 'Buildable plan: ' in address:\n",
    "                address = address[16:]\n",
    "            if 'Floor plan: ' in address:\n",
    "                address = address[12:]\n",
    "            addresses.append(address)\n",
    "        except:\n",
    "            addresses.append(None)\n",
    "    return addresses\n",
    "\n",
    "get_address(soup_test)\n",
    "\n",
    "\n",
    "#import urls from text file\n",
    "urls_import = []\n",
    "with open(\"SF Zillow house links - load.txt\",encoding='utf-8') as f:\n",
    "    u = f.read()\n",
    "    urls = u[1:-1].split(', ')\n",
    "    for url in urls:\n",
    "        urls_import.append(url[1:-1])\n",
    "        \n",
    "print(urls_import)"
   ]
  },
  {
   "cell_type": "markdown",
   "metadata": {},
   "source": [
    "## Exploratory Data Analysis"
   ]
  },
  {
   "cell_type": "markdown",
   "metadata": {},
   "source": [
    "#### create DataFrame from above functions"
   ]
  },
  {
   "cell_type": "code",
   "execution_count": 44,
   "metadata": {},
   "outputs": [],
   "source": [
    "df = pd.DataFrame(list(zip(get_address(soup_test), get_neighborhood(soup_test), get_beds(soup_test), get_bath(soup_test), \n",
    "                           get_sqft(soup_test), get_age_of_listing(soup_test), get_views(soup_test), \n",
    "                           get_saves(soup_test), get_price(soup_test), get_zestimate(soup_test), urls_import)), \n",
    "               columns =['Address', 'Neighborhood', 'Beds', 'Bathrooms', \n",
    "                         'Sqft', 'ListingAge', 'Views',\n",
    "                         'Saves', 'Price', 'Zestimate','URL'])"
   ]
  },
  {
   "cell_type": "markdown",
   "metadata": {},
   "source": [
    "#### preview DataFrame"
   ]
  },
  {
   "cell_type": "code",
   "execution_count": 106,
   "metadata": {},
   "outputs": [
    {
     "data": {
      "text/html": [
       "<div>\n",
       "<style scoped>\n",
       "    .dataframe tbody tr th:only-of-type {\n",
       "        vertical-align: middle;\n",
       "    }\n",
       "\n",
       "    .dataframe tbody tr th {\n",
       "        vertical-align: top;\n",
       "    }\n",
       "\n",
       "    .dataframe thead th {\n",
       "        text-align: right;\n",
       "    }\n",
       "</style>\n",
       "<table border=\"1\" class=\"dataframe\">\n",
       "  <thead>\n",
       "    <tr style=\"text-align: right;\">\n",
       "      <th></th>\n",
       "      <th>Address</th>\n",
       "      <th>Neighborhood</th>\n",
       "      <th>Beds</th>\n",
       "      <th>Bathrooms</th>\n",
       "      <th>Sqft</th>\n",
       "      <th>ListingAge</th>\n",
       "      <th>Views</th>\n",
       "      <th>Saves</th>\n",
       "      <th>Price</th>\n",
       "      <th>Zestimate</th>\n",
       "      <th>URL</th>\n",
       "    </tr>\n",
       "  </thead>\n",
       "  <tbody>\n",
       "    <tr>\n",
       "      <td>0</td>\n",
       "      <td>1538 Visitacion Ave,</td>\n",
       "      <td>Visitacion Valley</td>\n",
       "      <td>NaN</td>\n",
       "      <td>1.0</td>\n",
       "      <td>1260.0</td>\n",
       "      <td>1.0</td>\n",
       "      <td>297.0</td>\n",
       "      <td>6.0</td>\n",
       "      <td>1250000.0</td>\n",
       "      <td>918957.0</td>\n",
       "      <td>https://www.zillow.com/homedetails/1538-Visita...</td>\n",
       "    </tr>\n",
       "    <tr>\n",
       "      <td>1</td>\n",
       "      <td>280 Spear Street #7B, MIRA,</td>\n",
       "      <td>Financial District</td>\n",
       "      <td>2.0</td>\n",
       "      <td>2.0</td>\n",
       "      <td>1293.0</td>\n",
       "      <td>1.0</td>\n",
       "      <td>164.0</td>\n",
       "      <td>6.0</td>\n",
       "      <td>1595000.0</td>\n",
       "      <td>1577361.0</td>\n",
       "      <td>https://www.zillow.com/community/mira/20826098...</td>\n",
       "    </tr>\n",
       "    <tr>\n",
       "      <td>2</td>\n",
       "      <td>Plan A1, The San Francisco Shipyard : Palisades,</td>\n",
       "      <td>Hunters Point</td>\n",
       "      <td>3.0</td>\n",
       "      <td>3.0</td>\n",
       "      <td>1522.0</td>\n",
       "      <td>2.0</td>\n",
       "      <td>197.0</td>\n",
       "      <td>1.0</td>\n",
       "      <td>1195000.0</td>\n",
       "      <td>1229011.0</td>\n",
       "      <td>https://www.zillow.com/community/san-francisco...</td>\n",
       "    </tr>\n",
       "    <tr>\n",
       "      <td>3</td>\n",
       "      <td>280 Spear Street #14E, MIRA,</td>\n",
       "      <td>Financial District</td>\n",
       "      <td>2.0</td>\n",
       "      <td>2.0</td>\n",
       "      <td>1347.0</td>\n",
       "      <td>2.0</td>\n",
       "      <td>129.0</td>\n",
       "      <td>2.0</td>\n",
       "      <td>2100000.0</td>\n",
       "      <td>2057894.0</td>\n",
       "      <td>https://www.zillow.com/community/mira/20826098...</td>\n",
       "    </tr>\n",
       "    <tr>\n",
       "      <td>4</td>\n",
       "      <td>49 53 Guerrero St,</td>\n",
       "      <td>Mint Hill</td>\n",
       "      <td>NaN</td>\n",
       "      <td>NaN</td>\n",
       "      <td>6741.0</td>\n",
       "      <td>3.0</td>\n",
       "      <td>416.0</td>\n",
       "      <td>1.0</td>\n",
       "      <td>4695000.0</td>\n",
       "      <td>4695728.0</td>\n",
       "      <td>https://www.zillow.com/homedetails/49-53-Guerr...</td>\n",
       "    </tr>\n",
       "    <tr>\n",
       "      <td>5</td>\n",
       "      <td>10 Innes Ct #304, The San Francisco Shipyard :...</td>\n",
       "      <td>Hunters Point</td>\n",
       "      <td>2.0</td>\n",
       "      <td>2.0</td>\n",
       "      <td>1020.0</td>\n",
       "      <td>3.0</td>\n",
       "      <td>251.0</td>\n",
       "      <td>1.0</td>\n",
       "      <td>880000.0</td>\n",
       "      <td>899911.0</td>\n",
       "      <td>https://www.zillow.com/community/san-francisco...</td>\n",
       "    </tr>\n",
       "    <tr>\n",
       "      <td>6</td>\n",
       "      <td>10 Innes Ct #401, The San Francisco Shipyard :...</td>\n",
       "      <td>Hunters Point</td>\n",
       "      <td>3.0</td>\n",
       "      <td>2.0</td>\n",
       "      <td>1256.0</td>\n",
       "      <td>3.0</td>\n",
       "      <td>50.0</td>\n",
       "      <td>3.0</td>\n",
       "      <td>1255000.0</td>\n",
       "      <td>1285017.0</td>\n",
       "      <td>https://www.zillow.com/community/san-francisco...</td>\n",
       "    </tr>\n",
       "    <tr>\n",
       "      <td>7</td>\n",
       "      <td>83 Mcallister St APT 204,</td>\n",
       "      <td>Civic Center</td>\n",
       "      <td>1.0</td>\n",
       "      <td>1.0</td>\n",
       "      <td>412.0</td>\n",
       "      <td>4.0</td>\n",
       "      <td>1434.0</td>\n",
       "      <td>17.0</td>\n",
       "      <td>575000.0</td>\n",
       "      <td>501667.0</td>\n",
       "      <td>https://www.zillow.com/homedetails/83-Mcallist...</td>\n",
       "    </tr>\n",
       "    <tr>\n",
       "      <td>8</td>\n",
       "      <td>280 Spear Street #3Q, MIRA,</td>\n",
       "      <td>Financial District</td>\n",
       "      <td>1.0</td>\n",
       "      <td>1.0</td>\n",
       "      <td>638.0</td>\n",
       "      <td>4.0</td>\n",
       "      <td>552.0</td>\n",
       "      <td>9.0</td>\n",
       "      <td>950000.0</td>\n",
       "      <td>958951.0</td>\n",
       "      <td>https://www.zillow.com/community/mira/20826098...</td>\n",
       "    </tr>\n",
       "    <tr>\n",
       "      <td>9</td>\n",
       "      <td>#1401, ONE Mission Bay,</td>\n",
       "      <td>Mission Bay</td>\n",
       "      <td>3.0</td>\n",
       "      <td>3.0</td>\n",
       "      <td>1976.0</td>\n",
       "      <td>4.0</td>\n",
       "      <td>48.0</td>\n",
       "      <td>1.0</td>\n",
       "      <td>3700000.0</td>\n",
       "      <td>3569573.0</td>\n",
       "      <td>https://www.zillow.com/community/one-mission-b...</td>\n",
       "    </tr>\n",
       "  </tbody>\n",
       "</table>\n",
       "</div>"
      ],
      "text/plain": [
       "                                             Address        Neighborhood  Beds  Bathrooms    Sqft  ListingAge   Views  Saves      Price  Zestimate                                                URL\n",
       "0                               1538 Visitacion Ave,   Visitacion Valley   NaN        1.0  1260.0         1.0   297.0    6.0  1250000.0   918957.0  https://www.zillow.com/homedetails/1538-Visita...\n",
       "1                        280 Spear Street #7B, MIRA,  Financial District   2.0        2.0  1293.0         1.0   164.0    6.0  1595000.0  1577361.0  https://www.zillow.com/community/mira/20826098...\n",
       "2   Plan A1, The San Francisco Shipyard : Palisades,       Hunters Point   3.0        3.0  1522.0         2.0   197.0    1.0  1195000.0  1229011.0  https://www.zillow.com/community/san-francisco...\n",
       "3                       280 Spear Street #14E, MIRA,  Financial District   2.0        2.0  1347.0         2.0   129.0    2.0  2100000.0  2057894.0  https://www.zillow.com/community/mira/20826098...\n",
       "4                                 49 53 Guerrero St,           Mint Hill   NaN        NaN  6741.0         3.0   416.0    1.0  4695000.0  4695728.0  https://www.zillow.com/homedetails/49-53-Guerr...\n",
       "5  10 Innes Ct #304, The San Francisco Shipyard :...       Hunters Point   2.0        2.0  1020.0         3.0   251.0    1.0   880000.0   899911.0  https://www.zillow.com/community/san-francisco...\n",
       "6  10 Innes Ct #401, The San Francisco Shipyard :...       Hunters Point   3.0        2.0  1256.0         3.0    50.0    3.0  1255000.0  1285017.0  https://www.zillow.com/community/san-francisco...\n",
       "7                          83 Mcallister St APT 204,        Civic Center   1.0        1.0   412.0         4.0  1434.0   17.0   575000.0   501667.0  https://www.zillow.com/homedetails/83-Mcallist...\n",
       "8                        280 Spear Street #3Q, MIRA,  Financial District   1.0        1.0   638.0         4.0   552.0    9.0   950000.0   958951.0  https://www.zillow.com/community/mira/20826098...\n",
       "9                            #1401, ONE Mission Bay,         Mission Bay   3.0        3.0  1976.0         4.0    48.0    1.0  3700000.0  3569573.0  https://www.zillow.com/community/one-mission-b..."
      ]
     },
     "execution_count": 106,
     "metadata": {},
     "output_type": "execute_result"
    }
   ],
   "source": [
    "pd.set_option('display.width', 5000)\n",
    "df.head(10)"
   ]
  },
  {
   "cell_type": "markdown",
   "metadata": {},
   "source": [
    "#### number of usable rows (after recaptcha)"
   ]
  },
  {
   "cell_type": "code",
   "execution_count": 87,
   "metadata": {},
   "outputs": [
    {
     "data": {
      "text/plain": [
       "92"
      ]
     },
     "execution_count": 87,
     "metadata": {},
     "output_type": "execute_result"
    }
   ],
   "source": [
    "int(df.size/len(df.columns))"
   ]
  },
  {
   "cell_type": "markdown",
   "metadata": {},
   "source": [
    "#### frequency of common feature values"
   ]
  },
  {
   "cell_type": "code",
   "execution_count": 120,
   "metadata": {},
   "outputs": [
    {
     "name": "stdout",
     "output_type": "stream",
     "text": [
      "Hunters Point            9\n",
      "Financial District       8\n",
      "Rincon Hill              7\n",
      "Mission Bay              6\n",
      "Dogpatch                 5\n",
      "South of Market          3\n",
      "Parkside                 3\n",
      "Outer Richmond           3\n",
      "Russian Hill             3\n",
      "Eureka Valley            3\n",
      "Cow Hollow               2\n",
      "Noe Valley               2\n",
      "Sutro Heights            2\n",
      "Golden Gate Heights      2\n",
      "Outer Sunset             2\n",
      "Silver Terrace           2\n",
      "Buena Vista              2\n",
      "Mission                  2\n",
      "Marina                   1\n",
      "Presidio Heights         1\n",
      "Inner Richmond           1\n",
      "Cathedral Hill           1\n",
      "Bayview                  1\n",
      "Laguna Honda             1\n",
      "Candlestick Point SRA    1\n",
      "Telegraph Hill           1\n",
      "Mint Hill                1\n",
      "Lower Pacific Heights    1\n",
      "Civic Center             1\n",
      "Forest Knolls            1\n",
      "Visitacion Valley        1\n",
      "Stonestown               1\n",
      "Excelsior                1\n",
      "Diamond Heights          1\n",
      "Nob Hill                 1\n",
      "Cole Valley              1\n",
      "Clarendon Heights        1\n",
      "Bernal Heights           1\n",
      "Inner Sunset             1\n",
      "St. Francis Wood         1\n",
      "Crocker Amazon           1\n",
      "Potrero Hill             1\n",
      "Ingleside                1\n",
      "                         1\n",
      "Name: Neighborhood, dtype: int64\n",
      "Number of unique values: 44\n",
      "\n",
      "2.0    28\n",
      "3.0    23\n",
      "1.0    12\n",
      "4.0    11\n",
      "5.0     3\n",
      "6.0     3\n",
      "7.0     2\n",
      "Name: Beds, dtype: int64\n",
      "Number of unique values: 7\n",
      "\n",
      "2.0     35\n",
      "1.0     25\n",
      "3.0     15\n",
      "6.0      4\n",
      "3.5      2\n",
      "2.5      2\n",
      "4.0      2\n",
      "5.0      1\n",
      "1.5      1\n",
      "11.0     1\n",
      "5.5      1\n",
      "Name: Bathrooms, dtype: int64\n",
      "Number of unique values: 11\n",
      "\n"
     ]
    }
   ],
   "source": [
    "for col in df[['Neighborhood', 'Beds', 'Bathrooms']]:\n",
    "    print(df[col].value_counts())\n",
    "    print('Number of unique values: {0}\\n'.format(df[col].nunique()))"
   ]
  },
  {
   "cell_type": "markdown",
   "metadata": {},
   "source": [
    "#### check column types"
   ]
  },
  {
   "cell_type": "code",
   "execution_count": 89,
   "metadata": {},
   "outputs": [
    {
     "name": "stdout",
     "output_type": "stream",
     "text": [
      "0     <class 'float'>\n",
      "1     <class 'float'>\n",
      "2     <class 'float'>\n",
      "3     <class 'float'>\n",
      "4     <class 'float'>\n",
      "           ...       \n",
      "87    <class 'float'>\n",
      "88    <class 'float'>\n",
      "89    <class 'float'>\n",
      "90    <class 'float'>\n",
      "91    <class 'float'>\n",
      "Name: Beds, Length: 92, dtype: object\n",
      "nan\n",
      "0     <class 'float'>\n",
      "1     <class 'float'>\n",
      "2     <class 'float'>\n",
      "3     <class 'float'>\n",
      "4     <class 'float'>\n",
      "           ...       \n",
      "87    <class 'float'>\n",
      "88    <class 'float'>\n",
      "89    <class 'float'>\n",
      "90    <class 'float'>\n",
      "91    <class 'float'>\n",
      "Name: Bathrooms, Length: 92, dtype: object\n",
      "1.0\n",
      "0     <class 'str'>\n",
      "1     <class 'str'>\n",
      "2     <class 'str'>\n",
      "3     <class 'str'>\n",
      "4     <class 'str'>\n",
      "          ...      \n",
      "87    <class 'str'>\n",
      "88    <class 'str'>\n",
      "89    <class 'str'>\n",
      "90    <class 'str'>\n",
      "91    <class 'str'>\n",
      "Name: Sqft, Length: 92, dtype: object\n",
      "1,260\n",
      "0     <class 'str'>\n",
      "1     <class 'str'>\n",
      "2     <class 'str'>\n",
      "3     <class 'str'>\n",
      "4     <class 'str'>\n",
      "          ...      \n",
      "87    <class 'str'>\n",
      "88    <class 'str'>\n",
      "89    <class 'str'>\n",
      "90    <class 'str'>\n",
      "91    <class 'str'>\n",
      "Name: ListingAge, Length: 92, dtype: object\n",
      "1\n",
      "0     <class 'str'>\n",
      "1     <class 'str'>\n",
      "2     <class 'str'>\n",
      "3     <class 'str'>\n",
      "4     <class 'str'>\n",
      "          ...      \n",
      "87    <class 'str'>\n",
      "88    <class 'str'>\n",
      "89    <class 'str'>\n",
      "90    <class 'str'>\n",
      "91    <class 'str'>\n",
      "Name: Views, Length: 92, dtype: object\n",
      "297\n",
      "0     <class 'str'>\n",
      "1     <class 'str'>\n",
      "2     <class 'str'>\n",
      "3     <class 'str'>\n",
      "4     <class 'str'>\n",
      "          ...      \n",
      "87    <class 'str'>\n",
      "88    <class 'str'>\n",
      "89    <class 'str'>\n",
      "90    <class 'str'>\n",
      "91    <class 'str'>\n",
      "Name: Saves, Length: 92, dtype: object\n",
      "6\n",
      "0     <class 'str'>\n",
      "1     <class 'str'>\n",
      "2     <class 'str'>\n",
      "3     <class 'str'>\n",
      "4     <class 'str'>\n",
      "          ...      \n",
      "87    <class 'str'>\n",
      "88    <class 'str'>\n",
      "89    <class 'str'>\n",
      "90    <class 'str'>\n",
      "91    <class 'str'>\n",
      "Name: Price, Length: 92, dtype: object\n",
      "$1,250,000\n",
      "0     <class 'str'>\n",
      "1     <class 'str'>\n",
      "2     <class 'str'>\n",
      "3     <class 'str'>\n",
      "4     <class 'str'>\n",
      "          ...      \n",
      "87    <class 'str'>\n",
      "88    <class 'str'>\n",
      "89    <class 'str'>\n",
      "90    <class 'str'>\n",
      "91    <class 'str'>\n",
      "Name: Zestimate, Length: 92, dtype: object\n",
      "$918,957\n"
     ]
    }
   ],
   "source": [
    "for col in df[['Beds', 'Bathrooms', 'Sqft', 'ListingAge',\n",
    "               'Views', 'Saves', 'Price', 'Zestimate']]:\n",
    "    print(df[col].apply(type))\n",
    "    print(df[col].iat[0])"
   ]
  },
  {
   "cell_type": "markdown",
   "metadata": {},
   "source": [
    "#### clean numeric features and convert from string to float"
   ]
  },
  {
   "cell_type": "code",
   "execution_count": 90,
   "metadata": {},
   "outputs": [
    {
     "name": "stdout",
     "output_type": "stream",
     "text": [
      "0     <class 'float'>\n",
      "1     <class 'float'>\n",
      "2     <class 'float'>\n",
      "3     <class 'float'>\n",
      "4     <class 'float'>\n",
      "           ...       \n",
      "87    <class 'float'>\n",
      "88    <class 'float'>\n",
      "89    <class 'float'>\n",
      "90    <class 'float'>\n",
      "91    <class 'float'>\n",
      "Name: Sqft, Length: 92, dtype: object\n",
      "0     <class 'float'>\n",
      "1     <class 'float'>\n",
      "2     <class 'float'>\n",
      "3     <class 'float'>\n",
      "4     <class 'float'>\n",
      "           ...       \n",
      "87    <class 'float'>\n",
      "88    <class 'float'>\n",
      "89    <class 'float'>\n",
      "90    <class 'float'>\n",
      "91    <class 'float'>\n",
      "Name: ListingAge, Length: 92, dtype: object\n",
      "0     <class 'float'>\n",
      "1     <class 'float'>\n",
      "2     <class 'float'>\n",
      "3     <class 'float'>\n",
      "4     <class 'float'>\n",
      "           ...       \n",
      "87    <class 'float'>\n",
      "88    <class 'float'>\n",
      "89    <class 'float'>\n",
      "90    <class 'float'>\n",
      "91    <class 'float'>\n",
      "Name: Views, Length: 92, dtype: object\n",
      "0     <class 'float'>\n",
      "1     <class 'float'>\n",
      "2     <class 'float'>\n",
      "3     <class 'float'>\n",
      "4     <class 'float'>\n",
      "           ...       \n",
      "87    <class 'float'>\n",
      "88    <class 'float'>\n",
      "89    <class 'float'>\n",
      "90    <class 'float'>\n",
      "91    <class 'float'>\n",
      "Name: Saves, Length: 92, dtype: object\n",
      "0     <class 'float'>\n",
      "1     <class 'float'>\n",
      "2     <class 'float'>\n",
      "3     <class 'float'>\n",
      "4     <class 'float'>\n",
      "           ...       \n",
      "87    <class 'float'>\n",
      "88    <class 'float'>\n",
      "89    <class 'float'>\n",
      "90    <class 'float'>\n",
      "91    <class 'float'>\n",
      "Name: Price, Length: 92, dtype: object\n",
      "0     <class 'float'>\n",
      "1     <class 'float'>\n",
      "2     <class 'float'>\n",
      "3     <class 'float'>\n",
      "4     <class 'float'>\n",
      "           ...       \n",
      "87    <class 'float'>\n",
      "88    <class 'float'>\n",
      "89    <class 'float'>\n",
      "90    <class 'float'>\n",
      "91    <class 'float'>\n",
      "Name: Zestimate, Length: 92, dtype: object\n"
     ]
    }
   ],
   "source": [
    "mask = df.applymap(lambda x: x is None)\n",
    "cols = df.columns[(mask).any()]\n",
    "for col in df[cols]:\n",
    "    df.loc[mask[col], col] = ''\n",
    "\n",
    "for col in df[['Beds', 'Bathrooms', 'Sqft', 'ListingAge', 'Views', 'Saves', 'Price', 'Zestimate']]:\n",
    "    df[col] = df[col].str.replace(',','')\n",
    "    df[col] = df[col].str.replace('$','')\n",
    "    df[col] = pd.to_numeric(df[col])\n",
    "    print(df[col].apply(type))"
   ]
  },
  {
   "cell_type": "markdown",
   "metadata": {},
   "source": [
    "#### numeric columns are now prepped for analysis"
   ]
  },
  {
   "cell_type": "code",
   "execution_count": 109,
   "metadata": {},
   "outputs": [
    {
     "data": {
      "text/html": [
       "<div>\n",
       "<style scoped>\n",
       "    .dataframe tbody tr th:only-of-type {\n",
       "        vertical-align: middle;\n",
       "    }\n",
       "\n",
       "    .dataframe tbody tr th {\n",
       "        vertical-align: top;\n",
       "    }\n",
       "\n",
       "    .dataframe thead th {\n",
       "        text-align: right;\n",
       "    }\n",
       "</style>\n",
       "<table border=\"1\" class=\"dataframe\">\n",
       "  <thead>\n",
       "    <tr style=\"text-align: right;\">\n",
       "      <th></th>\n",
       "      <th>Beds</th>\n",
       "      <th>Bathrooms</th>\n",
       "      <th>Sqft</th>\n",
       "      <th>ListingAge</th>\n",
       "      <th>Views</th>\n",
       "      <th>Saves</th>\n",
       "      <th>Price</th>\n",
       "      <th>Zestimate</th>\n",
       "    </tr>\n",
       "  </thead>\n",
       "  <tbody>\n",
       "    <tr>\n",
       "      <td>count</td>\n",
       "      <td>82.000000</td>\n",
       "      <td>89.000000</td>\n",
       "      <td>89.000000</td>\n",
       "      <td>91.000000</td>\n",
       "      <td>91.000000</td>\n",
       "      <td>91.000000</td>\n",
       "      <td>8.700000e+01</td>\n",
       "      <td>8.800000e+01</td>\n",
       "    </tr>\n",
       "    <tr>\n",
       "      <td>mean</td>\n",
       "      <td>2.780488</td>\n",
       "      <td>2.325843</td>\n",
       "      <td>1962.179775</td>\n",
       "      <td>53.241758</td>\n",
       "      <td>2146.329670</td>\n",
       "      <td>42.934066</td>\n",
       "      <td>2.906336e+06</td>\n",
       "      <td>2.387608e+06</td>\n",
       "    </tr>\n",
       "    <tr>\n",
       "      <td>std</td>\n",
       "      <td>1.379071</td>\n",
       "      <td>1.544972</td>\n",
       "      <td>2002.515609</td>\n",
       "      <td>66.912105</td>\n",
       "      <td>1778.464144</td>\n",
       "      <td>43.471268</td>\n",
       "      <td>4.151220e+06</td>\n",
       "      <td>2.880340e+06</td>\n",
       "    </tr>\n",
       "    <tr>\n",
       "      <td>min</td>\n",
       "      <td>1.000000</td>\n",
       "      <td>1.000000</td>\n",
       "      <td>409.000000</td>\n",
       "      <td>1.000000</td>\n",
       "      <td>19.000000</td>\n",
       "      <td>0.000000</td>\n",
       "      <td>1.968420e+05</td>\n",
       "      <td>1.200000e+00</td>\n",
       "    </tr>\n",
       "    <tr>\n",
       "      <td>25%</td>\n",
       "      <td>2.000000</td>\n",
       "      <td>1.000000</td>\n",
       "      <td>1000.000000</td>\n",
       "      <td>7.000000</td>\n",
       "      <td>405.500000</td>\n",
       "      <td>6.000000</td>\n",
       "      <td>9.590000e+05</td>\n",
       "      <td>9.311775e+05</td>\n",
       "    </tr>\n",
       "    <tr>\n",
       "      <td>50%</td>\n",
       "      <td>3.000000</td>\n",
       "      <td>2.000000</td>\n",
       "      <td>1368.000000</td>\n",
       "      <td>15.000000</td>\n",
       "      <td>2057.000000</td>\n",
       "      <td>32.000000</td>\n",
       "      <td>1.399000e+06</td>\n",
       "      <td>1.377894e+06</td>\n",
       "    </tr>\n",
       "    <tr>\n",
       "      <td>75%</td>\n",
       "      <td>3.000000</td>\n",
       "      <td>3.000000</td>\n",
       "      <td>2198.000000</td>\n",
       "      <td>88.500000</td>\n",
       "      <td>3329.500000</td>\n",
       "      <td>69.000000</td>\n",
       "      <td>2.437500e+06</td>\n",
       "      <td>2.203159e+06</td>\n",
       "    </tr>\n",
       "    <tr>\n",
       "      <td>max</td>\n",
       "      <td>7.000000</td>\n",
       "      <td>11.000000</td>\n",
       "      <td>16000.000000</td>\n",
       "      <td>307.000000</td>\n",
       "      <td>7311.000000</td>\n",
       "      <td>197.000000</td>\n",
       "      <td>2.750000e+07</td>\n",
       "      <td>1.307252e+07</td>\n",
       "    </tr>\n",
       "  </tbody>\n",
       "</table>\n",
       "</div>"
      ],
      "text/plain": [
       "            Beds  Bathrooms          Sqft  ListingAge        Views       Saves         Price     Zestimate\n",
       "count  82.000000  89.000000     89.000000   91.000000    91.000000   91.000000  8.700000e+01  8.800000e+01\n",
       "mean    2.780488   2.325843   1962.179775   53.241758  2146.329670   42.934066  2.906336e+06  2.387608e+06\n",
       "std     1.379071   1.544972   2002.515609   66.912105  1778.464144   43.471268  4.151220e+06  2.880340e+06\n",
       "min     1.000000   1.000000    409.000000    1.000000    19.000000    0.000000  1.968420e+05  1.200000e+00\n",
       "25%     2.000000   1.000000   1000.000000    7.000000   405.500000    6.000000  9.590000e+05  9.311775e+05\n",
       "50%     3.000000   2.000000   1368.000000   15.000000  2057.000000   32.000000  1.399000e+06  1.377894e+06\n",
       "75%     3.000000   3.000000   2198.000000   88.500000  3329.500000   69.000000  2.437500e+06  2.203159e+06\n",
       "max     7.000000  11.000000  16000.000000  307.000000  7311.000000  197.000000  2.750000e+07  1.307252e+07"
      ]
     },
     "execution_count": 109,
     "metadata": {},
     "output_type": "execute_result"
    }
   ],
   "source": [
    "df.describe()"
   ]
  },
  {
   "cell_type": "markdown",
   "metadata": {},
   "source": [
    "#### summary statistics for Price by SF Neighborhood"
   ]
  },
  {
   "cell_type": "code",
   "execution_count": 137,
   "metadata": {},
   "outputs": [
    {
     "name": "stdout",
     "output_type": "stream",
     "text": [
      "                           Price                      \n",
      "                             min        max       mean\n",
      "Neighborhood                                          \n",
      "Cow Hollow             1200000.0 27500000.0 14350000.0\n",
      "Presidio Heights      13750000.0 13750000.0 13750000.0\n",
      "Nob Hill              12900000.0 12900000.0 12900000.0\n",
      "South of Market        3715000.0 14000000.0  9538333.3\n",
      "Rincon Hill             699000.0 11495000.0  6352600.0\n",
      "Marina                 5500000.0  5500000.0  5500000.0\n",
      "Russian Hill           1690000.0 11995000.0  5395000.0\n",
      "Mint Hill              4695000.0  4695000.0  4695000.0\n",
      "Clarendon Heights      4375000.0  4375000.0  4375000.0\n",
      "Eureka Valley          1688900.0  5495000.0  3561300.0\n",
      "Potrero Hill           3395000.0  3395000.0  3395000.0\n",
      "Bernal Heights         3100000.0  3100000.0  3100000.0\n",
      "St. Francis Wood       2878000.0  2878000.0  2878000.0\n",
      "Mission Bay             769000.0  3700000.0  2263666.7\n",
      "Cole Valley            1995000.0  1995000.0  1995000.0\n",
      "Laguna Honda           1995000.0  1995000.0  1995000.0\n",
      "Outer Richmond         1495000.0  2188000.0  1927666.7\n",
      "Financial District      950000.0  4750000.0  1903125.0\n",
      "Lower Pacific Heights  1850000.0  1850000.0  1850000.0\n",
      "Parkside               1650000.0  1850000.0  1783333.3\n",
      "Buena Vista            1295000.0  1791000.0  1543000.0\n",
      "Stonestown             1450000.0  1450000.0  1450000.0\n",
      "Mission                1249000.0  1399000.0  1324000.0\n",
      "Noe Valley              541517.0  2071000.0  1306258.5\n",
      "Outer Sunset           1098000.0  1475000.0  1286500.0\n",
      "Visitacion Valley      1250000.0  1250000.0  1250000.0\n",
      "Sutro Heights          1095000.0  1288000.0  1191500.0\n",
      "Forest Knolls          1098000.0  1098000.0  1098000.0\n",
      "Crocker Amazon         1080000.0  1080000.0  1080000.0\n",
      "Hunters Point           785000.0  1255000.0   991000.0\n",
      "Inner Richmond          968000.0   968000.0   968000.0\n",
      "Excelsior               950000.0   950000.0   950000.0\n",
      "Dogpatch                674000.0  1193000.0   939400.0\n",
      "Ingleside               899888.0   899888.0   899888.0\n",
      "Inner Sunset            899000.0   899000.0   899000.0\n",
      "Cathedral Hill          859000.0   859000.0   859000.0\n",
      "Bayview                 799000.0   799000.0   799000.0\n",
      "Candlestick Point SRA   749900.0   749900.0   749900.0\n",
      "Telegraph Hill          659900.0   659900.0   659900.0\n",
      "Civic Center            575000.0   575000.0   575000.0\n",
      "Silver Terrace          196842.0   900000.0   548421.0\n",
      "Diamond Heights         278304.0   278304.0   278304.0\n",
      "                             nan        nan        nan\n",
      "Golden Gate Heights          nan        nan        nan\n"
     ]
    }
   ],
   "source": [
    "pd.set_option('display.float_format', lambda x: '%.1f' % x)\n",
    "\n",
    "group = df.groupby('Neighborhood').agg({'Price': ['min', 'max', 'mean']})\n",
    "group = group.sort_values(by=[('Price', 'mean')], ascending=False)\n",
    "print(group)"
   ]
  },
  {
   "cell_type": "markdown",
   "metadata": {},
   "source": [
    "#### distributions for numeric features"
   ]
  },
  {
   "cell_type": "code",
   "execution_count": 142,
   "metadata": {},
   "outputs": [
    {
     "data": {
      "image/png": "[encoded data removed]",
      "text/plain": [
       "<Figure size 432x288 with 1 Axes>"
      ]
     },
     "metadata": {
      "needs_background": "light"
     },
     "output_type": "display_data"
    },
    {
     "data": {
      "image/png": "[encoded data removed]",
      "text/plain": [
       "<Figure size 432x288 with 1 Axes>"
      ]
     },
     "metadata": {
      "needs_background": "light"
     },
     "output_type": "display_data"
    },
    {
     "data": {
      "image/png": "[encoded data removed]",
      "text/plain": [
       "<Figure size 432x288 with 1 Axes>"
      ]
     },
     "metadata": {
      "needs_background": "light"
     },
     "output_type": "display_data"
    },
    {
     "data": {
      "image/png": "[encoded data removed]",
      "text/plain": [
       "<Figure size 432x288 with 1 Axes>"
      ]
     },
     "metadata": {
      "needs_background": "light"
     },
     "output_type": "display_data"
    },
    {
     "data": {
      "image/png": "[encoded data removed]",
      "text/plain": [
       "<Figure size 432x288 with 1 Axes>"
      ]
     },
     "metadata": {
      "needs_background": "light"
     },
     "output_type": "display_data"
    },
    {
     "data": {
      "image/png": "[encoded data removed]",
      "text/plain": [
       "<Figure size 432x288 with 1 Axes>"
      ]
     },
     "metadata": {
      "needs_background": "light"
     },
     "output_type": "display_data"
    },
    {
     "data": {
      "image/png": "[encoded data removed]",
      "text/plain": [
       "<Figure size 432x288 with 1 Axes>"
      ]
     },
     "metadata": {
      "needs_background": "light"
     },
     "output_type": "display_data"
    },
    {
     "data": {
      "image/png": "[encoded data removed]",
      "text/plain": [
       "<Figure size 432x288 with 1 Axes>"
      ]
     },
     "metadata": {
      "needs_background": "light"
     },
     "output_type": "display_data"
    }
   ],
   "source": [
    "import matplotlib.pyplot as plt\n",
    "\n",
    "for col in df[['Beds', 'Bathrooms', 'Sqft', 'ListingAge', 'Views', 'Saves', 'Price', 'Zestimate']]:\n",
    "    df.hist(column=col)"
   ]
  }
 ],
 "metadata": {
  "kernelspec": {
   "display_name": "Python 3",
   "language": "python",
   "name": "python3"
  },
  "language_info": {
   "codemirror_mode": {
    "name": "ipython",
    "version": 3
   },
   "file_extension": ".py",
   "mimetype": "text/x-python",
   "name": "python",
   "nbconvert_exporter": "python",
   "pygments_lexer": "ipython3",
   "version": "3.7.4"
  }
 },
 "nbformat": 4,
 "nbformat_minor": 4
}
